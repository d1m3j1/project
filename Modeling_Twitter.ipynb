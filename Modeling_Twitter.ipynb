{
  "nbformat": 4,
  "nbformat_minor": 0,
  "metadata": {
    "colab": {
      "name": "Modeling_Twitter.ipynb",
      "provenance": [],
      "collapsed_sections": []
    },
    "kernelspec": {
      "display_name": "Python 3",
      "name": "python3"
    },
    "language_info": {
      "name": "python"
    }
  },
  "cells": [
    {
      "cell_type": "markdown",
      "metadata": {
        "id": "XwFOba1pbdVc"
      },
      "source": [
        "## **Objective **\n",
        "### Social Media Tweet Analysis on Twitter Dataset\n",
        "*   Topic Modeling on Twitter Dataset\n",
        "\n",
        "\n",
        "*   Reference for [Topic modeling ](https://https://towardsdatascience.com/evaluate-topic-model-in-python-latent-dirichlet-allocation-lda-7d57484bb5d0)\n",
        "\n",
        "*   Sentiment analysis on Twitter Dataset\n",
        "\n"
      ]
    },
    {
      "cell_type": "markdown",
      "metadata": {
        "id": "SN9Lla4UO1SS"
      },
      "source": [
        "\n",
        "\n",
        "\n",
        "\n",
        "\n",
        "### **Business understanding**"
      ]
    },
    {
      "cell_type": "markdown",
      "metadata": {
        "id": "Dbu9rgu4iSTe"
      },
      "source": [
        "### **Topic modeling**\n",
        "Topic modeling is a type of statistical model for discovering the abstract \"topics\" that occur in a collection of texts.\n",
        " It is an unsupervised approach used for finding and observing the bunch of words (called “topics”) in large clusters of texts.\n",
        " **Topic models** are built around the idea that the semantics of our document are actually being governed by some hidden, or “latent,” variables that we are not observing.\n",
        "\n",
        "*   Our task here is to discover abstract topics from tweets.\n",
        "\n",
        "\n",
        "### **Sentiment analysis**\n",
        " It is used in social media monitoring, allowing businesses to gain insights about how customers feel about certain topics, and detect urgent issues in real time before they spiral out of control.\n",
        "\n",
        "\n",
        "*   Our task here is to classify a tweet as a positive or negative tweet sentiment wise.\n",
        "\n",
        "\n"
      ]
    },
    {
      "cell_type": "code",
      "metadata": {
        "id": "Vsmv5wkz0VFu"
      },
      "source": [
        ""
      ],
      "execution_count": null,
      "outputs": []
    },
    {
      "cell_type": "markdown",
      "metadata": {
        "id": "REuN7elQ0Vvr"
      },
      "source": [
        "**Topic modeling **is a machine learning technique that automatically analyzes text data to determine cluster words for a set of documents. \n",
        "\n",
        "\n",
        "*   unsupervised machine learning because it doesn’t require a predefined list of tags or training data that’s been previously classified by humans.\n",
        "*   doesn’t require training, it’s a quick and easy way to start analyzing your data."
      ]
    },
    {
      "cell_type": "markdown",
      "metadata": {
        "id": "hQuEQFUIy2_3"
      },
      "source": [
        "## Data Understanding\n",
        "### Loading necessary packages"
      ]
    },
    {
      "cell_type": "code",
      "source": [
        "!pip install pyLDAvis"
      ],
      "metadata": {
        "colab": {
          "base_uri": "https://localhost:8080/"
        },
        "id": "8VSbF927s9IW",
        "outputId": "fbe54e29-8b36-4c41-dbdc-f16671515777"
      },
      "execution_count": 58,
      "outputs": [
        {
          "output_type": "stream",
          "name": "stdout",
          "text": [
            "Requirement already satisfied: pyLDAvis in /usr/local/lib/python3.7/dist-packages (3.3.1)\n",
            "Requirement already satisfied: joblib in /usr/local/lib/python3.7/dist-packages (from pyLDAvis) (1.1.0)\n",
            "Requirement already satisfied: pandas>=1.2.0 in /usr/local/lib/python3.7/dist-packages (from pyLDAvis) (1.3.5)\n",
            "Requirement already satisfied: numpy>=1.20.0 in /usr/local/lib/python3.7/dist-packages (from pyLDAvis) (1.21.6)\n",
            "Requirement already satisfied: sklearn in /usr/local/lib/python3.7/dist-packages (from pyLDAvis) (0.0)\n",
            "Requirement already satisfied: scipy in /usr/local/lib/python3.7/dist-packages (from pyLDAvis) (1.4.1)\n",
            "Requirement already satisfied: setuptools in /usr/local/lib/python3.7/dist-packages (from pyLDAvis) (57.4.0)\n",
            "Requirement already satisfied: scikit-learn in /usr/local/lib/python3.7/dist-packages (from pyLDAvis) (1.0.2)\n",
            "Requirement already satisfied: funcy in /usr/local/lib/python3.7/dist-packages (from pyLDAvis) (1.17)\n",
            "Requirement already satisfied: jinja2 in /usr/local/lib/python3.7/dist-packages (from pyLDAvis) (2.11.3)\n",
            "Requirement already satisfied: gensim in /usr/local/lib/python3.7/dist-packages (from pyLDAvis) (3.6.0)\n",
            "Requirement already satisfied: numexpr in /usr/local/lib/python3.7/dist-packages (from pyLDAvis) (2.8.1)\n",
            "Requirement already satisfied: future in /usr/local/lib/python3.7/dist-packages (from pyLDAvis) (0.16.0)\n",
            "Requirement already satisfied: pytz>=2017.3 in /usr/local/lib/python3.7/dist-packages (from pandas>=1.2.0->pyLDAvis) (2022.1)\n",
            "Requirement already satisfied: python-dateutil>=2.7.3 in /usr/local/lib/python3.7/dist-packages (from pandas>=1.2.0->pyLDAvis) (2.8.2)\n",
            "Requirement already satisfied: six>=1.5 in /usr/local/lib/python3.7/dist-packages (from python-dateutil>=2.7.3->pandas>=1.2.0->pyLDAvis) (1.15.0)\n",
            "Requirement already satisfied: smart-open>=1.2.1 in /usr/local/lib/python3.7/dist-packages (from gensim->pyLDAvis) (5.2.1)\n",
            "Requirement already satisfied: MarkupSafe>=0.23 in /usr/local/lib/python3.7/dist-packages (from jinja2->pyLDAvis) (2.0.1)\n",
            "Requirement already satisfied: packaging in /usr/local/lib/python3.7/dist-packages (from numexpr->pyLDAvis) (21.3)\n",
            "Requirement already satisfied: pyparsing!=3.0.5,>=2.0.2 in /usr/local/lib/python3.7/dist-packages (from packaging->numexpr->pyLDAvis) (3.0.8)\n",
            "Requirement already satisfied: threadpoolctl>=2.0.0 in /usr/local/lib/python3.7/dist-packages (from scikit-learn->pyLDAvis) (3.1.0)\n"
          ]
        }
      ]
    },
    {
      "cell_type": "code",
      "metadata": {
        "id": "CTUmMBAOyt-g"
      },
      "source": [
        "import warnings\n",
        "warnings.filterwarnings('ignore')\n",
        "from nltk.corpus import stopwords\n",
        "import gensim\n",
        "import nltk\n",
        "import plotly.express as px\n",
        "import plotly.graph_objs as go\n",
        "import gensim.corpora as corpora\n",
        "from gensim.utils import simple_preprocess\n",
        "from gensim.models import CoherenceModel\n",
        "import spacy\n",
        "import matplotlib.pyplot as plt\n",
        "import seaborn as sns\n",
        "from wordcloud import STOPWORDS,WordCloud\n",
        "import gensim\n",
        "from gensim.models import CoherenceModel\n",
        "from gensim import corpora\n",
        "import pandas as pd\n",
        "from pprint import pprint\n",
        "import string\n",
        "import os\n",
        "import re"
      ],
      "execution_count": 1,
      "outputs": []
    },
    {
      "cell_type": "markdown",
      "metadata": {
        "id": "J4_9Y5q6zOK-"
      },
      "source": [
        "Data acquisition\n",
        "\n",
        "For this example we have two option for data acquisition:\n",
        "\n",
        "*   You can download Twitter dataset directly from Twitter\n",
        "*   By registering as a developer using this link [Here](https://developer.twitter.com/en) \n",
        "\n",
        "*   Or you can use downloaded data found at Week0/data/cleaned_fintech_data.csv \n",
        "\n"
      ]
    },
    {
      "cell_type": "code",
      "metadata": {
        "colab": {
          "base_uri": "https://localhost:8080/"
        },
        "id": "2wFXGgT1xe80",
        "outputId": "1870f229-50fc-43ee-9ae3-14479fb73989"
      },
      "source": [
        "from google.colab import drive\n",
        "drive.mount('/content/drive')"
      ],
      "execution_count": null,
      "outputs": [
        {
          "output_type": "stream",
          "text": [
            "Mounted at /content/drive\n"
          ],
          "name": "stdout"
        }
      ]
    },
    {
      "cell_type": "code",
      "metadata": {
        "id": "BQC4abqKkjIO"
      },
      "source": [
        "#data loader class\n",
        "class DataLoader:\n",
        "  def __init__(self,dir_name,file_name):\n",
        "    self.dir_name=dir_name\n",
        "    self.file_name = file_name\n",
        "    \n",
        " \n",
        "  def read_csv(self):\n",
        "    os.chdir(self.dir_name)\n",
        "    tweets_df=pd.read_csv(self.file_name)\n",
        "    return tweets_df\n",
        "  \n",
        "    "
      ],
      "execution_count": 2,
      "outputs": []
    },
    {
      "cell_type": "code",
      "metadata": {
        "id": "U3mUs9wfqbJJ"
      },
      "source": [
        "#object creation\n",
        "DataLoader_obj= DataLoader('/content/','processed_tweet_data.csv')\n"
      ],
      "execution_count": 74,
      "outputs": []
    },
    {
      "cell_type": "code",
      "metadata": {
        "colab": {
          "base_uri": "https://localhost:8080/",
          "height": 49
        },
        "id": "aE9Bs0UxrG5z",
        "outputId": "9796e618-498a-4135-bc6e-f528107f4fd9"
      },
      "source": [
        "tweets_df=DataLoader_obj.read_csv()\n",
        "tweets_df.dropna()\n"
      ],
      "execution_count": 75,
      "outputs": [
        {
          "output_type": "execute_result",
          "data": {
            "text/plain": [
              "Empty DataFrame\n",
              "Columns: [statuses_count, created_at, source, original_text, polarity, subjectivity, lang, favorite_count, retweet_count, screen_name, followers_count, friends_count, sensitivity, hashtags, user_mentions, place]\n",
              "Index: []"
            ],
            "text/html": [
              "\n",
              "  <div id=\"df-849f7608-d71f-4a36-8085-f77a980f1936\">\n",
              "    <div class=\"colab-df-container\">\n",
              "      <div>\n",
              "<style scoped>\n",
              "    .dataframe tbody tr th:only-of-type {\n",
              "        vertical-align: middle;\n",
              "    }\n",
              "\n",
              "    .dataframe tbody tr th {\n",
              "        vertical-align: top;\n",
              "    }\n",
              "\n",
              "    .dataframe thead th {\n",
              "        text-align: right;\n",
              "    }\n",
              "</style>\n",
              "<table border=\"1\" class=\"dataframe\">\n",
              "  <thead>\n",
              "    <tr style=\"text-align: right;\">\n",
              "      <th></th>\n",
              "      <th>statuses_count</th>\n",
              "      <th>created_at</th>\n",
              "      <th>source</th>\n",
              "      <th>original_text</th>\n",
              "      <th>polarity</th>\n",
              "      <th>subjectivity</th>\n",
              "      <th>lang</th>\n",
              "      <th>favorite_count</th>\n",
              "      <th>retweet_count</th>\n",
              "      <th>screen_name</th>\n",
              "      <th>followers_count</th>\n",
              "      <th>friends_count</th>\n",
              "      <th>sensitivity</th>\n",
              "      <th>hashtags</th>\n",
              "      <th>user_mentions</th>\n",
              "      <th>place</th>\n",
              "    </tr>\n",
              "  </thead>\n",
              "  <tbody>\n",
              "  </tbody>\n",
              "</table>\n",
              "</div>\n",
              "      <button class=\"colab-df-convert\" onclick=\"convertToInteractive('df-849f7608-d71f-4a36-8085-f77a980f1936')\"\n",
              "              title=\"Convert this dataframe to an interactive table.\"\n",
              "              style=\"display:none;\">\n",
              "        \n",
              "  <svg xmlns=\"http://www.w3.org/2000/svg\" height=\"24px\"viewBox=\"0 0 24 24\"\n",
              "       width=\"24px\">\n",
              "    <path d=\"M0 0h24v24H0V0z\" fill=\"none\"/>\n",
              "    <path d=\"M18.56 5.44l.94 2.06.94-2.06 2.06-.94-2.06-.94-.94-2.06-.94 2.06-2.06.94zm-11 1L8.5 8.5l.94-2.06 2.06-.94-2.06-.94L8.5 2.5l-.94 2.06-2.06.94zm10 10l.94 2.06.94-2.06 2.06-.94-2.06-.94-.94-2.06-.94 2.06-2.06.94z\"/><path d=\"M17.41 7.96l-1.37-1.37c-.4-.4-.92-.59-1.43-.59-.52 0-1.04.2-1.43.59L10.3 9.45l-7.72 7.72c-.78.78-.78 2.05 0 2.83L4 21.41c.39.39.9.59 1.41.59.51 0 1.02-.2 1.41-.59l7.78-7.78 2.81-2.81c.8-.78.8-2.07 0-2.86zM5.41 20L4 18.59l7.72-7.72 1.47 1.35L5.41 20z\"/>\n",
              "  </svg>\n",
              "      </button>\n",
              "      \n",
              "  <style>\n",
              "    .colab-df-container {\n",
              "      display:flex;\n",
              "      flex-wrap:wrap;\n",
              "      gap: 12px;\n",
              "    }\n",
              "\n",
              "    .colab-df-convert {\n",
              "      background-color: #E8F0FE;\n",
              "      border: none;\n",
              "      border-radius: 50%;\n",
              "      cursor: pointer;\n",
              "      display: none;\n",
              "      fill: #1967D2;\n",
              "      height: 32px;\n",
              "      padding: 0 0 0 0;\n",
              "      width: 32px;\n",
              "    }\n",
              "\n",
              "    .colab-df-convert:hover {\n",
              "      background-color: #E2EBFA;\n",
              "      box-shadow: 0px 1px 2px rgba(60, 64, 67, 0.3), 0px 1px 3px 1px rgba(60, 64, 67, 0.15);\n",
              "      fill: #174EA6;\n",
              "    }\n",
              "\n",
              "    [theme=dark] .colab-df-convert {\n",
              "      background-color: #3B4455;\n",
              "      fill: #D2E3FC;\n",
              "    }\n",
              "\n",
              "    [theme=dark] .colab-df-convert:hover {\n",
              "      background-color: #434B5C;\n",
              "      box-shadow: 0px 1px 3px 1px rgba(0, 0, 0, 0.15);\n",
              "      filter: drop-shadow(0px 1px 2px rgba(0, 0, 0, 0.3));\n",
              "      fill: #FFFFFF;\n",
              "    }\n",
              "  </style>\n",
              "\n",
              "      <script>\n",
              "        const buttonEl =\n",
              "          document.querySelector('#df-849f7608-d71f-4a36-8085-f77a980f1936 button.colab-df-convert');\n",
              "        buttonEl.style.display =\n",
              "          google.colab.kernel.accessAllowed ? 'block' : 'none';\n",
              "\n",
              "        async function convertToInteractive(key) {\n",
              "          const element = document.querySelector('#df-849f7608-d71f-4a36-8085-f77a980f1936');\n",
              "          const dataTable =\n",
              "            await google.colab.kernel.invokeFunction('convertToInteractive',\n",
              "                                                     [key], {});\n",
              "          if (!dataTable) return;\n",
              "\n",
              "          const docLinkHtml = 'Like what you see? Visit the ' +\n",
              "            '<a target=\"_blank\" href=https://colab.research.google.com/notebooks/data_table.ipynb>data table notebook</a>'\n",
              "            + ' to learn more about interactive tables.';\n",
              "          element.innerHTML = '';\n",
              "          dataTable['output_type'] = 'display_data';\n",
              "          await google.colab.output.renderOutput(dataTable, element);\n",
              "          const docLink = document.createElement('div');\n",
              "          docLink.innerHTML = docLinkHtml;\n",
              "          element.appendChild(docLink);\n",
              "        }\n",
              "      </script>\n",
              "    </div>\n",
              "  </div>\n",
              "  "
            ]
          },
          "metadata": {},
          "execution_count": 75
        }
      ]
    },
    {
      "cell_type": "code",
      "source": [
        "tweets_df.head()"
      ],
      "metadata": {
        "colab": {
          "base_uri": "https://localhost:8080/",
          "height": 250
        },
        "id": "y4WANVsyxNA9",
        "outputId": "6ca7ac49-85ca-4a42-f7ca-e33de7177bb0"
      },
      "execution_count": null,
      "outputs": [
        {
          "output_type": "execute_result",
          "data": {
            "text/plain": [
              "  statuses_count                      created_at  \\\n",
              "0             40  Fri Apr 22 22:20:18 +0000 2022   \n",
              "1             40  Fri Apr 22 22:19:16 +0000 2022   \n",
              "2             40  Fri Apr 22 22:17:28 +0000 2022   \n",
              "3             40  Fri Apr 22 22:17:20 +0000 2022   \n",
              "4             40  Fri Apr 22 22:13:15 +0000 2022   \n",
              "\n",
              "                                              source  \\\n",
              "0  <a href=\"http://twitter.com/download/android\" ...   \n",
              "1  <a href=\"http://twitter.com/download/android\" ...   \n",
              "2  <a href=\"http://twitter.com/download/android\" ...   \n",
              "3  <a href=\"http://twitter.com/download/android\" ...   \n",
              "4  <a href=\"http://twitter.com/download/android\" ...   \n",
              "\n",
              "                                       original_text  polarity  subjectivity  \\\n",
              "0  RT @nikitheblogger: Irre: Annalena Baerbock sa...       0.0           0.0   \n",
              "1  RT @sagt_mit: Merkel schaffte es in 1 Jahr 1 M...       0.0           0.0   \n",
              "2  RT @Kryptonoun: @WRi007 Pharma in Lebensmittel...       0.0           0.0   \n",
              "3  RT @WRi007: Die #Deutschen sind ein braves Vol...       0.0           0.0   \n",
              "4  RT @RolandTichy: Baerbock verkündet mal so neb...       0.0           0.0   \n",
              "\n",
              "  lang  favorite_count  retweet_count   screen_name followers_count  \\\n",
              "0   de          2356.0          355.0  McMc74078966               3   \n",
              "1   de          1985.0          505.0  McMc74078966               3   \n",
              "2   de            16.0            4.0  McMc74078966               3   \n",
              "3   de          1242.0          332.0  McMc74078966               3   \n",
              "4   de          1329.0          386.0  McMc74078966               3   \n",
              "\n",
              "  friends_count sensitivity                                  hashtags  \\\n",
              "0            12         NaN                                       NaN   \n",
              "1            12         NaN                                       NaN   \n",
              "2            12         NaN                                       NaN   \n",
              "3            12         NaN  Deutschen Spritpreisen inflation Abgaben   \n",
              "4            12         NaN                                       NaN   \n",
              "\n",
              "       user_mentions place  \n",
              "0     nikitheblogger   NaN  \n",
              "1           sagt_mit   NaN  \n",
              "2  Kryptonoun WRi007   NaN  \n",
              "3             WRi007   NaN  \n",
              "4        RolandTichy   NaN  "
            ],
            "text/html": [
              "\n",
              "  <div id=\"df-37f21937-bf1b-4033-af7c-a21d804bf0e8\">\n",
              "    <div class=\"colab-df-container\">\n",
              "      <div>\n",
              "<style scoped>\n",
              "    .dataframe tbody tr th:only-of-type {\n",
              "        vertical-align: middle;\n",
              "    }\n",
              "\n",
              "    .dataframe tbody tr th {\n",
              "        vertical-align: top;\n",
              "    }\n",
              "\n",
              "    .dataframe thead th {\n",
              "        text-align: right;\n",
              "    }\n",
              "</style>\n",
              "<table border=\"1\" class=\"dataframe\">\n",
              "  <thead>\n",
              "    <tr style=\"text-align: right;\">\n",
              "      <th></th>\n",
              "      <th>statuses_count</th>\n",
              "      <th>created_at</th>\n",
              "      <th>source</th>\n",
              "      <th>original_text</th>\n",
              "      <th>polarity</th>\n",
              "      <th>subjectivity</th>\n",
              "      <th>lang</th>\n",
              "      <th>favorite_count</th>\n",
              "      <th>retweet_count</th>\n",
              "      <th>screen_name</th>\n",
              "      <th>followers_count</th>\n",
              "      <th>friends_count</th>\n",
              "      <th>sensitivity</th>\n",
              "      <th>hashtags</th>\n",
              "      <th>user_mentions</th>\n",
              "      <th>place</th>\n",
              "    </tr>\n",
              "  </thead>\n",
              "  <tbody>\n",
              "    <tr>\n",
              "      <th>0</th>\n",
              "      <td>40</td>\n",
              "      <td>Fri Apr 22 22:20:18 +0000 2022</td>\n",
              "      <td>&lt;a href=\"http://twitter.com/download/android\" ...</td>\n",
              "      <td>RT @nikitheblogger: Irre: Annalena Baerbock sa...</td>\n",
              "      <td>0.0</td>\n",
              "      <td>0.0</td>\n",
              "      <td>de</td>\n",
              "      <td>2356.0</td>\n",
              "      <td>355.0</td>\n",
              "      <td>McMc74078966</td>\n",
              "      <td>3</td>\n",
              "      <td>12</td>\n",
              "      <td>NaN</td>\n",
              "      <td>NaN</td>\n",
              "      <td>nikitheblogger</td>\n",
              "      <td>NaN</td>\n",
              "    </tr>\n",
              "    <tr>\n",
              "      <th>1</th>\n",
              "      <td>40</td>\n",
              "      <td>Fri Apr 22 22:19:16 +0000 2022</td>\n",
              "      <td>&lt;a href=\"http://twitter.com/download/android\" ...</td>\n",
              "      <td>RT @sagt_mit: Merkel schaffte es in 1 Jahr 1 M...</td>\n",
              "      <td>0.0</td>\n",
              "      <td>0.0</td>\n",
              "      <td>de</td>\n",
              "      <td>1985.0</td>\n",
              "      <td>505.0</td>\n",
              "      <td>McMc74078966</td>\n",
              "      <td>3</td>\n",
              "      <td>12</td>\n",
              "      <td>NaN</td>\n",
              "      <td>NaN</td>\n",
              "      <td>sagt_mit</td>\n",
              "      <td>NaN</td>\n",
              "    </tr>\n",
              "    <tr>\n",
              "      <th>2</th>\n",
              "      <td>40</td>\n",
              "      <td>Fri Apr 22 22:17:28 +0000 2022</td>\n",
              "      <td>&lt;a href=\"http://twitter.com/download/android\" ...</td>\n",
              "      <td>RT @Kryptonoun: @WRi007 Pharma in Lebensmittel...</td>\n",
              "      <td>0.0</td>\n",
              "      <td>0.0</td>\n",
              "      <td>de</td>\n",
              "      <td>16.0</td>\n",
              "      <td>4.0</td>\n",
              "      <td>McMc74078966</td>\n",
              "      <td>3</td>\n",
              "      <td>12</td>\n",
              "      <td>NaN</td>\n",
              "      <td>NaN</td>\n",
              "      <td>Kryptonoun WRi007</td>\n",
              "      <td>NaN</td>\n",
              "    </tr>\n",
              "    <tr>\n",
              "      <th>3</th>\n",
              "      <td>40</td>\n",
              "      <td>Fri Apr 22 22:17:20 +0000 2022</td>\n",
              "      <td>&lt;a href=\"http://twitter.com/download/android\" ...</td>\n",
              "      <td>RT @WRi007: Die #Deutschen sind ein braves Vol...</td>\n",
              "      <td>0.0</td>\n",
              "      <td>0.0</td>\n",
              "      <td>de</td>\n",
              "      <td>1242.0</td>\n",
              "      <td>332.0</td>\n",
              "      <td>McMc74078966</td>\n",
              "      <td>3</td>\n",
              "      <td>12</td>\n",
              "      <td>NaN</td>\n",
              "      <td>Deutschen Spritpreisen inflation Abgaben</td>\n",
              "      <td>WRi007</td>\n",
              "      <td>NaN</td>\n",
              "    </tr>\n",
              "    <tr>\n",
              "      <th>4</th>\n",
              "      <td>40</td>\n",
              "      <td>Fri Apr 22 22:13:15 +0000 2022</td>\n",
              "      <td>&lt;a href=\"http://twitter.com/download/android\" ...</td>\n",
              "      <td>RT @RolandTichy: Baerbock verkündet mal so neb...</td>\n",
              "      <td>0.0</td>\n",
              "      <td>0.0</td>\n",
              "      <td>de</td>\n",
              "      <td>1329.0</td>\n",
              "      <td>386.0</td>\n",
              "      <td>McMc74078966</td>\n",
              "      <td>3</td>\n",
              "      <td>12</td>\n",
              "      <td>NaN</td>\n",
              "      <td>NaN</td>\n",
              "      <td>RolandTichy</td>\n",
              "      <td>NaN</td>\n",
              "    </tr>\n",
              "  </tbody>\n",
              "</table>\n",
              "</div>\n",
              "      <button class=\"colab-df-convert\" onclick=\"convertToInteractive('df-37f21937-bf1b-4033-af7c-a21d804bf0e8')\"\n",
              "              title=\"Convert this dataframe to an interactive table.\"\n",
              "              style=\"display:none;\">\n",
              "        \n",
              "  <svg xmlns=\"http://www.w3.org/2000/svg\" height=\"24px\"viewBox=\"0 0 24 24\"\n",
              "       width=\"24px\">\n",
              "    <path d=\"M0 0h24v24H0V0z\" fill=\"none\"/>\n",
              "    <path d=\"M18.56 5.44l.94 2.06.94-2.06 2.06-.94-2.06-.94-.94-2.06-.94 2.06-2.06.94zm-11 1L8.5 8.5l.94-2.06 2.06-.94-2.06-.94L8.5 2.5l-.94 2.06-2.06.94zm10 10l.94 2.06.94-2.06 2.06-.94-2.06-.94-.94-2.06-.94 2.06-2.06.94z\"/><path d=\"M17.41 7.96l-1.37-1.37c-.4-.4-.92-.59-1.43-.59-.52 0-1.04.2-1.43.59L10.3 9.45l-7.72 7.72c-.78.78-.78 2.05 0 2.83L4 21.41c.39.39.9.59 1.41.59.51 0 1.02-.2 1.41-.59l7.78-7.78 2.81-2.81c.8-.78.8-2.07 0-2.86zM5.41 20L4 18.59l7.72-7.72 1.47 1.35L5.41 20z\"/>\n",
              "  </svg>\n",
              "      </button>\n",
              "      \n",
              "  <style>\n",
              "    .colab-df-container {\n",
              "      display:flex;\n",
              "      flex-wrap:wrap;\n",
              "      gap: 12px;\n",
              "    }\n",
              "\n",
              "    .colab-df-convert {\n",
              "      background-color: #E8F0FE;\n",
              "      border: none;\n",
              "      border-radius: 50%;\n",
              "      cursor: pointer;\n",
              "      display: none;\n",
              "      fill: #1967D2;\n",
              "      height: 32px;\n",
              "      padding: 0 0 0 0;\n",
              "      width: 32px;\n",
              "    }\n",
              "\n",
              "    .colab-df-convert:hover {\n",
              "      background-color: #E2EBFA;\n",
              "      box-shadow: 0px 1px 2px rgba(60, 64, 67, 0.3), 0px 1px 3px 1px rgba(60, 64, 67, 0.15);\n",
              "      fill: #174EA6;\n",
              "    }\n",
              "\n",
              "    [theme=dark] .colab-df-convert {\n",
              "      background-color: #3B4455;\n",
              "      fill: #D2E3FC;\n",
              "    }\n",
              "\n",
              "    [theme=dark] .colab-df-convert:hover {\n",
              "      background-color: #434B5C;\n",
              "      box-shadow: 0px 1px 3px 1px rgba(0, 0, 0, 0.15);\n",
              "      filter: drop-shadow(0px 1px 2px rgba(0, 0, 0, 0.3));\n",
              "      fill: #FFFFFF;\n",
              "    }\n",
              "  </style>\n",
              "\n",
              "      <script>\n",
              "        const buttonEl =\n",
              "          document.querySelector('#df-37f21937-bf1b-4033-af7c-a21d804bf0e8 button.colab-df-convert');\n",
              "        buttonEl.style.display =\n",
              "          google.colab.kernel.accessAllowed ? 'block' : 'none';\n",
              "\n",
              "        async function convertToInteractive(key) {\n",
              "          const element = document.querySelector('#df-37f21937-bf1b-4033-af7c-a21d804bf0e8');\n",
              "          const dataTable =\n",
              "            await google.colab.kernel.invokeFunction('convertToInteractive',\n",
              "                                                     [key], {});\n",
              "          if (!dataTable) return;\n",
              "\n",
              "          const docLinkHtml = 'Like what you see? Visit the ' +\n",
              "            '<a target=\"_blank\" href=https://colab.research.google.com/notebooks/data_table.ipynb>data table notebook</a>'\n",
              "            + ' to learn more about interactive tables.';\n",
              "          element.innerHTML = '';\n",
              "          dataTable['output_type'] = 'display_data';\n",
              "          await google.colab.output.renderOutput(dataTable, element);\n",
              "          const docLink = document.createElement('div');\n",
              "          docLink.innerHTML = docLinkHtml;\n",
              "          element.appendChild(docLink);\n",
              "        }\n",
              "      </script>\n",
              "    </div>\n",
              "  </div>\n",
              "  "
            ]
          },
          "metadata": {},
          "execution_count": 5
        }
      ]
    },
    {
      "cell_type": "code",
      "source": [
        "tweets_df['lang'].unique()"
      ],
      "metadata": {
        "colab": {
          "base_uri": "https://localhost:8080/"
        },
        "id": "YBk2hl3NbKnq",
        "outputId": "b1ce88f2-f907-4f1b-cb1d-1e41f727f8a4"
      },
      "execution_count": null,
      "outputs": [
        {
          "output_type": "execute_result",
          "data": {
            "text/plain": [
              "array(['de', 'und', 'en', 'fr', 'hu', 'nl', 'lt', 'ro', 'pt', 'fi', 'ja',\n",
              "       'ar', 'in', 'tr', 'it', 'ca', 'ur', 'sl', 'hi', 'cs', 'es', 'pl',\n",
              "       'tl', 'ht', 'et', 'ru', 'da', 'no', 'uk', 'sv', 'cy', 'th', 'ko',\n",
              "       nan, 'Yujin_030901', 'zh', 'lv', 'te', 'ml', 'bn', 'GDSroy', 'mr',\n",
              "       'ShivaKJSP', 'eu', 'kn', 'or', 'ta', 'ne', 'gu', 'pa', 'fa', 'km',\n",
              "       'si'], dtype=object)"
            ]
          },
          "metadata": {},
          "execution_count": 6
        }
      ]
    },
    {
      "cell_type": "code",
      "source": [
        "# extract english rows and drop lang column with other remaining languages\n",
        "tweet_df_2 = tweets_df[tweets_df.lang == 'en'].drop('lang', axis=1).reset_index(drop = True)\n",
        "\n",
        "#check for the uniques values in locations columns \n",
        "tweet_df_2['place'].value_counts().head(30)"
      ],
      "metadata": {
        "colab": {
          "base_uri": "https://localhost:8080/"
        },
        "id": "eFr_bO4GbiS2",
        "outputId": "5b611159-7293-4aca-fb42-2aa6d4b5620f"
      },
      "execution_count": 76,
      "outputs": [
        {
          "output_type": "execute_result",
          "data": {
            "text/plain": [
              "India                      519\n",
              "United States              254\n",
              "Sri Lanka                  228\n",
              "London, England            195\n",
              "Canada                     193\n",
              "New Delhi                  177\n",
              "Mumbai                     144\n",
              "Mars                       143\n",
              "Kenya                      133\n",
              "Chennai, India             113\n",
              "Hyderabad, India           103\n",
              "San Francisco, CA          100\n",
              "Ireland                     98\n",
              "Boston, MA                  97\n",
              "Texas                       96\n",
              "United Kingdom              96\n",
              "London                      94\n",
              "Sydney, New South Wales     93\n",
              "Melbourne, Victoria         93\n",
              "South Africa                93\n",
              "Nairobi Kenya               93\n",
              "Bankura, India              92\n",
              "UK                          89\n",
              "Nairobi, Kenya              89\n",
              "Dallas, TX                  86\n",
              "Metaverse                   82\n",
              "New Delhi, India            80\n",
              "California, USA             76\n",
              "Mumbai, India               74\n",
              "England, United Kingdom     59\n",
              "Name: place, dtype: int64"
            ]
          },
          "metadata": {},
          "execution_count": 76
        }
      ]
    },
    {
      "cell_type": "code",
      "source": [
        "#Renaming necessary rows from the column\n",
        "def rename(first, second):\n",
        "  return tweet_df_2['place'].replace(first, second, inplace = True)\n",
        "\n",
        "rename('England, United Kingdom', 'United Kingdom')\n",
        "rename('London, England', 'United Kingdom')\n",
        "rename('London', 'United Kingdom')\n",
        "rename('London, UK', 'United Kingdom')\n",
        "rename('East London', 'United Kingdom')\n",
        "rename('England', 'United Kingdom')\n",
        "rename('UK', 'United Kingdom')\n",
        "rename('Texas, USA', 'United States')\n",
        "rename('Dallas, TX', 'United States')\n",
        "rename('Texas', 'United States')\n",
        "rename('us', 'United States')\n",
        "rename('USA', 'United States')\n",
        "rename('Boston, MA', 'United States')\n",
        "rename('San Francisco, CA', 'United States')\n",
        "rename('New York, NY', 'United States')\n",
        "rename('New York', 'United States')\n",
        "rename('San Diego, CA', 'United States')\n",
        "rename('New York, USA', 'United States')\n",
        "rename('Florida, USA', 'United States')\n",
        "rename('Los Angeles, CA', 'United States')\n",
        "rename('California, USA', 'United States')\n",
        "rename('Washington, DC', 'United States')\n",
        "rename('Chicago, IL', 'United States')\n",
        "rename('New Delhi, India', 'India')\n",
        "rename('Chennai, India', 'India')\n",
        "rename('Hyderabad, India', 'India')\n",
        "rename('Hyderabad, India', 'India')\n",
        "rename('Mumbai, INDIA', 'India')\n",
        "rename('Asansol, India', 'India')\n",
        "rename('Mumbai, India', 'India')\n",
        "rename('Madanapalle, India', 'India')\n",
        "rename('New Delhi', 'India')\n",
        "rename('Mumbai', 'India')\n",
        "rename('Bankura, India', 'India')\n",
        "rename('Nairobi, Kenya', 'Kenya')\n",
        "rename('Nairobi Kenya', 'Kenya')\n",
        "rename('Sydney, New South Wales', 'Australia')\n",
        "rename('Melbourne, Victoria', 'Australia')"
      ],
      "metadata": {
        "id": "4TtisnfYmvYU"
      },
      "execution_count": 77,
      "outputs": []
    },
    {
      "cell_type": "code",
      "source": [
        "tweet_df_2['place'].value_counts().head(30)"
      ],
      "metadata": {
        "colab": {
          "base_uri": "https://localhost:8080/"
        },
        "id": "UTUqI90-oUWw",
        "outputId": "6637272d-668d-480e-ba7c-bce9ce72b225"
      },
      "execution_count": 7,
      "outputs": [
        {
          "output_type": "execute_result",
          "data": {
            "text/plain": [
              "India                           1461\n",
              "United States                    839\n",
              "United Kingdom                   583\n",
              "Kenya                            315\n",
              "Sri Lanka                        228\n",
              "Canada                           193\n",
              "Australia                        186\n",
              "Mars                             143\n",
              "Ireland                           98\n",
              "South Africa                      93\n",
              "Metaverse                         82\n",
              "Boston                            50\n",
              "Burbank, CA                       50\n",
              "Saddle Hills County, Alberta      50\n",
              "Abuja & London                    50\n",
              "Instagram: pastexpirycom          50\n",
              "Scottsdale, Arizona               50\n",
              "Limassol                          50\n",
              "Get a FREE demo ⬇️⬇️              50\n",
              "The Stock Market                  50\n",
              "Michigan, USA                     50\n",
              "Columbus, OH                      50\n",
              "Palo Alto, CA                     50\n",
              "Global                            50\n",
              "sri lanka                         50\n",
              "Bannockburn, IL                   50\n",
              "Austin, Texas                     50\n",
              "New Mexico, USA                   50\n",
              "saarbrücken                       50\n",
              "Baltimore, MD                     50\n",
              "Name: place, dtype: int64"
            ]
          },
          "metadata": {},
          "execution_count": 7
        }
      ]
    },
    {
      "cell_type": "code",
      "metadata": {
        "colab": {
          "base_uri": "https://localhost:8080/"
        },
        "id": "31p0WZaVQbDG",
        "outputId": "9c1f4124-fa5e-42cb-aa1f-035b2c4b70f7"
      },
      "source": [
        "len(tweets_df)"
      ],
      "execution_count": null,
      "outputs": [
        {
          "output_type": "execute_result",
          "data": {
            "text/plain": [
              "5621"
            ]
          },
          "metadata": {
            "tags": []
          },
          "execution_count": 6
        }
      ]
    },
    {
      "cell_type": "code",
      "source": [
        "emoji_pattern = re.compile('['\n",
        "        u\"\\U0001F600-\\U0001F64F\"  # emoticons\n",
        "        u\"\\U0001F300-\\U0001F5FF\"  # symbols & pictographs\n",
        "        u\"\\U0001F680-\\U0001F6FF\"  # transport & map symbols\n",
        "        u\"\\U0001F1E0-\\U0001F1FF\"  # flags (iOS)\n",
        "                           \"]+\", flags=re.UNICODE)"
      ],
      "metadata": {
        "id": "vayOFkdvhsiL"
      },
      "execution_count": null,
      "outputs": []
    },
    {
      "cell_type": "code",
      "source": [
        "#Removing @names, links, images,  because they don't convey any sentiment\n",
        "class PrepareData:\n",
        "  def __init__(self,df):\n",
        "    self.df=df\n",
        "    \n",
        "  def preprocess_data(self):\n",
        "    tweets_df = self.df.loc[self.df['lang'] ==\"en\"]\n",
        "    tweets_df = str(self.df)\n",
        "    #Remove emojis\n",
        "    tweets_df = emoji_pattern.sub(r'', self.df)\n",
        "    #Remove identifications\n",
        "    tweets_df = re.sub(r'RT @\\w+:', '', self.df)\n",
        "    tweets_df = re.sub(r'@\\w+', '', self.df)\n",
        "    #Remove links\n",
        "    tweets_df = re.sub(r'https,?://[^/s]+[/s]?', '', self.df)    \n",
        "    \n",
        "    #text Preprocessing\n",
        "    tweets_df['original_text'] = tweets_df['original_text'].astype(str)\n",
        "    tweets_df['original_text'] = tweets_df['original_text'].apply(lambda x: x.lower())\n",
        "    tweet_df_2['original_text'] = tweet_df_2['original_text'].apply(lambda x : clean_tweet(x))\n",
        "    tweets_df['original_text'] = tweets_df['original_text'].apply(lambda x: clean_tweet(x))\n",
        "    tweets_df['original_text'] = tweets_df['original_text'].apply(lambda x: x.translate(str.maketrans(' ', ' ', string.punctuation)))\n",
        "  \n",
        "    return tweets_df\n"
      ],
      "metadata": {
        "id": "Fv-yfAFeCYX9"
      },
      "execution_count": null,
      "outputs": []
    },
    {
      "cell_type": "code",
      "source": [
        "tweet_df_2 = tweets_df\n",
        "tweet_df_2"
      ],
      "metadata": {
        "colab": {
          "base_uri": "https://localhost:8080/",
          "height": 641
        },
        "id": "PRnbthWyym7N",
        "outputId": "2a72a5cd-fb98-43c8-8e29-c1cf66954485"
      },
      "execution_count": 80,
      "outputs": [
        {
          "output_type": "execute_result",
          "data": {
            "text/plain": [
              "      statuses_count                      created_at  \\\n",
              "0                281  Fri Apr 22 22:17:05 +0000 2022   \n",
              "1                281  Fri Apr 22 13:44:53 +0000 2022   \n",
              "2                281  Fri Apr 22 06:10:34 +0000 2022   \n",
              "3                281  Thu Apr 21 17:22:09 +0000 2022   \n",
              "4                281  Thu Apr 21 10:32:26 +0000 2022   \n",
              "...              ...                             ...   \n",
              "16460          21272  Fri Apr 22 15:22:56 +0000 2022   \n",
              "16461          21272  Fri Apr 22 15:22:29 +0000 2022   \n",
              "16462          21272  Fri Apr 22 15:01:27 +0000 2022   \n",
              "16463          21272  Fri Apr 22 14:58:12 +0000 2022   \n",
              "16464          21272  Fri Apr 22 14:44:35 +0000 2022   \n",
              "\n",
              "                                                  source  \\\n",
              "0      <a href=\"http://twitter.com/download/android\" ...   \n",
              "1      <a href=\"http://twitter.com/download/android\" ...   \n",
              "2      <a href=\"http://twitter.com/download/android\" ...   \n",
              "3      <a href=\"http://twitter.com/download/android\" ...   \n",
              "4      <a href=\"http://twitter.com/download/android\" ...   \n",
              "...                                                  ...   \n",
              "16460  <a href=\"http://twitter.com/download/iphone\" r...   \n",
              "16461  <a href=\"http://twitter.com/download/iphone\" r...   \n",
              "16462  <a href=\"http://twitter.com/download/iphone\" r...   \n",
              "16463  <a href=\"http://twitter.com/download/iphone\" r...   \n",
              "16464  <a href=\"http://twitter.com/download/iphone\" r...   \n",
              "\n",
              "                                           original_text  polarity  \\\n",
              "0      the 10-year yield is telling us that there's a...      0.16   \n",
              "1      german 10y mortgage rate went from 0,8% to 2,5...      0.15   \n",
              "2                                       when? ko2ffhkazg      0.00   \n",
              "3      the 30-year mortgage rate in the us rises to 5...      0.00   \n",
              "4      rates rise until something breaks … is anythin...     -0.40   \n",
              "...                                                  ...       ...   \n",
              "16460  best wishes &amp; heartfelt congratulations to...      0.50   \n",
              "16461  thank you  for this beautiful message of commu...      0.85   \n",
              "16462                                 agree ? r54zjw3kgb      0.00   \n",
              "16463  1. peace yatra by late sunil dutt from mumbai ...     -0.30   \n",
              "16464  gujarat congress mla arrested for a tweet - no...      0.00   \n",
              "\n",
              "       subjectivity  favorite_count  retweet_count      screen_name  \\\n",
              "0          0.540000           188.0           43.0  davideiacovozzi   \n",
              "1          0.175000           179.0           32.0  davideiacovozzi   \n",
              "2          0.000000           193.0           26.0  davideiacovozzi   \n",
              "3          0.183333           620.0          213.0  davideiacovozzi   \n",
              "4          0.400000          1787.0          417.0  davideiacovozzi   \n",
              "...             ...             ...            ...              ...   \n",
              "16460      0.729630          2924.0          300.0    kitukalesatya   \n",
              "16461      1.000000         14671.0         5006.0    kitukalesatya   \n",
              "16462      0.000000          5056.0          973.0    kitukalesatya   \n",
              "16463      0.600000           636.0          115.0    kitukalesatya   \n",
              "16464      0.000000          1025.0          203.0    kitukalesatya   \n",
              "\n",
              "      followers_count friends_count sensitivity            hashtags  \\\n",
              "0                  18            55         NaN  gold silver crypto   \n",
              "1                  18            55         NaN                 NaN   \n",
              "2                  18            55         NaN                 NaN   \n",
              "3                  18            55         NaN                 NaN   \n",
              "4                  18            55         NaN                 NaN   \n",
              "...               ...           ...         ...                 ...   \n",
              "16460             706           643         NaN                 NaN   \n",
              "16461             706           643         NaN                 NaN   \n",
              "16462             706           643         NaN                 NaN   \n",
              "16463             706           643         NaN                 NaN   \n",
              "16464             706           643         NaN                 NaN   \n",
              "\n",
              "                               user_mentions place  \n",
              "0                            NorthstarCharts   NaN  \n",
              "1                             MichaelAArouet   NaN  \n",
              "2                                   goldseek   NaN  \n",
              "3                             charliebilello   NaN  \n",
              "4                             biancoresearch   NaN  \n",
              "...                                      ...   ...  \n",
              "16460  CHARANJITCHANNI RajaBrar_INC BB__Ashu   NaN  \n",
              "16461                pbhushan1 BajpayeeManoj   NaN  \n",
              "16462                         s_shreyatweets   NaN  \n",
              "16463                                tejjINC   NaN  \n",
              "16464                          Parthtiwari25   NaN  \n",
              "\n",
              "[16465 rows x 15 columns]"
            ],
            "text/html": [
              "\n",
              "  <div id=\"df-625c16b2-b584-47dc-9fb4-116948135a32\">\n",
              "    <div class=\"colab-df-container\">\n",
              "      <div>\n",
              "<style scoped>\n",
              "    .dataframe tbody tr th:only-of-type {\n",
              "        vertical-align: middle;\n",
              "    }\n",
              "\n",
              "    .dataframe tbody tr th {\n",
              "        vertical-align: top;\n",
              "    }\n",
              "\n",
              "    .dataframe thead th {\n",
              "        text-align: right;\n",
              "    }\n",
              "</style>\n",
              "<table border=\"1\" class=\"dataframe\">\n",
              "  <thead>\n",
              "    <tr style=\"text-align: right;\">\n",
              "      <th></th>\n",
              "      <th>statuses_count</th>\n",
              "      <th>created_at</th>\n",
              "      <th>source</th>\n",
              "      <th>original_text</th>\n",
              "      <th>polarity</th>\n",
              "      <th>subjectivity</th>\n",
              "      <th>favorite_count</th>\n",
              "      <th>retweet_count</th>\n",
              "      <th>screen_name</th>\n",
              "      <th>followers_count</th>\n",
              "      <th>friends_count</th>\n",
              "      <th>sensitivity</th>\n",
              "      <th>hashtags</th>\n",
              "      <th>user_mentions</th>\n",
              "      <th>place</th>\n",
              "    </tr>\n",
              "  </thead>\n",
              "  <tbody>\n",
              "    <tr>\n",
              "      <th>0</th>\n",
              "      <td>281</td>\n",
              "      <td>Fri Apr 22 22:17:05 +0000 2022</td>\n",
              "      <td>&lt;a href=\"http://twitter.com/download/android\" ...</td>\n",
              "      <td>the 10-year yield is telling us that there's a...</td>\n",
              "      <td>0.16</td>\n",
              "      <td>0.540000</td>\n",
              "      <td>188.0</td>\n",
              "      <td>43.0</td>\n",
              "      <td>davideiacovozzi</td>\n",
              "      <td>18</td>\n",
              "      <td>55</td>\n",
              "      <td>NaN</td>\n",
              "      <td>gold silver crypto</td>\n",
              "      <td>NorthstarCharts</td>\n",
              "      <td>NaN</td>\n",
              "    </tr>\n",
              "    <tr>\n",
              "      <th>1</th>\n",
              "      <td>281</td>\n",
              "      <td>Fri Apr 22 13:44:53 +0000 2022</td>\n",
              "      <td>&lt;a href=\"http://twitter.com/download/android\" ...</td>\n",
              "      <td>german 10y mortgage rate went from 0,8% to 2,5...</td>\n",
              "      <td>0.15</td>\n",
              "      <td>0.175000</td>\n",
              "      <td>179.0</td>\n",
              "      <td>32.0</td>\n",
              "      <td>davideiacovozzi</td>\n",
              "      <td>18</td>\n",
              "      <td>55</td>\n",
              "      <td>NaN</td>\n",
              "      <td>NaN</td>\n",
              "      <td>MichaelAArouet</td>\n",
              "      <td>NaN</td>\n",
              "    </tr>\n",
              "    <tr>\n",
              "      <th>2</th>\n",
              "      <td>281</td>\n",
              "      <td>Fri Apr 22 06:10:34 +0000 2022</td>\n",
              "      <td>&lt;a href=\"http://twitter.com/download/android\" ...</td>\n",
              "      <td>when? ko2ffhkazg</td>\n",
              "      <td>0.00</td>\n",
              "      <td>0.000000</td>\n",
              "      <td>193.0</td>\n",
              "      <td>26.0</td>\n",
              "      <td>davideiacovozzi</td>\n",
              "      <td>18</td>\n",
              "      <td>55</td>\n",
              "      <td>NaN</td>\n",
              "      <td>NaN</td>\n",
              "      <td>goldseek</td>\n",
              "      <td>NaN</td>\n",
              "    </tr>\n",
              "    <tr>\n",
              "      <th>3</th>\n",
              "      <td>281</td>\n",
              "      <td>Thu Apr 21 17:22:09 +0000 2022</td>\n",
              "      <td>&lt;a href=\"http://twitter.com/download/android\" ...</td>\n",
              "      <td>the 30-year mortgage rate in the us rises to 5...</td>\n",
              "      <td>0.00</td>\n",
              "      <td>0.183333</td>\n",
              "      <td>620.0</td>\n",
              "      <td>213.0</td>\n",
              "      <td>davideiacovozzi</td>\n",
              "      <td>18</td>\n",
              "      <td>55</td>\n",
              "      <td>NaN</td>\n",
              "      <td>NaN</td>\n",
              "      <td>charliebilello</td>\n",
              "      <td>NaN</td>\n",
              "    </tr>\n",
              "    <tr>\n",
              "      <th>4</th>\n",
              "      <td>281</td>\n",
              "      <td>Thu Apr 21 10:32:26 +0000 2022</td>\n",
              "      <td>&lt;a href=\"http://twitter.com/download/android\" ...</td>\n",
              "      <td>rates rise until something breaks … is anythin...</td>\n",
              "      <td>-0.40</td>\n",
              "      <td>0.400000</td>\n",
              "      <td>1787.0</td>\n",
              "      <td>417.0</td>\n",
              "      <td>davideiacovozzi</td>\n",
              "      <td>18</td>\n",
              "      <td>55</td>\n",
              "      <td>NaN</td>\n",
              "      <td>NaN</td>\n",
              "      <td>biancoresearch</td>\n",
              "      <td>NaN</td>\n",
              "    </tr>\n",
              "    <tr>\n",
              "      <th>...</th>\n",
              "      <td>...</td>\n",
              "      <td>...</td>\n",
              "      <td>...</td>\n",
              "      <td>...</td>\n",
              "      <td>...</td>\n",
              "      <td>...</td>\n",
              "      <td>...</td>\n",
              "      <td>...</td>\n",
              "      <td>...</td>\n",
              "      <td>...</td>\n",
              "      <td>...</td>\n",
              "      <td>...</td>\n",
              "      <td>...</td>\n",
              "      <td>...</td>\n",
              "      <td>...</td>\n",
              "    </tr>\n",
              "    <tr>\n",
              "      <th>16460</th>\n",
              "      <td>21272</td>\n",
              "      <td>Fri Apr 22 15:22:56 +0000 2022</td>\n",
              "      <td>&lt;a href=\"http://twitter.com/download/iphone\" r...</td>\n",
              "      <td>best wishes &amp;amp; heartfelt congratulations to...</td>\n",
              "      <td>0.50</td>\n",
              "      <td>0.729630</td>\n",
              "      <td>2924.0</td>\n",
              "      <td>300.0</td>\n",
              "      <td>kitukalesatya</td>\n",
              "      <td>706</td>\n",
              "      <td>643</td>\n",
              "      <td>NaN</td>\n",
              "      <td>NaN</td>\n",
              "      <td>CHARANJITCHANNI RajaBrar_INC BB__Ashu</td>\n",
              "      <td>NaN</td>\n",
              "    </tr>\n",
              "    <tr>\n",
              "      <th>16461</th>\n",
              "      <td>21272</td>\n",
              "      <td>Fri Apr 22 15:22:29 +0000 2022</td>\n",
              "      <td>&lt;a href=\"http://twitter.com/download/iphone\" r...</td>\n",
              "      <td>thank you  for this beautiful message of commu...</td>\n",
              "      <td>0.85</td>\n",
              "      <td>1.000000</td>\n",
              "      <td>14671.0</td>\n",
              "      <td>5006.0</td>\n",
              "      <td>kitukalesatya</td>\n",
              "      <td>706</td>\n",
              "      <td>643</td>\n",
              "      <td>NaN</td>\n",
              "      <td>NaN</td>\n",
              "      <td>pbhushan1 BajpayeeManoj</td>\n",
              "      <td>NaN</td>\n",
              "    </tr>\n",
              "    <tr>\n",
              "      <th>16462</th>\n",
              "      <td>21272</td>\n",
              "      <td>Fri Apr 22 15:01:27 +0000 2022</td>\n",
              "      <td>&lt;a href=\"http://twitter.com/download/iphone\" r...</td>\n",
              "      <td>agree ? r54zjw3kgb</td>\n",
              "      <td>0.00</td>\n",
              "      <td>0.000000</td>\n",
              "      <td>5056.0</td>\n",
              "      <td>973.0</td>\n",
              "      <td>kitukalesatya</td>\n",
              "      <td>706</td>\n",
              "      <td>643</td>\n",
              "      <td>NaN</td>\n",
              "      <td>NaN</td>\n",
              "      <td>s_shreyatweets</td>\n",
              "      <td>NaN</td>\n",
              "    </tr>\n",
              "    <tr>\n",
              "      <th>16463</th>\n",
              "      <td>21272</td>\n",
              "      <td>Fri Apr 22 14:58:12 +0000 2022</td>\n",
              "      <td>&lt;a href=\"http://twitter.com/download/iphone\" r...</td>\n",
              "      <td>1. peace yatra by late sunil dutt from mumbai ...</td>\n",
              "      <td>-0.30</td>\n",
              "      <td>0.600000</td>\n",
              "      <td>636.0</td>\n",
              "      <td>115.0</td>\n",
              "      <td>kitukalesatya</td>\n",
              "      <td>706</td>\n",
              "      <td>643</td>\n",
              "      <td>NaN</td>\n",
              "      <td>NaN</td>\n",
              "      <td>tejjINC</td>\n",
              "      <td>NaN</td>\n",
              "    </tr>\n",
              "    <tr>\n",
              "      <th>16464</th>\n",
              "      <td>21272</td>\n",
              "      <td>Fri Apr 22 14:44:35 +0000 2022</td>\n",
              "      <td>&lt;a href=\"http://twitter.com/download/iphone\" r...</td>\n",
              "      <td>gujarat congress mla arrested for a tweet - no...</td>\n",
              "      <td>0.00</td>\n",
              "      <td>0.000000</td>\n",
              "      <td>1025.0</td>\n",
              "      <td>203.0</td>\n",
              "      <td>kitukalesatya</td>\n",
              "      <td>706</td>\n",
              "      <td>643</td>\n",
              "      <td>NaN</td>\n",
              "      <td>NaN</td>\n",
              "      <td>Parthtiwari25</td>\n",
              "      <td>NaN</td>\n",
              "    </tr>\n",
              "  </tbody>\n",
              "</table>\n",
              "<p>16465 rows × 15 columns</p>\n",
              "</div>\n",
              "      <button class=\"colab-df-convert\" onclick=\"convertToInteractive('df-625c16b2-b584-47dc-9fb4-116948135a32')\"\n",
              "              title=\"Convert this dataframe to an interactive table.\"\n",
              "              style=\"display:none;\">\n",
              "        \n",
              "  <svg xmlns=\"http://www.w3.org/2000/svg\" height=\"24px\"viewBox=\"0 0 24 24\"\n",
              "       width=\"24px\">\n",
              "    <path d=\"M0 0h24v24H0V0z\" fill=\"none\"/>\n",
              "    <path d=\"M18.56 5.44l.94 2.06.94-2.06 2.06-.94-2.06-.94-.94-2.06-.94 2.06-2.06.94zm-11 1L8.5 8.5l.94-2.06 2.06-.94-2.06-.94L8.5 2.5l-.94 2.06-2.06.94zm10 10l.94 2.06.94-2.06 2.06-.94-2.06-.94-.94-2.06-.94 2.06-2.06.94z\"/><path d=\"M17.41 7.96l-1.37-1.37c-.4-.4-.92-.59-1.43-.59-.52 0-1.04.2-1.43.59L10.3 9.45l-7.72 7.72c-.78.78-.78 2.05 0 2.83L4 21.41c.39.39.9.59 1.41.59.51 0 1.02-.2 1.41-.59l7.78-7.78 2.81-2.81c.8-.78.8-2.07 0-2.86zM5.41 20L4 18.59l7.72-7.72 1.47 1.35L5.41 20z\"/>\n",
              "  </svg>\n",
              "      </button>\n",
              "      \n",
              "  <style>\n",
              "    .colab-df-container {\n",
              "      display:flex;\n",
              "      flex-wrap:wrap;\n",
              "      gap: 12px;\n",
              "    }\n",
              "\n",
              "    .colab-df-convert {\n",
              "      background-color: #E8F0FE;\n",
              "      border: none;\n",
              "      border-radius: 50%;\n",
              "      cursor: pointer;\n",
              "      display: none;\n",
              "      fill: #1967D2;\n",
              "      height: 32px;\n",
              "      padding: 0 0 0 0;\n",
              "      width: 32px;\n",
              "    }\n",
              "\n",
              "    .colab-df-convert:hover {\n",
              "      background-color: #E2EBFA;\n",
              "      box-shadow: 0px 1px 2px rgba(60, 64, 67, 0.3), 0px 1px 3px 1px rgba(60, 64, 67, 0.15);\n",
              "      fill: #174EA6;\n",
              "    }\n",
              "\n",
              "    [theme=dark] .colab-df-convert {\n",
              "      background-color: #3B4455;\n",
              "      fill: #D2E3FC;\n",
              "    }\n",
              "\n",
              "    [theme=dark] .colab-df-convert:hover {\n",
              "      background-color: #434B5C;\n",
              "      box-shadow: 0px 1px 3px 1px rgba(0, 0, 0, 0.15);\n",
              "      filter: drop-shadow(0px 1px 2px rgba(0, 0, 0, 0.3));\n",
              "      fill: #FFFFFF;\n",
              "    }\n",
              "  </style>\n",
              "\n",
              "      <script>\n",
              "        const buttonEl =\n",
              "          document.querySelector('#df-625c16b2-b584-47dc-9fb4-116948135a32 button.colab-df-convert');\n",
              "        buttonEl.style.display =\n",
              "          google.colab.kernel.accessAllowed ? 'block' : 'none';\n",
              "\n",
              "        async function convertToInteractive(key) {\n",
              "          const element = document.querySelector('#df-625c16b2-b584-47dc-9fb4-116948135a32');\n",
              "          const dataTable =\n",
              "            await google.colab.kernel.invokeFunction('convertToInteractive',\n",
              "                                                     [key], {});\n",
              "          if (!dataTable) return;\n",
              "\n",
              "          const docLinkHtml = 'Like what you see? Visit the ' +\n",
              "            '<a target=\"_blank\" href=https://colab.research.google.com/notebooks/data_table.ipynb>data table notebook</a>'\n",
              "            + ' to learn more about interactive tables.';\n",
              "          element.innerHTML = '';\n",
              "          dataTable['output_type'] = 'display_data';\n",
              "          await google.colab.output.renderOutput(dataTable, element);\n",
              "          const docLink = document.createElement('div');\n",
              "          docLink.innerHTML = docLinkHtml;\n",
              "          element.appendChild(docLink);\n",
              "        }\n",
              "      </script>\n",
              "    </div>\n",
              "  </div>\n",
              "  "
            ]
          },
          "metadata": {},
          "execution_count": 80
        }
      ]
    },
    {
      "cell_type": "code",
      "source": [
        "x = tweet_df_2['place'].value_counts()[:15].index\n",
        "y = tweet_df_2['place'].value_counts()[:15].values\n",
        "\n",
        "fig = go.Figure()\n",
        "fig.add_trace(go.Bar(x = x, y = y))\n",
        "\n",
        "fig.update_layout(\n",
        "    title = 'Tweet from Countries',\n",
        "    height = 600,\n",
        "    width = 1300,\n",
        "    )\n",
        "\n",
        "fig.show(renderer = 'colab')"
      ],
      "metadata": {
        "colab": {
          "base_uri": "https://localhost:8080/",
          "height": 617
        },
        "id": "1ZpsgMK5yuD1",
        "outputId": "d90ad352-6108-43d1-8976-8bebf431b27b"
      },
      "execution_count": 9,
      "outputs": [
        {
          "output_type": "display_data",
          "data": {
            "text/html": [
              "<html>\n",
              "<head><meta charset=\"utf-8\" /></head>\n",
              "<body>\n",
              "    <div>            <script src=\"https://cdnjs.cloudflare.com/ajax/libs/mathjax/2.7.5/MathJax.js?config=TeX-AMS-MML_SVG\"></script><script type=\"text/javascript\">if (window.MathJax) {MathJax.Hub.Config({SVG: {font: \"STIX-Web\"}});}</script>                <script type=\"text/javascript\">window.PlotlyConfig = {MathJaxConfig: 'local'};</script>\n",
              "        <script src=\"https://cdn.plot.ly/plotly-2.8.3.min.js\"></script>                <div id=\"bf6754b9-2b42-432f-8604-ec56f1a2850f\" class=\"plotly-graph-div\" style=\"height:600px; width:1300px;\"></div>            <script type=\"text/javascript\">                                    window.PLOTLYENV=window.PLOTLYENV || {};                                    if (document.getElementById(\"bf6754b9-2b42-432f-8604-ec56f1a2850f\")) {                    Plotly.newPlot(                        \"bf6754b9-2b42-432f-8604-ec56f1a2850f\",                        [{\"x\":[\"India\",\"United States\",\"United Kingdom\",\"Kenya\",\"Sri Lanka\",\"Canada\",\"Australia\",\"Mars\",\"Ireland\",\"South Africa\",\"Metaverse\",\"Boston\",\"Burbank, CA\",\"Saddle Hills County, Alberta\",\"Abuja & London\"],\"y\":[1461,839,583,315,228,193,186,143,98,93,82,50,50,50,50],\"type\":\"bar\"}],                        {\"template\":{\"data\":{\"bar\":[{\"error_x\":{\"color\":\"#2a3f5f\"},\"error_y\":{\"color\":\"#2a3f5f\"},\"marker\":{\"line\":{\"color\":\"#E5ECF6\",\"width\":0.5},\"pattern\":{\"fillmode\":\"overlay\",\"size\":10,\"solidity\":0.2}},\"type\":\"bar\"}],\"barpolar\":[{\"marker\":{\"line\":{\"color\":\"#E5ECF6\",\"width\":0.5},\"pattern\":{\"fillmode\":\"overlay\",\"size\":10,\"solidity\":0.2}},\"type\":\"barpolar\"}],\"carpet\":[{\"aaxis\":{\"endlinecolor\":\"#2a3f5f\",\"gridcolor\":\"white\",\"linecolor\":\"white\",\"minorgridcolor\":\"white\",\"startlinecolor\":\"#2a3f5f\"},\"baxis\":{\"endlinecolor\":\"#2a3f5f\",\"gridcolor\":\"white\",\"linecolor\":\"white\",\"minorgridcolor\":\"white\",\"startlinecolor\":\"#2a3f5f\"},\"type\":\"carpet\"}],\"choropleth\":[{\"colorbar\":{\"outlinewidth\":0,\"ticks\":\"\"},\"type\":\"choropleth\"}],\"contour\":[{\"colorbar\":{\"outlinewidth\":0,\"ticks\":\"\"},\"colorscale\":[[0.0,\"#0d0887\"],[0.1111111111111111,\"#46039f\"],[0.2222222222222222,\"#7201a8\"],[0.3333333333333333,\"#9c179e\"],[0.4444444444444444,\"#bd3786\"],[0.5555555555555556,\"#d8576b\"],[0.6666666666666666,\"#ed7953\"],[0.7777777777777778,\"#fb9f3a\"],[0.8888888888888888,\"#fdca26\"],[1.0,\"#f0f921\"]],\"type\":\"contour\"}],\"contourcarpet\":[{\"colorbar\":{\"outlinewidth\":0,\"ticks\":\"\"},\"type\":\"contourcarpet\"}],\"heatmap\":[{\"colorbar\":{\"outlinewidth\":0,\"ticks\":\"\"},\"colorscale\":[[0.0,\"#0d0887\"],[0.1111111111111111,\"#46039f\"],[0.2222222222222222,\"#7201a8\"],[0.3333333333333333,\"#9c179e\"],[0.4444444444444444,\"#bd3786\"],[0.5555555555555556,\"#d8576b\"],[0.6666666666666666,\"#ed7953\"],[0.7777777777777778,\"#fb9f3a\"],[0.8888888888888888,\"#fdca26\"],[1.0,\"#f0f921\"]],\"type\":\"heatmap\"}],\"heatmapgl\":[{\"colorbar\":{\"outlinewidth\":0,\"ticks\":\"\"},\"colorscale\":[[0.0,\"#0d0887\"],[0.1111111111111111,\"#46039f\"],[0.2222222222222222,\"#7201a8\"],[0.3333333333333333,\"#9c179e\"],[0.4444444444444444,\"#bd3786\"],[0.5555555555555556,\"#d8576b\"],[0.6666666666666666,\"#ed7953\"],[0.7777777777777778,\"#fb9f3a\"],[0.8888888888888888,\"#fdca26\"],[1.0,\"#f0f921\"]],\"type\":\"heatmapgl\"}],\"histogram\":[{\"marker\":{\"pattern\":{\"fillmode\":\"overlay\",\"size\":10,\"solidity\":0.2}},\"type\":\"histogram\"}],\"histogram2d\":[{\"colorbar\":{\"outlinewidth\":0,\"ticks\":\"\"},\"colorscale\":[[0.0,\"#0d0887\"],[0.1111111111111111,\"#46039f\"],[0.2222222222222222,\"#7201a8\"],[0.3333333333333333,\"#9c179e\"],[0.4444444444444444,\"#bd3786\"],[0.5555555555555556,\"#d8576b\"],[0.6666666666666666,\"#ed7953\"],[0.7777777777777778,\"#fb9f3a\"],[0.8888888888888888,\"#fdca26\"],[1.0,\"#f0f921\"]],\"type\":\"histogram2d\"}],\"histogram2dcontour\":[{\"colorbar\":{\"outlinewidth\":0,\"ticks\":\"\"},\"colorscale\":[[0.0,\"#0d0887\"],[0.1111111111111111,\"#46039f\"],[0.2222222222222222,\"#7201a8\"],[0.3333333333333333,\"#9c179e\"],[0.4444444444444444,\"#bd3786\"],[0.5555555555555556,\"#d8576b\"],[0.6666666666666666,\"#ed7953\"],[0.7777777777777778,\"#fb9f3a\"],[0.8888888888888888,\"#fdca26\"],[1.0,\"#f0f921\"]],\"type\":\"histogram2dcontour\"}],\"mesh3d\":[{\"colorbar\":{\"outlinewidth\":0,\"ticks\":\"\"},\"type\":\"mesh3d\"}],\"parcoords\":[{\"line\":{\"colorbar\":{\"outlinewidth\":0,\"ticks\":\"\"}},\"type\":\"parcoords\"}],\"pie\":[{\"automargin\":true,\"type\":\"pie\"}],\"scatter\":[{\"marker\":{\"colorbar\":{\"outlinewidth\":0,\"ticks\":\"\"}},\"type\":\"scatter\"}],\"scatter3d\":[{\"line\":{\"colorbar\":{\"outlinewidth\":0,\"ticks\":\"\"}},\"marker\":{\"colorbar\":{\"outlinewidth\":0,\"ticks\":\"\"}},\"type\":\"scatter3d\"}],\"scattercarpet\":[{\"marker\":{\"colorbar\":{\"outlinewidth\":0,\"ticks\":\"\"}},\"type\":\"scattercarpet\"}],\"scattergeo\":[{\"marker\":{\"colorbar\":{\"outlinewidth\":0,\"ticks\":\"\"}},\"type\":\"scattergeo\"}],\"scattergl\":[{\"marker\":{\"colorbar\":{\"outlinewidth\":0,\"ticks\":\"\"}},\"type\":\"scattergl\"}],\"scattermapbox\":[{\"marker\":{\"colorbar\":{\"outlinewidth\":0,\"ticks\":\"\"}},\"type\":\"scattermapbox\"}],\"scatterpolar\":[{\"marker\":{\"colorbar\":{\"outlinewidth\":0,\"ticks\":\"\"}},\"type\":\"scatterpolar\"}],\"scatterpolargl\":[{\"marker\":{\"colorbar\":{\"outlinewidth\":0,\"ticks\":\"\"}},\"type\":\"scatterpolargl\"}],\"scatterternary\":[{\"marker\":{\"colorbar\":{\"outlinewidth\":0,\"ticks\":\"\"}},\"type\":\"scatterternary\"}],\"surface\":[{\"colorbar\":{\"outlinewidth\":0,\"ticks\":\"\"},\"colorscale\":[[0.0,\"#0d0887\"],[0.1111111111111111,\"#46039f\"],[0.2222222222222222,\"#7201a8\"],[0.3333333333333333,\"#9c179e\"],[0.4444444444444444,\"#bd3786\"],[0.5555555555555556,\"#d8576b\"],[0.6666666666666666,\"#ed7953\"],[0.7777777777777778,\"#fb9f3a\"],[0.8888888888888888,\"#fdca26\"],[1.0,\"#f0f921\"]],\"type\":\"surface\"}],\"table\":[{\"cells\":{\"fill\":{\"color\":\"#EBF0F8\"},\"line\":{\"color\":\"white\"}},\"header\":{\"fill\":{\"color\":\"#C8D4E3\"},\"line\":{\"color\":\"white\"}},\"type\":\"table\"}]},\"layout\":{\"annotationdefaults\":{\"arrowcolor\":\"#2a3f5f\",\"arrowhead\":0,\"arrowwidth\":1},\"autotypenumbers\":\"strict\",\"coloraxis\":{\"colorbar\":{\"outlinewidth\":0,\"ticks\":\"\"}},\"colorscale\":{\"diverging\":[[0,\"#8e0152\"],[0.1,\"#c51b7d\"],[0.2,\"#de77ae\"],[0.3,\"#f1b6da\"],[0.4,\"#fde0ef\"],[0.5,\"#f7f7f7\"],[0.6,\"#e6f5d0\"],[0.7,\"#b8e186\"],[0.8,\"#7fbc41\"],[0.9,\"#4d9221\"],[1,\"#276419\"]],\"sequential\":[[0.0,\"#0d0887\"],[0.1111111111111111,\"#46039f\"],[0.2222222222222222,\"#7201a8\"],[0.3333333333333333,\"#9c179e\"],[0.4444444444444444,\"#bd3786\"],[0.5555555555555556,\"#d8576b\"],[0.6666666666666666,\"#ed7953\"],[0.7777777777777778,\"#fb9f3a\"],[0.8888888888888888,\"#fdca26\"],[1.0,\"#f0f921\"]],\"sequentialminus\":[[0.0,\"#0d0887\"],[0.1111111111111111,\"#46039f\"],[0.2222222222222222,\"#7201a8\"],[0.3333333333333333,\"#9c179e\"],[0.4444444444444444,\"#bd3786\"],[0.5555555555555556,\"#d8576b\"],[0.6666666666666666,\"#ed7953\"],[0.7777777777777778,\"#fb9f3a\"],[0.8888888888888888,\"#fdca26\"],[1.0,\"#f0f921\"]]},\"colorway\":[\"#636efa\",\"#EF553B\",\"#00cc96\",\"#ab63fa\",\"#FFA15A\",\"#19d3f3\",\"#FF6692\",\"#B6E880\",\"#FF97FF\",\"#FECB52\"],\"font\":{\"color\":\"#2a3f5f\"},\"geo\":{\"bgcolor\":\"white\",\"lakecolor\":\"white\",\"landcolor\":\"#E5ECF6\",\"showlakes\":true,\"showland\":true,\"subunitcolor\":\"white\"},\"hoverlabel\":{\"align\":\"left\"},\"hovermode\":\"closest\",\"mapbox\":{\"style\":\"light\"},\"paper_bgcolor\":\"white\",\"plot_bgcolor\":\"#E5ECF6\",\"polar\":{\"angularaxis\":{\"gridcolor\":\"white\",\"linecolor\":\"white\",\"ticks\":\"\"},\"bgcolor\":\"#E5ECF6\",\"radialaxis\":{\"gridcolor\":\"white\",\"linecolor\":\"white\",\"ticks\":\"\"}},\"scene\":{\"xaxis\":{\"backgroundcolor\":\"#E5ECF6\",\"gridcolor\":\"white\",\"gridwidth\":2,\"linecolor\":\"white\",\"showbackground\":true,\"ticks\":\"\",\"zerolinecolor\":\"white\"},\"yaxis\":{\"backgroundcolor\":\"#E5ECF6\",\"gridcolor\":\"white\",\"gridwidth\":2,\"linecolor\":\"white\",\"showbackground\":true,\"ticks\":\"\",\"zerolinecolor\":\"white\"},\"zaxis\":{\"backgroundcolor\":\"#E5ECF6\",\"gridcolor\":\"white\",\"gridwidth\":2,\"linecolor\":\"white\",\"showbackground\":true,\"ticks\":\"\",\"zerolinecolor\":\"white\"}},\"shapedefaults\":{\"line\":{\"color\":\"#2a3f5f\"}},\"ternary\":{\"aaxis\":{\"gridcolor\":\"white\",\"linecolor\":\"white\",\"ticks\":\"\"},\"baxis\":{\"gridcolor\":\"white\",\"linecolor\":\"white\",\"ticks\":\"\"},\"bgcolor\":\"#E5ECF6\",\"caxis\":{\"gridcolor\":\"white\",\"linecolor\":\"white\",\"ticks\":\"\"}},\"title\":{\"x\":0.05},\"xaxis\":{\"automargin\":true,\"gridcolor\":\"white\",\"linecolor\":\"white\",\"ticks\":\"\",\"title\":{\"standoff\":15},\"zerolinecolor\":\"white\",\"zerolinewidth\":2},\"yaxis\":{\"automargin\":true,\"gridcolor\":\"white\",\"linecolor\":\"white\",\"ticks\":\"\",\"title\":{\"standoff\":15},\"zerolinecolor\":\"white\",\"zerolinewidth\":2}}},\"title\":{\"text\":\"Tweet from Countries\"},\"height\":600,\"width\":1300},                        {\"responsive\": true}                    ).then(function(){\n",
              "                            \n",
              "var gd = document.getElementById('bf6754b9-2b42-432f-8604-ec56f1a2850f');\n",
              "var x = new MutationObserver(function (mutations, observer) {{\n",
              "        var display = window.getComputedStyle(gd).display;\n",
              "        if (!display || display === 'none') {{\n",
              "            console.log([gd, 'removed!']);\n",
              "            Plotly.purge(gd);\n",
              "            observer.disconnect();\n",
              "        }}\n",
              "}});\n",
              "\n",
              "// Listen for the removal of the full notebook cells\n",
              "var notebookContainer = gd.closest('#notebook-container');\n",
              "if (notebookContainer) {{\n",
              "    x.observe(notebookContainer, {childList: true});\n",
              "}}\n",
              "\n",
              "// Listen for the clearing of the current output cell\n",
              "var outputEl = gd.closest('.output');\n",
              "if (outputEl) {{\n",
              "    x.observe(outputEl, {childList: true});\n",
              "}}\n",
              "\n",
              "                        })                };                            </script>        </div>\n",
              "</body>\n",
              "</html>"
            ]
          },
          "metadata": {}
        }
      ]
    },
    {
      "cell_type": "code",
      "source": [
        "group_data = tweet_df_2.groupby('polarity').agg('sum').reset_index()\n",
        "group_data.head(20)"
      ],
      "metadata": {
        "colab": {
          "base_uri": "https://localhost:8080/",
          "height": 677
        },
        "id": "D2wuqaPJkc9h",
        "outputId": "7ca235be-e523-4f21-e9f4-f49baf730af0"
      },
      "execution_count": 103,
      "outputs": [
        {
          "output_type": "execute_result",
          "data": {
            "text/plain": [
              "    polarity  subjectivity  favorite_count  retweet_count\n",
              "0  -1.000000     58.657143         65615.0         8791.0\n",
              "1  -0.937500      1.000000             0.0            0.0\n",
              "2  -0.915527      0.600000          2974.0          338.0\n",
              "3  -0.910000      1.000000             0.0            0.0\n",
              "4  -0.900000      9.500000          4589.0         3200.0\n",
              "5  -0.875000      8.800000          6770.0         5275.0\n",
              "6  -0.850000      0.950000             0.0            0.0\n",
              "7  -0.833333      1.916667             0.0            0.0\n",
              "8  -0.825000      1.000000             0.0            0.0\n",
              "9  -0.821429      0.928571             8.0            4.0\n",
              "10 -0.805000      0.950000          1001.0          185.0\n",
              "11 -0.800000     60.700000        190327.0        49171.0\n",
              "12 -0.800000      7.000000             0.0            0.0\n",
              "13 -0.781250      2.300000             0.0            0.0\n",
              "14 -0.750000      7.016667          8705.0         1797.0\n",
              "15 -0.714286      1.714286           133.0           24.0\n",
              "16 -0.700000     13.225000            99.0           48.0\n",
              "17 -0.700000      9.566667           241.0            9.0\n",
              "18 -0.692274      0.616667        115714.0        14372.0\n",
              "19 -0.689583      0.852083           864.0          299.0"
            ],
            "text/html": [
              "\n",
              "  <div id=\"df-00a0e1c0-24f6-4203-a588-3773631436b5\">\n",
              "    <div class=\"colab-df-container\">\n",
              "      <div>\n",
              "<style scoped>\n",
              "    .dataframe tbody tr th:only-of-type {\n",
              "        vertical-align: middle;\n",
              "    }\n",
              "\n",
              "    .dataframe tbody tr th {\n",
              "        vertical-align: top;\n",
              "    }\n",
              "\n",
              "    .dataframe thead th {\n",
              "        text-align: right;\n",
              "    }\n",
              "</style>\n",
              "<table border=\"1\" class=\"dataframe\">\n",
              "  <thead>\n",
              "    <tr style=\"text-align: right;\">\n",
              "      <th></th>\n",
              "      <th>polarity</th>\n",
              "      <th>subjectivity</th>\n",
              "      <th>favorite_count</th>\n",
              "      <th>retweet_count</th>\n",
              "    </tr>\n",
              "  </thead>\n",
              "  <tbody>\n",
              "    <tr>\n",
              "      <th>0</th>\n",
              "      <td>-1.000000</td>\n",
              "      <td>58.657143</td>\n",
              "      <td>65615.0</td>\n",
              "      <td>8791.0</td>\n",
              "    </tr>\n",
              "    <tr>\n",
              "      <th>1</th>\n",
              "      <td>-0.937500</td>\n",
              "      <td>1.000000</td>\n",
              "      <td>0.0</td>\n",
              "      <td>0.0</td>\n",
              "    </tr>\n",
              "    <tr>\n",
              "      <th>2</th>\n",
              "      <td>-0.915527</td>\n",
              "      <td>0.600000</td>\n",
              "      <td>2974.0</td>\n",
              "      <td>338.0</td>\n",
              "    </tr>\n",
              "    <tr>\n",
              "      <th>3</th>\n",
              "      <td>-0.910000</td>\n",
              "      <td>1.000000</td>\n",
              "      <td>0.0</td>\n",
              "      <td>0.0</td>\n",
              "    </tr>\n",
              "    <tr>\n",
              "      <th>4</th>\n",
              "      <td>-0.900000</td>\n",
              "      <td>9.500000</td>\n",
              "      <td>4589.0</td>\n",
              "      <td>3200.0</td>\n",
              "    </tr>\n",
              "    <tr>\n",
              "      <th>5</th>\n",
              "      <td>-0.875000</td>\n",
              "      <td>8.800000</td>\n",
              "      <td>6770.0</td>\n",
              "      <td>5275.0</td>\n",
              "    </tr>\n",
              "    <tr>\n",
              "      <th>6</th>\n",
              "      <td>-0.850000</td>\n",
              "      <td>0.950000</td>\n",
              "      <td>0.0</td>\n",
              "      <td>0.0</td>\n",
              "    </tr>\n",
              "    <tr>\n",
              "      <th>7</th>\n",
              "      <td>-0.833333</td>\n",
              "      <td>1.916667</td>\n",
              "      <td>0.0</td>\n",
              "      <td>0.0</td>\n",
              "    </tr>\n",
              "    <tr>\n",
              "      <th>8</th>\n",
              "      <td>-0.825000</td>\n",
              "      <td>1.000000</td>\n",
              "      <td>0.0</td>\n",
              "      <td>0.0</td>\n",
              "    </tr>\n",
              "    <tr>\n",
              "      <th>9</th>\n",
              "      <td>-0.821429</td>\n",
              "      <td>0.928571</td>\n",
              "      <td>8.0</td>\n",
              "      <td>4.0</td>\n",
              "    </tr>\n",
              "    <tr>\n",
              "      <th>10</th>\n",
              "      <td>-0.805000</td>\n",
              "      <td>0.950000</td>\n",
              "      <td>1001.0</td>\n",
              "      <td>185.0</td>\n",
              "    </tr>\n",
              "    <tr>\n",
              "      <th>11</th>\n",
              "      <td>-0.800000</td>\n",
              "      <td>60.700000</td>\n",
              "      <td>190327.0</td>\n",
              "      <td>49171.0</td>\n",
              "    </tr>\n",
              "    <tr>\n",
              "      <th>12</th>\n",
              "      <td>-0.800000</td>\n",
              "      <td>7.000000</td>\n",
              "      <td>0.0</td>\n",
              "      <td>0.0</td>\n",
              "    </tr>\n",
              "    <tr>\n",
              "      <th>13</th>\n",
              "      <td>-0.781250</td>\n",
              "      <td>2.300000</td>\n",
              "      <td>0.0</td>\n",
              "      <td>0.0</td>\n",
              "    </tr>\n",
              "    <tr>\n",
              "      <th>14</th>\n",
              "      <td>-0.750000</td>\n",
              "      <td>7.016667</td>\n",
              "      <td>8705.0</td>\n",
              "      <td>1797.0</td>\n",
              "    </tr>\n",
              "    <tr>\n",
              "      <th>15</th>\n",
              "      <td>-0.714286</td>\n",
              "      <td>1.714286</td>\n",
              "      <td>133.0</td>\n",
              "      <td>24.0</td>\n",
              "    </tr>\n",
              "    <tr>\n",
              "      <th>16</th>\n",
              "      <td>-0.700000</td>\n",
              "      <td>13.225000</td>\n",
              "      <td>99.0</td>\n",
              "      <td>48.0</td>\n",
              "    </tr>\n",
              "    <tr>\n",
              "      <th>17</th>\n",
              "      <td>-0.700000</td>\n",
              "      <td>9.566667</td>\n",
              "      <td>241.0</td>\n",
              "      <td>9.0</td>\n",
              "    </tr>\n",
              "    <tr>\n",
              "      <th>18</th>\n",
              "      <td>-0.692274</td>\n",
              "      <td>0.616667</td>\n",
              "      <td>115714.0</td>\n",
              "      <td>14372.0</td>\n",
              "    </tr>\n",
              "    <tr>\n",
              "      <th>19</th>\n",
              "      <td>-0.689583</td>\n",
              "      <td>0.852083</td>\n",
              "      <td>864.0</td>\n",
              "      <td>299.0</td>\n",
              "    </tr>\n",
              "  </tbody>\n",
              "</table>\n",
              "</div>\n",
              "      <button class=\"colab-df-convert\" onclick=\"convertToInteractive('df-00a0e1c0-24f6-4203-a588-3773631436b5')\"\n",
              "              title=\"Convert this dataframe to an interactive table.\"\n",
              "              style=\"display:none;\">\n",
              "        \n",
              "  <svg xmlns=\"http://www.w3.org/2000/svg\" height=\"24px\"viewBox=\"0 0 24 24\"\n",
              "       width=\"24px\">\n",
              "    <path d=\"M0 0h24v24H0V0z\" fill=\"none\"/>\n",
              "    <path d=\"M18.56 5.44l.94 2.06.94-2.06 2.06-.94-2.06-.94-.94-2.06-.94 2.06-2.06.94zm-11 1L8.5 8.5l.94-2.06 2.06-.94-2.06-.94L8.5 2.5l-.94 2.06-2.06.94zm10 10l.94 2.06.94-2.06 2.06-.94-2.06-.94-.94-2.06-.94 2.06-2.06.94z\"/><path d=\"M17.41 7.96l-1.37-1.37c-.4-.4-.92-.59-1.43-.59-.52 0-1.04.2-1.43.59L10.3 9.45l-7.72 7.72c-.78.78-.78 2.05 0 2.83L4 21.41c.39.39.9.59 1.41.59.51 0 1.02-.2 1.41-.59l7.78-7.78 2.81-2.81c.8-.78.8-2.07 0-2.86zM5.41 20L4 18.59l7.72-7.72 1.47 1.35L5.41 20z\"/>\n",
              "  </svg>\n",
              "      </button>\n",
              "      \n",
              "  <style>\n",
              "    .colab-df-container {\n",
              "      display:flex;\n",
              "      flex-wrap:wrap;\n",
              "      gap: 12px;\n",
              "    }\n",
              "\n",
              "    .colab-df-convert {\n",
              "      background-color: #E8F0FE;\n",
              "      border: none;\n",
              "      border-radius: 50%;\n",
              "      cursor: pointer;\n",
              "      display: none;\n",
              "      fill: #1967D2;\n",
              "      height: 32px;\n",
              "      padding: 0 0 0 0;\n",
              "      width: 32px;\n",
              "    }\n",
              "\n",
              "    .colab-df-convert:hover {\n",
              "      background-color: #E2EBFA;\n",
              "      box-shadow: 0px 1px 2px rgba(60, 64, 67, 0.3), 0px 1px 3px 1px rgba(60, 64, 67, 0.15);\n",
              "      fill: #174EA6;\n",
              "    }\n",
              "\n",
              "    [theme=dark] .colab-df-convert {\n",
              "      background-color: #3B4455;\n",
              "      fill: #D2E3FC;\n",
              "    }\n",
              "\n",
              "    [theme=dark] .colab-df-convert:hover {\n",
              "      background-color: #434B5C;\n",
              "      box-shadow: 0px 1px 3px 1px rgba(0, 0, 0, 0.15);\n",
              "      filter: drop-shadow(0px 1px 2px rgba(0, 0, 0, 0.3));\n",
              "      fill: #FFFFFF;\n",
              "    }\n",
              "  </style>\n",
              "\n",
              "      <script>\n",
              "        const buttonEl =\n",
              "          document.querySelector('#df-00a0e1c0-24f6-4203-a588-3773631436b5 button.colab-df-convert');\n",
              "        buttonEl.style.display =\n",
              "          google.colab.kernel.accessAllowed ? 'block' : 'none';\n",
              "\n",
              "        async function convertToInteractive(key) {\n",
              "          const element = document.querySelector('#df-00a0e1c0-24f6-4203-a588-3773631436b5');\n",
              "          const dataTable =\n",
              "            await google.colab.kernel.invokeFunction('convertToInteractive',\n",
              "                                                     [key], {});\n",
              "          if (!dataTable) return;\n",
              "\n",
              "          const docLinkHtml = 'Like what you see? Visit the ' +\n",
              "            '<a target=\"_blank\" href=https://colab.research.google.com/notebooks/data_table.ipynb>data table notebook</a>'\n",
              "            + ' to learn more about interactive tables.';\n",
              "          element.innerHTML = '';\n",
              "          dataTable['output_type'] = 'display_data';\n",
              "          await google.colab.output.renderOutput(dataTable, element);\n",
              "          const docLink = document.createElement('div');\n",
              "          docLink.innerHTML = docLinkHtml;\n",
              "          element.appendChild(docLink);\n",
              "        }\n",
              "      </script>\n",
              "    </div>\n",
              "  </div>\n",
              "  "
            ]
          },
          "metadata": {},
          "execution_count": 103
        }
      ]
    },
    {
      "cell_type": "code",
      "source": [
        "group_data.tail(20)"
      ],
      "metadata": {
        "id": "DyFDjlfsmJwy"
      },
      "execution_count": null,
      "outputs": []
    },
    {
      "cell_type": "code",
      "source": [
        "fig = go.Figure()\n",
        "# fig.add_trace(go.Bar(x = x, y = y))\n",
        "fig = px.histogram(group_data, x='polarity', y='retweet_count')\n",
        "fig.update_layout(\n",
        "    title = 'Polarity distribution to the retweet count',\n",
        "    height = 600,\n",
        "    width = 1300,\n",
        "    )\n",
        "\n",
        "fig.show(renderer = 'colab')"
      ],
      "metadata": {
        "colab": {
          "base_uri": "https://localhost:8080/",
          "height": 617
        },
        "id": "57eKzKe7mQ5S",
        "outputId": "a2cd2585-9ac0-41d8-c02e-d9d6479f7143"
      },
      "execution_count": 124,
      "outputs": [
        {
          "output_type": "display_data",
          "data": {
            "text/html": [
              "<html>\n",
              "<head><meta charset=\"utf-8\" /></head>\n",
              "<body>\n",
              "    <div>            <script src=\"https://cdnjs.cloudflare.com/ajax/libs/mathjax/2.7.5/MathJax.js?config=TeX-AMS-MML_SVG\"></script><script type=\"text/javascript\">if (window.MathJax) {MathJax.Hub.Config({SVG: {font: \"STIX-Web\"}});}</script>                <script type=\"text/javascript\">window.PlotlyConfig = {MathJaxConfig: 'local'};</script>\n",
              "        <script src=\"https://cdn.plot.ly/plotly-2.8.3.min.js\"></script>                <div id=\"e8c8a27d-5c58-44d2-8694-6230f104d984\" class=\"plotly-graph-div\" style=\"height:600px; width:1300px;\"></div>            <script type=\"text/javascript\">                                    window.PLOTLYENV=window.PLOTLYENV || {};                                    if (document.getElementById(\"e8c8a27d-5c58-44d2-8694-6230f104d984\")) {                    Plotly.newPlot(                        \"e8c8a27d-5c58-44d2-8694-6230f104d984\",                        [{\"alignmentgroup\":\"True\",\"bingroup\":\"x\",\"histfunc\":\"sum\",\"hovertemplate\":\"polarity=%{x}<br>sum of retweet_count=%{y}<extra></extra>\",\"legendgroup\":\"\",\"marker\":{\"color\":\"#636efa\",\"pattern\":{\"shape\":\"\"}},\"name\":\"\",\"offsetgroup\":\"\",\"orientation\":\"v\",\"showlegend\":false,\"x\":[-1.0,-0.9375,-0.91552734375,-0.91,-0.9,-0.875,-0.85,-0.8333333333333333,-0.825,-0.8214285714285714,-0.8049999999999999,-0.8,-0.7999999999999999,-0.78125,-0.75,-0.7142857142857143,-0.7,-0.6999999999999998,-0.6922743055555556,-0.6895833333333333,-0.6875,-0.6749999999999999,-0.6666666666666666,-0.6510416666666667,-0.65,-0.625,-0.6071428571428572,-0.6000000000000001,-0.6,-0.5999999999999999,-0.5859375,-0.5821428571428572,-0.5777777777777778,-0.5571428571428572,-0.55,-0.5499999999999999,-0.5458333333333333,-0.5333333333333333,-0.5277777777777778,-0.525,-0.5000000000000001,-0.5,-0.49375,-0.4875,-0.4861111111111111,-0.4666666666666667,-0.4666666666666666,-0.4624999999999999,-0.4583333333333333,-0.45625,-0.4508928571428571,-0.45,-0.4499999999999999,-0.4464285714285714,-0.4375,-0.4357142857142857,-0.4333333333333333,-0.4318181818181818,-0.4277777777777777,-0.4270833333333333,-0.425,-0.4125,-0.40625,-0.4000000000000001,-0.4,-0.3999999999999999,-0.39375,-0.3916666666666666,-0.390625,-0.3888888888888889,-0.3841666666666667,-0.3833333333333333,-0.3791666666666666,-0.3777777777777777,-0.375,-0.3708333333333333,-0.3670454545454545,-0.3666666666666667,-0.3666666666666666,-0.3630952380952381,-0.3583333333333333,-0.3571428571428571,-0.35625,-0.3500000000000001,-0.35,-0.3499999999999999,-0.337037037037037,-0.3333333333333333,-0.3333333333333332,-0.3318181818181818,-0.3296296296296296,-0.3277777777777778,-0.325,-0.3249999999999999,-0.3238095238095238,-0.3214285714285714,-0.3185185185185185,-0.3166666666666667,-0.3166666666666666,-0.3147727272727273,-0.3125,-0.3111111111111111,-0.3083333333333333,-0.3,-0.2999999999999999,-0.295,-0.2936507936507936,-0.2916666666666667,-0.2888888888888888,-0.2882812499999999,-0.2851851851851852,-0.285,-0.2833333333333334,-0.2818181818181818,-0.28125,-0.2777777777777778,-0.275,-0.2749999999999999,-0.2722222222222222,-0.2700757575757576,-0.2678571428571428,-0.2666666666666666,-0.265,-0.2625,-0.2604166666666666,-0.26,-0.2583333333333333,-0.2571428571428572,-0.2571428571428571,-0.25625,-0.2545454545454546,-0.2535714285714285,-0.25,-0.2499999999999999,-0.2477678571428571,-0.2416666666666666,-0.2375,-0.2361111111111111,-0.234375,-0.2333333333333333,-0.2333333333333332,-0.2318181818181818,-0.2307692307692307,-0.2277777777777778,-0.225,-0.2247916666666666,-0.2222222222222222,-0.2212121212121212,-0.2202380952380952,-0.21875,-0.2185185185185185,-0.2166666666666666,-0.2142857142857142,-0.2125,-0.2083333333333333,-0.20625,-0.2055555555555555,-0.2045454545454545,-0.2041666666666667,-0.2,-0.1999999999999999,-0.1999999999999998,-0.1958333333333333,-0.1952380952380952,-0.195,-0.1944444444444444,-0.1916666666666666,-0.19125,-0.1907407407407407,-0.1888888888888888,-0.1875,-0.1857142857142857,-0.1851851851851852,-0.184375,-0.1833333333333333,-0.1825396825396825,-0.1818181818181818,-0.18125,-0.1795138888888889,-0.1791666666666667,-0.1785714285714285,-0.1777777777777777,-0.1775,-0.175,-0.1749999999999999,-0.1729166666666667,-0.1714285714285714,-0.1708333333333333,-0.1666666666666666,-0.165625,-0.1647727272727273,-0.1636904761904762,-0.1625,-0.1611111111111111,-0.1607638888888889,-0.16,-0.1583333333333333,-0.1571428571428571,-0.15625,-0.1555555555555555,-0.1545454545454545,-0.1513888888888888,-0.1511904761904761,-0.15,-0.1499999999999999,-0.1486111111111111,-0.146484375,-0.1458333333333333,-0.1452380952380952,-0.1444444444444444,-0.1428571428571428,-0.1416666666666666,-0.1401515151515151,-0.1399999999999999,-0.1388888888888889,-0.1385185185185185,-0.1375,-0.1374999999999999,-0.1351851851851851,-0.1339285714285714,-0.1333333333333333,-0.1333333333333332,-0.1319444444444444,-0.1318181818181818,-0.1305555555555555,-0.13,-0.1296296296296296,-0.1291666666666666,-0.1285714285714285,-0.1277777777777778,-0.1266666666666666,-0.1262626262626262,-0.125,-0.1217948717948717,-0.1212121212121212,-0.12,-0.119047619047619,-0.11875,-0.1180555555555555,-0.1171428571428571,-0.1166666666666666,-0.1125,-0.1124999999999999,-0.1099999999999999,-0.1096296296296296,-0.1083333333333333,-0.1071428571428571,-0.106712962962963,-0.10625,-0.1062499999999999,-0.1045454545454545,-0.1041666666666666,-0.1033333333333333,-0.1028571428571428,-0.1,-0.0999999999999999,-0.0972222222222222,-0.0962962962962962,-0.0958333333333333,-0.0944444444444444,-0.09375,-0.0928571428571428,-0.0924603174603174,-0.0916666666666666,-0.0906249999999999,-0.0899305555555555,-0.0897727272727272,-0.0888888888888888,-0.0875,-0.0864583333333333,-0.0851851851851852,-0.0850074404761905,-0.0833333333333333,-0.0823232323232323,-0.0818181818181818,-0.0805555555555555,-0.08,-0.0797979797979798,-0.0791666666666666,-0.078125,-0.0777777777777777,-0.0769230769230769,-0.075,-0.0749999999999999,-0.0733333333333333,-0.0722222222222222,-0.071875,-0.0714285714285714,-0.0708333333333333,-0.0699999999999999,-0.0697916666666666,-0.0696428571428571,-0.0685185185185185,-0.0681818181818181,-0.0672619047619047,-0.0666666666666667,-0.0666666666666666,-0.0658333333333333,-0.0651851851851852,-0.0633333333333333,-0.0625,-0.0611111111111111,-0.0604166666666666,-0.0583333333333333,-0.0568181818181818,-0.0555555555555555,-0.055,-0.0545454545454545,-0.0541666666666666,-0.0520833333333333,-0.0518518518518518,-0.0513888888888889,-0.05,-0.0499999999999999,-0.0499438832772166,-0.0479166666666666,-0.0462962962962963,-0.0458333333333333,-0.0444444444444444,-0.0416666666666666,-0.0411111111111111,-0.0407407407407407,-0.0397727272727272,-0.0395833333333333,-0.0388888888888888,-0.0383333333333333,-0.0380952380952381,-0.0375,-0.0374999999999998,-0.0361111111111111,-0.0359999999999999,-0.0359788359788359,-0.0357142857142857,-0.0333333333333333,-0.0333333333333332,-0.0327380952380952,-0.0327272727272727,-0.0325,-0.0322916666666666,-0.0318181818181818,-0.03125,-0.0291666666666666,-0.0285714285714285,-0.0277777777777777,-0.025,-0.0249999999999999,-0.0225,-0.0222222222222222,-0.021875,-0.0217948717948717,-0.0214285714285714,-0.0212121212121212,-0.0208333333333333,-0.02,-0.01875,-0.0185185185185185,-0.0177777777777777,-0.0166666666666666,-0.015625,-0.0139682539682539,-0.0138888888888888,-0.0133928571428571,-0.0133333333333333,-0.0125,-0.0124999999999999,-0.011111111111111,-0.01,-0.0095959595959596,-0.0083333333333333,-0.0071428571428571,-0.0063973063973064,-0.00625,-0.0045454545454545,-0.0041666666666666,-0.0034090909090909,-0.0033333333333333,-0.0019097222222222,-1.3877787807814457e-17,-9.251858538542969e-18,0.0,3.7007434154171876e-17,5.551115123125783e-17,0.0022222222222222,0.0027777777777777,0.0041666666666666,0.0047619047619048,0.0056818181818181,0.0062499999999999,0.00625,0.0071428571428571,0.0074074074074073,0.0083333333333333,0.0088888888888888,0.0093749999999999,0.01,0.0104166666666666,0.0111111111111111,0.0116666666666666,0.0121212121212121,0.0124999999999999,0.0125,0.0146031746031745,0.0148148148148148,0.015625,0.0166666666666666,0.0175,0.0181818181818181,0.0189814814814815,0.0199999999999999,0.02,0.0208333333333333,0.0216450216450216,0.0222222222222222,0.0235119047619047,0.0249999999999999,0.025,0.0263888888888888,0.0275,0.0285714285714285,0.0293650793650793,0.03,0.03125,0.0333333333333333,0.034090909090909,0.0343749999999999,0.0344155844155844,0.0349999999999999,0.035,0.0357142857142857,0.0361111111111111,0.037215909090909,0.0374999999999999,0.0375,0.0388888888888888,0.0396825396825396,0.04,0.0406249999999999,0.0416666666666666,0.0428571428571428,0.0431818181818181,0.0439393939393939,0.0444444444444444,0.0446428571428571,0.045,0.0454545454545454,0.0458333333333333,0.0472222222222222,0.0472727272727272,0.0477777777777777,0.048076923076923,0.0481481481481481,0.04875,0.0499999999999999,0.05,0.0511363636363636,0.052,0.0527777777777777,0.0533333333333333,0.0535714285714285,0.0537878787878787,0.0541666666666666,0.0555555555555555,0.0568181818181818,0.0573593073593073,0.0583333333333333,0.059090909090909,0.0595238095238095,0.06,0.0619047619047619,0.0621212121212121,0.0624999999999999,0.0625,0.0635416666666666,0.0636111111111111,0.0642857142857143,0.0647569444444444,0.0648148148148148,0.065,0.0666666666666666,0.0666666666666667,0.0674242424242424,0.0681818181818181,0.0691964285714285,0.0694444444444444,0.0708333333333333,0.0714285714285714,0.0715909090909091,0.0722222222222222,0.0723809523809523,0.075,0.0767045454545454,0.0772727272727272,0.0777777777777777,0.078125,0.0787878787878787,0.08,0.08125,0.0814814814814814,0.0819444444444444,0.0833333333333333,0.0852272727272727,0.0857142857142857,0.0859375,0.0866666666666666,0.0866666666666667,0.0875,0.0883838383838383,0.0888888888888888,0.0892857142857142,0.0892857142857143,0.0895833333333333,0.0897727272727272,0.0909090909090909,0.0916666666666666,0.0931818181818181,0.0933333333333333,0.0936507936507936,0.09375,0.0944444444444444,0.0945963541666666,0.0952380952380952,0.0954545454545454,0.0958333333333333,0.0972222222222222,0.0975378787878787,0.0988888888888888,0.0989285714285714,0.0999999999999999,0.1,0.1020833333333333,0.1027777777777777,0.1041666666666666,0.1055555555555555,0.10625,0.1071428571428571,0.1083333333333333,0.109375,0.1106060606060606,0.1111111111111111,0.11125,0.1121212121212121,0.1124999999999999,0.1125,0.1130952380952381,0.1134353741496598,0.1136363636363636,0.1145833333333333,0.1148148148148148,0.1160714285714285,0.1162878787878787,0.1166666666666666,0.1166666666666667,0.1168831168831168,0.1175347222222222,0.1181818181818181,0.1194155844155843,0.12,0.1208333333333333,0.1214285714285714,0.1222222222222222,0.1242424242424242,0.1247619047619047,0.1249999999999999,0.125,0.1269360269360269,0.1277777777777777,0.1285714285714285,0.1287878787878787,0.13,0.1306818181818181,0.1308333333333333,0.1333333333333333,0.1346153846153846,0.135,0.1354166666666666,0.1357142857142857,0.1361111111111111,0.1363636363636363,0.1366666666666667,0.1371212121212121,0.1375,0.138095238095238,0.1383928571428571,0.1392857142857143,0.1395833333333333,0.1403703703703703,0.1406926406926406,0.1410714285714285,0.1412337662337662,0.1416666666666666,0.1428571428571428,0.14375,0.1444444444444444,0.1454545454545454,0.1458333333333333,0.1464285714285714,0.146590909090909,0.1481481481481481,0.1481818181818182,0.1482323232323232,0.1499999999999999,0.15,0.1515151515151515,0.152,0.1520833333333333,0.1534090909090908,0.1537878787878787,0.1555555555555555,0.156060606060606,0.15625,0.1583333333333333,0.1590909090909091,0.16,0.1611111111111111,0.1619047619047618,0.1619047619047619,0.1621212121212121,0.1624999999999999,0.1625,0.1630952380952381,0.1633333333333333,0.165,0.1666666666666666,0.1666666666666667,0.1676136363636363,0.1676767676767676,0.1681818181818181,0.16875,0.17,0.1704545454545454,0.1708333333333333,0.1714285714285714,0.171875,0.1722222222222222,0.1729166666666666,0.1733333333333333,0.173611111111111,0.175,0.1753246753246753,0.1777777777777777,0.1785714285714285,0.1787878787878788,0.1814814814814814,0.1821212121212121,0.1833333333333333,0.1839285714285714,0.184090909090909,0.1875,0.1888888888888888,0.1901041666666666,0.1904761904761904,0.1914285714285714,0.1916666666666666,0.1923701298701298,0.1928571428571428,0.1931818181818181,0.1939393939393939,0.1944444444444444,0.195,0.1953125,0.1954545454545454,0.1955194805194805,0.1958333333333333,0.1975,0.1981481481481481,0.1999999999999999,0.2,0.2041666666666666,0.205,0.2055555555555555,0.20625,0.2071428571428571,0.2083333333333333,0.2095238095238095,0.21,0.2102272727272727,0.211038961038961,0.2111111111111111,0.2115384615384615,0.2119047619047619,0.2120535714285714,0.2121212121212121,0.2125,0.2142857142857142,0.215,0.2166666666666666,0.2176767676767676,0.2178571428571428,0.2181818181818181,0.21875,0.22,0.2202380952380952,0.2208333333333333,0.221875,0.2222222222222222,0.2228571428571428,0.2240909090909091,0.2242424242424242,0.2249999999999999,0.225,0.2272727272727272,0.2276785714285714,0.2285714285714285,0.2285714285714286,0.2294823232323232,0.2321428571428571,0.2322510822510822,0.2333333333333333,0.234090909090909,0.2340909090909091,0.2348484848484848,0.235,0.2352272727272727,0.236111111111111,0.2375,0.2376893939393939,0.2380952380952381,0.2388888888888889,0.2398148148148148,0.24,0.2403409090909091,0.241903409090909,0.2424242424242424,0.2428571428571428,0.2431818181818181,0.2433333333333333,0.2444444444444444,0.245,0.2454545454545454,0.246484375,0.2467532467532467,0.2475694444444444,0.2476923076923077,0.2499999999999999,0.25,0.2523809523809524,0.2525,0.2533333333333333,0.2541666666666666,0.2555555555555555,0.2556818181818182,0.25625,0.2571428571428571,0.2583333333333333,0.26,0.2611111111111111,0.2619047619047619,0.2625,0.2654545454545454,0.2666666666666666,0.2675,0.2678571428571428,0.2681818181818182,0.2703703703703703,0.2708333333333333,0.2714285714285714,0.2722222222222222,0.2749999999999999,0.275,0.2757575757575757,0.2767857142857143,0.2770833333333333,0.2777777777777777,0.2777777777777778,0.2785714285714286,0.2787878787878788,0.2791666666666667,0.2799999999999999,0.2805555555555555,0.28125,0.2814814814814815,0.2833333333333332,0.2833333333333333,0.2833333333333334,0.284090909090909,0.2857142857142857,0.2875,0.2877777777777778,0.2895833333333333,0.2901515151515151,0.2904761904761904,0.290625,0.2916666666666667,0.2928571428571428,0.2934027777777778,0.2944444444444444,0.2952380952380952,0.2954545454545454,0.296590909090909,0.29765625,0.2981481481481481,0.3,0.301010101010101,0.3020833333333333,0.30234375,0.303125,0.3035714285714286,0.3071428571428571,0.3083333333333333,0.3090909090909091,0.3095238095238095,0.3111111111111111,0.3121212121212121,0.3125,0.3162878787878788,0.3166666666666666,0.3178571428571428,0.3181818181818182,0.31875,0.3194444444444445,0.3199999999999999,0.3203125,0.3208333333333333,0.3214285714285714,0.321590909090909,0.3222222222222222,0.3227272727272727,0.3233333333333333,0.3247619047619047,0.3249999999999999,0.325,0.3261904761904762,0.3277777777777778,0.3278409090909091,0.3285714285714285,0.3287878787878788,0.3291666666666666,0.33,0.33125,0.3318181818181818,0.3333333333333333,0.3352272727272727,0.3366071428571429,0.3375,0.3380681818181818,0.3420138888888888,0.3422619047619047,0.3428571428571428,0.34375,0.3454545454545454,0.3499999999999999,0.35,0.3511904761904761,0.3541666666666666,0.3556547619047618,0.35625,0.3565340909090909,0.3571428571428571,0.3583333333333333,0.36,0.3611111111111111,0.3616666666666667,0.3621212121212121,0.3622727272727273,0.3625,0.3636363636363636,0.3666666666666667,0.3681818181818181,0.3681818181818182,0.369047619047619,0.3691666666666667,0.3703125,0.375,0.3777777777777777,0.3777777777777778,0.3787878787878787,0.3787878787878788,0.3790178571428571,0.38,0.3806818181818182,0.3814814814814815,0.3833333333333333,0.384090909090909,0.3872727272727272,0.3874999999999999,0.3875,0.390625,0.3909722222222223,0.3928571428571428,0.3944444444444444,0.395,0.3952380952380952,0.3954545454545455,0.3999999999999999,0.4,0.4000000000000001,0.4017857142857143,0.4027777777777777,0.4037878787878788,0.4055555555555556,0.40625,0.4065656565656566,0.4083333333333334,0.409090909090909,0.41,0.4111111111111111,0.4125,0.4166666666666666,0.4166666666666667,0.4174603174603175,0.4181818181818181,0.42,0.4222222222222222,0.4233333333333333,0.4242424242424241,0.425,0.4285714285714285,0.4285714285714286,0.4287878787878788,0.43,0.4310606060606061,0.43125,0.4333333333333333,0.4375,0.4388888888888889,0.4399999999999999,0.44,0.4428571428571428,0.4431818181818181,0.44375,0.4444444444444444,0.4454545454545455,0.4464285714285714,0.4472222222222222,0.4475,0.4499999999999999,0.45,0.4523809523809524,0.452840909090909,0.4547619047619047,0.4549999999999999,0.4565340909090908,0.4571428571428571,0.4572727272727272,0.4583333333333333,0.4599999999999999,0.4615384615384615,0.4619047619047619,0.4624999999999999,0.4625,0.4656249999999999,0.4666666666666666,0.4666666666666667,0.4681818181818182,0.46875,0.4708333333333333,0.4732142857142857,0.475,0.4767857142857143,0.4785714285714286,0.48,0.4825,0.4833333333333333,0.4844718701911694,0.4852272727272727,0.4857142857142857,0.4875,0.48828125,0.4888888888888889,0.49,0.4901515151515151,0.4910714285714286,0.4928571428571428,0.494140625,0.5,0.5000000000000001,0.5020833333333333,0.5041666666666667,0.50625,0.51,0.5166666666666666,0.5166666666666667,0.5175,0.52,0.5208333333333334,0.5222222222222223,0.5249999999999999,0.525,0.5285714285714286,0.5328571428571429,0.5330357142857143,0.5333333333333333,0.534375,0.5375,0.5416666666666666,0.5416666666666667,0.5428571428571429,0.5444444444444444,0.5454545454545454,0.546875,0.5499999999999999,0.55,0.5533333333333333,0.5555555555555556,0.55625,0.5625,0.5633333333333334,0.5666666666666667,0.5681818181818181,0.575,0.58,0.5833333333333334,0.5875,0.5916666666666667,0.5928571428571429,0.5978571428571429,0.6,0.6000000000000001,0.6071428571428571,0.611111111111111,0.6121212121212122,0.6136363636363636,0.6166666666666667,0.625,0.6250000000000001,0.6333333333333333,0.6333333333333334,0.6375,0.6428571428571428,0.64375,0.6499999999999999,0.65,0.650390625,0.65625,0.6568181818181819,0.665,0.6666666666666666,0.675,0.6777777777777777,0.6785714285714286,0.6833333333333332,0.6840909090909091,0.6875,0.6933333333333334,0.6950000000000001,0.6999999999999998,0.7,0.7000000000000001,0.7109375,0.7125,0.7166666666666667,0.7166666666666668,0.7250000000000001,0.732421875,0.74,0.740625,0.75,0.7500000000000001,0.7666666666666666,0.7749999999999999,0.7750000000000001,0.78,0.78125,0.7816666666666667,0.79,0.7999999999999999,0.8,0.8000000000000002,0.8083333333333332,0.8125,0.825,0.8255208333333334,0.8333333333333334,0.85,0.875,0.9,0.91,0.925,0.9375,0.95,0.975,0.9765625,1.0],\"xaxis\":\"x\",\"y\":[8791.0,0.0,338.0,0.0,3200.0,5275.0,0.0,0.0,0.0,4.0,185.0,49171.0,0.0,0.0,1797.0,24.0,48.0,9.0,14372.0,299.0,15.0,10.0,1.0,10.0,19.0,2296.0,35.0,1355.0,29207.0,298.0,1.0,89.0,0.0,0.0,17088.0,36.0,1502.0,134.0,263.0,0.0,2134.0,278167.0,6.0,0.0,135.0,0.0,0.0,6.0,3.0,2.0,1.0,11266.0,39.0,1241.0,0.0,2760.0,1240.0,0.0,0.0,2.0,2260.0,251.0,0.0,67964.0,135754.0,1065.0,0.0,7512.0,528.0,862.0,555.0,7200.0,0.0,4.0,204.0,0.0,67.0,355.0,1455.0,1.0,2024.0,139.0,8.0,219.0,20.0,5773.0,0.0,462.0,0.0,8.0,0.0,0.0,4291.0,0.0,3.0,1.0,4634.0,503.0,0.0,9.0,1586.0,35.0,0.0,105700.0,0.0,0.0,50.0,3788.0,0.0,12.0,0.0,202.0,17.0,1.0,318.0,4993.0,352.0,1332.0,0.0,0.0,0.0,3099.0,116.0,1.0,0.0,61.0,1624.0,2397.0,0.0,0.0,0.0,158.0,44726.0,761.0,0.0,5.0,0.0,0.0,381.0,694.0,43.0,3460.0,0.0,0.0,14.0,2.0,0.0,1348.0,0.0,0.0,0.0,28233.0,93.0,30.0,839.0,72.0,2539.0,0.0,19.0,48792.0,2425.0,0.0,133.0,202.0,0.0,705.0,0.0,192.0,0.0,30.0,191.0,0.0,25.0,0.0,0.0,0.0,16.0,0.0,17.0,0.0,62.0,0.0,96.0,18.0,10.0,43.0,52076.0,0.0,146500.0,0.0,1650.0,0.0,3401.0,23.0,0.0,367.0,432.0,2959.0,13864.0,21903.0,0.0,0.0,334.0,36486.0,210.0,7.0,0.0,3704.0,0.0,5323.0,374.0,0.0,0.0,0.0,248.0,2.0,1345.0,0.0,0.0,175.0,36148.0,0.0,89.0,6845.0,0.0,185.0,0.0,278.0,0.0,3364.0,0.0,0.0,22448.0,0.0,0.0,113.0,0.0,131.0,0.0,16229.0,65.0,35.0,46.0,0.0,518.0,0.0,60168.0,1.0,0.0,0.0,33.0,176.0,16.0,0.0,60524.0,596.0,4.0,0.0,0.0,0.0,58.0,0.0,2.0,0.0,0.0,0.0,4025.0,0.0,0.0,46.0,49.0,0.0,11855.0,3.0,0.0,11528.0,1528.0,0.0,0.0,549.0,5671.0,52.0,14298.0,0.0,2.0,62.0,0.0,13149.0,175.0,19.0,229.0,2.0,7.0,0.0,1.0,0.0,8633.0,0.0,0.0,0.0,4353.0,33.0,0.0,2453.0,2.0,11.0,38.0,4.0,0.0,305.0,549.0,0.0,48231.0,1261.0,3.0,0.0,1418.0,0.0,83171.0,222.0,7727.0,0.0,0.0,123.0,0.0,0.0,859.0,0.0,0.0,0.0,441.0,21209.0,685.0,8696.0,1.0,2119.0,13.0,0.0,6512.0,193.0,620.0,9.0,1862.0,9.0,20006.0,162.0,87.0,49.0,0.0,376.0,67.0,12.0,0.0,0.0,603.0,0.0,38.0,22.0,171.0,221.0,417.0,398.0,160.0,24.0,2440.0,45.0,0.0,6921.0,123.0,173.0,0.0,65.0,0.0,0.0,1281.0,0.0,0.0,0.0,27.0,3877297.0,0.0,0.0,0.0,15.0,0.0,0.0,24.0,17826.0,0.0,3.0,3555.0,0.0,1.0,5.0,7.0,0.0,3.0,0.0,73.0,311.0,1.0,1476.0,4.0,0.0,887.0,253.0,1153.0,0.0,1158.0,6.0,37.0,54946.0,0.0,0.0,0.0,113876.0,0.0,0.0,6.0,43.0,2252.0,1753.0,19401.0,0.0,0.0,0.0,0.0,1910.0,0.0,0.0,0.0,937.0,5060.0,866.0,0.0,35.0,1380.0,14417.0,0.0,11.0,0.0,293.0,0.0,0.0,3426.0,0.0,0.0,2.0,290.0,4598.0,48.0,0.0,4113.0,29480.0,64.0,90.0,0.0,1182.0,310.0,210.0,1214.0,1441.0,5.0,0.0,4.0,0.0,0.0,20.0,0.0,28.0,0.0,6535.0,0.0,190.0,2895.0,6.0,80.0,438.0,40733.0,28.0,0.0,11796.0,98.0,4.0,0.0,2044.0,13.0,0.0,12.0,11220.0,66.0,0.0,1.0,0.0,82.0,2478.0,4.0,0.0,4.0,6807.0,1624.0,19.0,0.0,1037.0,0.0,159.0,117.0,0.0,5205.0,0.0,14.0,0.0,25468.0,684.0,0.0,0.0,7.0,131.0,0.0,737.0,26.0,4.0,11.0,0.0,1276.0,0.0,3917.0,26601.0,144955.0,8.0,0.0,125.0,0.0,0.0,298.0,27838.0,7.0,9.0,39.0,0.0,83.0,11889.0,55.0,3.0,86869.0,64.0,8.0,260.0,0.0,0.0,2943.0,1364.0,0.0,0.0,8358.0,0.0,3.0,0.0,36.0,29.0,435.0,161.0,344.0,110676.0,0.0,0.0,538.0,5.0,34.0,11833.0,0.0,12420.0,0.0,0.0,2.0,2.0,101.0,62241.0,14.0,0.0,2.0,176.0,60.0,0.0,750.0,0.0,0.0,0.0,3838.0,0.0,2301.0,52.0,9.0,1.0,4.0,0.0,233.0,5.0,61.0,0.0,15.0,21850.0,13.0,0.0,0.0,0.0,28.0,0.0,13.0,2256.0,1789.0,3.0,2134.0,4366.0,12.0,10.0,5293.0,4181.0,38.0,11979.0,0.0,0.0,57050.0,0.0,0.0,15.0,63.0,0.0,0.0,148.0,412.0,356.0,49.0,8.0,5.0,225.0,0.0,24512.0,0.0,6.0,163378.0,1.0,0.0,0.0,2261.0,1.0,35.0,8626.0,36.0,230.0,18.0,6.0,7187.0,1.0,40.0,166.0,3000.0,76.0,0.0,0.0,92.0,890.0,90.0,0.0,95.0,7896.0,218865.0,0.0,2.0,111.0,19.0,0.0,40008.0,0.0,422.0,42.0,0.0,0.0,0.0,0.0,0.0,351.0,0.0,9312.0,0.0,2179.0,124.0,3.0,32451.0,0.0,3.0,30.0,0.0,1.0,80.0,22.0,0.0,0.0,37.0,15124.0,0.0,0.0,30.0,1.0,0.0,0.0,0.0,658.0,73.0,2052.0,414.0,0.0,0.0,717.0,5.0,1.0,0.0,0.0,0.0,0.0,0.0,0.0,6.0,189.0,72.0,1.0,3130.0,7.0,1.0,0.0,1161.0,3.0,0.0,0.0,1443519.0,54.0,0.0,0.0,614.0,314.0,0.0,25.0,172.0,1201.0,1.0,0.0,0.0,0.0,43.0,7684.0,6.0,236.0,2058.0,0.0,162.0,8.0,94.0,0.0,315.0,11.0,3.0,0.0,0.0,74.0,0.0,0.0,7370.0,0.0,0.0,25.0,11348.0,0.0,218.0,37.0,51.0,25731.0,115.0,0.0,0.0,0.0,13.0,0.0,325.0,39.0,4808.0,128.0,0.0,0.0,353.0,0.0,228.0,54761.0,0.0,11.0,0.0,132.0,0.0,1203.0,736.0,0.0,100.0,11565.0,196.0,854.0,8.0,2159.0,0.0,302.0,3.0,0.0,0.0,12.0,0.0,54.0,115.0,3763.0,0.0,14.0,6.0,34.0,19129.0,2.0,16.0,0.0,17.0,669.0,0.0,0.0,0.0,0.0,39217.0,81.0,308.0,14155.0,1.0,0.0,0.0,0.0,245.0,39.0,30.0,30417.0,0.0,88.0,160.0,23.0,0.0,10999.0,2.0,1.0,619.0,60.0,3.0,0.0,99.0,0.0,192.0,0.0,413.0,0.0,3.0,4.0,18809.0,24.0,257.0,11.0,27.0,0.0,1005.0,0.0,0.0,112.0,7.0,893.0,4.0,255.0,1448.0,0.0,330.0,0.0,0.0,0.0,219.0,36536.0,136998.0,12054.0,49.0,435.0,0.0,0.0,6.0,0.0,6138.0,76.0,16.0,0.0,392.0,19288.0,10794.0,0.0,14.0,3.0,18742.0,1.0,6.0,159.0,213.0,10.0,956.0,6.0,141.0,33.0,25051.0,4555.0,75.0,0.0,412.0,116.0,26.0,9.0,62.0,0.0,0.0,54.0,54.0,271.0,4916.0,0.0,0.0,258.0,3.0,309.0,4.0,15255.0,25.0,0.0,0.0,1409.0,32.0,0.0,0.0,7074.0,2.0,287.0,101.0,0.0,0.0,62.0,83.0,1442.0,16.0,0.0,1472.0,12.0,1.0,0.0,23.0,4.0,442.0,0.0,0.0,49.0,11044.0,0.0,242934.0,76.0,22.0,1.0,0.0,3.0,3.0,14.0,2.0,4.0,4.0,20.0,4597.0,7231.0,10.0,0.0,0.0,2037.0,6.0,0.0,0.0,0.0,0.0,0.0,0.0,5.0,127.0,653.0,0.0,24.0,0.0,0.0,4.0,4028.0,0.0,0.0,0.0,9.0,3.0,57.0,5.0,20.0,55691.0,1540.0,0.0,7.0,11.0,411.0,33030.0,429.0,0.0,1.0,54.0,0.0,29.0,2.0,185.0,2775.0,0.0,34.0,0.0,7.0,42.0,110.0,0.0,0.0,0.0,19.0,82.0,21790.0,2.0,0.0,13356.0,14.0,0.0,0.0,0.0,0.0,91.0,20.0,0.0,0.0,29729.0,3.0,5745.0,41.0,0.0,12.0,24.0,44.0,0.0,902.0,176011.0,4343.0,0.0,5.0,1289.0,28.0,1035.0,7347.0,333970.0,808.0,12.0,36.0,4.0,25.0,0.0,0.0,52102.0],\"yaxis\":\"y\",\"type\":\"histogram\"}],                        {\"template\":{\"data\":{\"bar\":[{\"error_x\":{\"color\":\"#2a3f5f\"},\"error_y\":{\"color\":\"#2a3f5f\"},\"marker\":{\"line\":{\"color\":\"#E5ECF6\",\"width\":0.5},\"pattern\":{\"fillmode\":\"overlay\",\"size\":10,\"solidity\":0.2}},\"type\":\"bar\"}],\"barpolar\":[{\"marker\":{\"line\":{\"color\":\"#E5ECF6\",\"width\":0.5},\"pattern\":{\"fillmode\":\"overlay\",\"size\":10,\"solidity\":0.2}},\"type\":\"barpolar\"}],\"carpet\":[{\"aaxis\":{\"endlinecolor\":\"#2a3f5f\",\"gridcolor\":\"white\",\"linecolor\":\"white\",\"minorgridcolor\":\"white\",\"startlinecolor\":\"#2a3f5f\"},\"baxis\":{\"endlinecolor\":\"#2a3f5f\",\"gridcolor\":\"white\",\"linecolor\":\"white\",\"minorgridcolor\":\"white\",\"startlinecolor\":\"#2a3f5f\"},\"type\":\"carpet\"}],\"choropleth\":[{\"colorbar\":{\"outlinewidth\":0,\"ticks\":\"\"},\"type\":\"choropleth\"}],\"contour\":[{\"colorbar\":{\"outlinewidth\":0,\"ticks\":\"\"},\"colorscale\":[[0.0,\"#0d0887\"],[0.1111111111111111,\"#46039f\"],[0.2222222222222222,\"#7201a8\"],[0.3333333333333333,\"#9c179e\"],[0.4444444444444444,\"#bd3786\"],[0.5555555555555556,\"#d8576b\"],[0.6666666666666666,\"#ed7953\"],[0.7777777777777778,\"#fb9f3a\"],[0.8888888888888888,\"#fdca26\"],[1.0,\"#f0f921\"]],\"type\":\"contour\"}],\"contourcarpet\":[{\"colorbar\":{\"outlinewidth\":0,\"ticks\":\"\"},\"type\":\"contourcarpet\"}],\"heatmap\":[{\"colorbar\":{\"outlinewidth\":0,\"ticks\":\"\"},\"colorscale\":[[0.0,\"#0d0887\"],[0.1111111111111111,\"#46039f\"],[0.2222222222222222,\"#7201a8\"],[0.3333333333333333,\"#9c179e\"],[0.4444444444444444,\"#bd3786\"],[0.5555555555555556,\"#d8576b\"],[0.6666666666666666,\"#ed7953\"],[0.7777777777777778,\"#fb9f3a\"],[0.8888888888888888,\"#fdca26\"],[1.0,\"#f0f921\"]],\"type\":\"heatmap\"}],\"heatmapgl\":[{\"colorbar\":{\"outlinewidth\":0,\"ticks\":\"\"},\"colorscale\":[[0.0,\"#0d0887\"],[0.1111111111111111,\"#46039f\"],[0.2222222222222222,\"#7201a8\"],[0.3333333333333333,\"#9c179e\"],[0.4444444444444444,\"#bd3786\"],[0.5555555555555556,\"#d8576b\"],[0.6666666666666666,\"#ed7953\"],[0.7777777777777778,\"#fb9f3a\"],[0.8888888888888888,\"#fdca26\"],[1.0,\"#f0f921\"]],\"type\":\"heatmapgl\"}],\"histogram\":[{\"marker\":{\"pattern\":{\"fillmode\":\"overlay\",\"size\":10,\"solidity\":0.2}},\"type\":\"histogram\"}],\"histogram2d\":[{\"colorbar\":{\"outlinewidth\":0,\"ticks\":\"\"},\"colorscale\":[[0.0,\"#0d0887\"],[0.1111111111111111,\"#46039f\"],[0.2222222222222222,\"#7201a8\"],[0.3333333333333333,\"#9c179e\"],[0.4444444444444444,\"#bd3786\"],[0.5555555555555556,\"#d8576b\"],[0.6666666666666666,\"#ed7953\"],[0.7777777777777778,\"#fb9f3a\"],[0.8888888888888888,\"#fdca26\"],[1.0,\"#f0f921\"]],\"type\":\"histogram2d\"}],\"histogram2dcontour\":[{\"colorbar\":{\"outlinewidth\":0,\"ticks\":\"\"},\"colorscale\":[[0.0,\"#0d0887\"],[0.1111111111111111,\"#46039f\"],[0.2222222222222222,\"#7201a8\"],[0.3333333333333333,\"#9c179e\"],[0.4444444444444444,\"#bd3786\"],[0.5555555555555556,\"#d8576b\"],[0.6666666666666666,\"#ed7953\"],[0.7777777777777778,\"#fb9f3a\"],[0.8888888888888888,\"#fdca26\"],[1.0,\"#f0f921\"]],\"type\":\"histogram2dcontour\"}],\"mesh3d\":[{\"colorbar\":{\"outlinewidth\":0,\"ticks\":\"\"},\"type\":\"mesh3d\"}],\"parcoords\":[{\"line\":{\"colorbar\":{\"outlinewidth\":0,\"ticks\":\"\"}},\"type\":\"parcoords\"}],\"pie\":[{\"automargin\":true,\"type\":\"pie\"}],\"scatter\":[{\"marker\":{\"colorbar\":{\"outlinewidth\":0,\"ticks\":\"\"}},\"type\":\"scatter\"}],\"scatter3d\":[{\"line\":{\"colorbar\":{\"outlinewidth\":0,\"ticks\":\"\"}},\"marker\":{\"colorbar\":{\"outlinewidth\":0,\"ticks\":\"\"}},\"type\":\"scatter3d\"}],\"scattercarpet\":[{\"marker\":{\"colorbar\":{\"outlinewidth\":0,\"ticks\":\"\"}},\"type\":\"scattercarpet\"}],\"scattergeo\":[{\"marker\":{\"colorbar\":{\"outlinewidth\":0,\"ticks\":\"\"}},\"type\":\"scattergeo\"}],\"scattergl\":[{\"marker\":{\"colorbar\":{\"outlinewidth\":0,\"ticks\":\"\"}},\"type\":\"scattergl\"}],\"scattermapbox\":[{\"marker\":{\"colorbar\":{\"outlinewidth\":0,\"ticks\":\"\"}},\"type\":\"scattermapbox\"}],\"scatterpolar\":[{\"marker\":{\"colorbar\":{\"outlinewidth\":0,\"ticks\":\"\"}},\"type\":\"scatterpolar\"}],\"scatterpolargl\":[{\"marker\":{\"colorbar\":{\"outlinewidth\":0,\"ticks\":\"\"}},\"type\":\"scatterpolargl\"}],\"scatterternary\":[{\"marker\":{\"colorbar\":{\"outlinewidth\":0,\"ticks\":\"\"}},\"type\":\"scatterternary\"}],\"surface\":[{\"colorbar\":{\"outlinewidth\":0,\"ticks\":\"\"},\"colorscale\":[[0.0,\"#0d0887\"],[0.1111111111111111,\"#46039f\"],[0.2222222222222222,\"#7201a8\"],[0.3333333333333333,\"#9c179e\"],[0.4444444444444444,\"#bd3786\"],[0.5555555555555556,\"#d8576b\"],[0.6666666666666666,\"#ed7953\"],[0.7777777777777778,\"#fb9f3a\"],[0.8888888888888888,\"#fdca26\"],[1.0,\"#f0f921\"]],\"type\":\"surface\"}],\"table\":[{\"cells\":{\"fill\":{\"color\":\"#EBF0F8\"},\"line\":{\"color\":\"white\"}},\"header\":{\"fill\":{\"color\":\"#C8D4E3\"},\"line\":{\"color\":\"white\"}},\"type\":\"table\"}]},\"layout\":{\"annotationdefaults\":{\"arrowcolor\":\"#2a3f5f\",\"arrowhead\":0,\"arrowwidth\":1},\"autotypenumbers\":\"strict\",\"coloraxis\":{\"colorbar\":{\"outlinewidth\":0,\"ticks\":\"\"}},\"colorscale\":{\"diverging\":[[0,\"#8e0152\"],[0.1,\"#c51b7d\"],[0.2,\"#de77ae\"],[0.3,\"#f1b6da\"],[0.4,\"#fde0ef\"],[0.5,\"#f7f7f7\"],[0.6,\"#e6f5d0\"],[0.7,\"#b8e186\"],[0.8,\"#7fbc41\"],[0.9,\"#4d9221\"],[1,\"#276419\"]],\"sequential\":[[0.0,\"#0d0887\"],[0.1111111111111111,\"#46039f\"],[0.2222222222222222,\"#7201a8\"],[0.3333333333333333,\"#9c179e\"],[0.4444444444444444,\"#bd3786\"],[0.5555555555555556,\"#d8576b\"],[0.6666666666666666,\"#ed7953\"],[0.7777777777777778,\"#fb9f3a\"],[0.8888888888888888,\"#fdca26\"],[1.0,\"#f0f921\"]],\"sequentialminus\":[[0.0,\"#0d0887\"],[0.1111111111111111,\"#46039f\"],[0.2222222222222222,\"#7201a8\"],[0.3333333333333333,\"#9c179e\"],[0.4444444444444444,\"#bd3786\"],[0.5555555555555556,\"#d8576b\"],[0.6666666666666666,\"#ed7953\"],[0.7777777777777778,\"#fb9f3a\"],[0.8888888888888888,\"#fdca26\"],[1.0,\"#f0f921\"]]},\"colorway\":[\"#636efa\",\"#EF553B\",\"#00cc96\",\"#ab63fa\",\"#FFA15A\",\"#19d3f3\",\"#FF6692\",\"#B6E880\",\"#FF97FF\",\"#FECB52\"],\"font\":{\"color\":\"#2a3f5f\"},\"geo\":{\"bgcolor\":\"white\",\"lakecolor\":\"white\",\"landcolor\":\"#E5ECF6\",\"showlakes\":true,\"showland\":true,\"subunitcolor\":\"white\"},\"hoverlabel\":{\"align\":\"left\"},\"hovermode\":\"closest\",\"mapbox\":{\"style\":\"light\"},\"paper_bgcolor\":\"white\",\"plot_bgcolor\":\"#E5ECF6\",\"polar\":{\"angularaxis\":{\"gridcolor\":\"white\",\"linecolor\":\"white\",\"ticks\":\"\"},\"bgcolor\":\"#E5ECF6\",\"radialaxis\":{\"gridcolor\":\"white\",\"linecolor\":\"white\",\"ticks\":\"\"}},\"scene\":{\"xaxis\":{\"backgroundcolor\":\"#E5ECF6\",\"gridcolor\":\"white\",\"gridwidth\":2,\"linecolor\":\"white\",\"showbackground\":true,\"ticks\":\"\",\"zerolinecolor\":\"white\"},\"yaxis\":{\"backgroundcolor\":\"#E5ECF6\",\"gridcolor\":\"white\",\"gridwidth\":2,\"linecolor\":\"white\",\"showbackground\":true,\"ticks\":\"\",\"zerolinecolor\":\"white\"},\"zaxis\":{\"backgroundcolor\":\"#E5ECF6\",\"gridcolor\":\"white\",\"gridwidth\":2,\"linecolor\":\"white\",\"showbackground\":true,\"ticks\":\"\",\"zerolinecolor\":\"white\"}},\"shapedefaults\":{\"line\":{\"color\":\"#2a3f5f\"}},\"ternary\":{\"aaxis\":{\"gridcolor\":\"white\",\"linecolor\":\"white\",\"ticks\":\"\"},\"baxis\":{\"gridcolor\":\"white\",\"linecolor\":\"white\",\"ticks\":\"\"},\"bgcolor\":\"#E5ECF6\",\"caxis\":{\"gridcolor\":\"white\",\"linecolor\":\"white\",\"ticks\":\"\"}},\"title\":{\"x\":0.05},\"xaxis\":{\"automargin\":true,\"gridcolor\":\"white\",\"linecolor\":\"white\",\"ticks\":\"\",\"title\":{\"standoff\":15},\"zerolinecolor\":\"white\",\"zerolinewidth\":2},\"yaxis\":{\"automargin\":true,\"gridcolor\":\"white\",\"linecolor\":\"white\",\"ticks\":\"\",\"title\":{\"standoff\":15},\"zerolinecolor\":\"white\",\"zerolinewidth\":2}}},\"xaxis\":{\"anchor\":\"y\",\"domain\":[0.0,1.0],\"title\":{\"text\":\"polarity\"}},\"yaxis\":{\"anchor\":\"x\",\"domain\":[0.0,1.0],\"title\":{\"text\":\"sum of retweet_count\"}},\"legend\":{\"tracegroupgap\":0},\"margin\":{\"t\":60},\"barmode\":\"relative\",\"title\":{\"text\":\"Polarity distribution to the retweet count\"},\"height\":600,\"width\":1300},                        {\"responsive\": true}                    ).then(function(){\n",
              "                            \n",
              "var gd = document.getElementById('e8c8a27d-5c58-44d2-8694-6230f104d984');\n",
              "var x = new MutationObserver(function (mutations, observer) {{\n",
              "        var display = window.getComputedStyle(gd).display;\n",
              "        if (!display || display === 'none') {{\n",
              "            console.log([gd, 'removed!']);\n",
              "            Plotly.purge(gd);\n",
              "            observer.disconnect();\n",
              "        }}\n",
              "}});\n",
              "\n",
              "// Listen for the removal of the full notebook cells\n",
              "var notebookContainer = gd.closest('#notebook-container');\n",
              "if (notebookContainer) {{\n",
              "    x.observe(notebookContainer, {childList: true});\n",
              "}}\n",
              "\n",
              "// Listen for the clearing of the current output cell\n",
              "var outputEl = gd.closest('.output');\n",
              "if (outputEl) {{\n",
              "    x.observe(outputEl, {childList: true});\n",
              "}}\n",
              "\n",
              "                        })                };                            </script>        </div>\n",
              "</body>\n",
              "</html>"
            ]
          },
          "metadata": {}
        }
      ]
    },
    {
      "cell_type": "code",
      "source": [
        "fig = go.Figure()\n",
        "# fig.add_trace(go.Bar(x = x, y = y))\n",
        "fig = px.histogram(group_data, x='polarity', y='favorite_count')\n",
        "fig.update_layout(\n",
        "    title = 'Polarity distribution to the favorite count',\n",
        "    height = 600,\n",
        "    width = 1300,\n",
        "    )\n",
        "\n",
        "fig.show(renderer = 'colab')"
      ],
      "metadata": {
        "colab": {
          "base_uri": "https://localhost:8080/",
          "height": 617
        },
        "id": "8uUiwaVTonW0",
        "outputId": "f583db26-766b-4111-9920-266f99d4611e"
      },
      "execution_count": 126,
      "outputs": [
        {
          "output_type": "display_data",
          "data": {
            "text/html": [
              "<html>\n",
              "<head><meta charset=\"utf-8\" /></head>\n",
              "<body>\n",
              "    <div>            <script src=\"https://cdnjs.cloudflare.com/ajax/libs/mathjax/2.7.5/MathJax.js?config=TeX-AMS-MML_SVG\"></script><script type=\"text/javascript\">if (window.MathJax) {MathJax.Hub.Config({SVG: {font: \"STIX-Web\"}});}</script>                <script type=\"text/javascript\">window.PlotlyConfig = {MathJaxConfig: 'local'};</script>\n",
              "        <script src=\"https://cdn.plot.ly/plotly-2.8.3.min.js\"></script>                <div id=\"a28527ef-54fb-422c-bce9-c73e03631c06\" class=\"plotly-graph-div\" style=\"height:600px; width:1300px;\"></div>            <script type=\"text/javascript\">                                    window.PLOTLYENV=window.PLOTLYENV || {};                                    if (document.getElementById(\"a28527ef-54fb-422c-bce9-c73e03631c06\")) {                    Plotly.newPlot(                        \"a28527ef-54fb-422c-bce9-c73e03631c06\",                        [{\"alignmentgroup\":\"True\",\"bingroup\":\"x\",\"histfunc\":\"sum\",\"hovertemplate\":\"polarity=%{x}<br>sum of favorite_count=%{y}<extra></extra>\",\"legendgroup\":\"\",\"marker\":{\"color\":\"#636efa\",\"pattern\":{\"shape\":\"\"}},\"name\":\"\",\"offsetgroup\":\"\",\"orientation\":\"v\",\"showlegend\":false,\"x\":[-1.0,-0.9375,-0.91552734375,-0.91,-0.9,-0.875,-0.85,-0.8333333333333333,-0.825,-0.8214285714285714,-0.8049999999999999,-0.8,-0.7999999999999999,-0.78125,-0.75,-0.7142857142857143,-0.7,-0.6999999999999998,-0.6922743055555556,-0.6895833333333333,-0.6875,-0.6749999999999999,-0.6666666666666666,-0.6510416666666667,-0.65,-0.625,-0.6071428571428572,-0.6000000000000001,-0.6,-0.5999999999999999,-0.5859375,-0.5821428571428572,-0.5777777777777778,-0.5571428571428572,-0.55,-0.5499999999999999,-0.5458333333333333,-0.5333333333333333,-0.5277777777777778,-0.525,-0.5000000000000001,-0.5,-0.49375,-0.4875,-0.4861111111111111,-0.4666666666666667,-0.4666666666666666,-0.4624999999999999,-0.4583333333333333,-0.45625,-0.4508928571428571,-0.45,-0.4499999999999999,-0.4464285714285714,-0.4375,-0.4357142857142857,-0.4333333333333333,-0.4318181818181818,-0.4277777777777777,-0.4270833333333333,-0.425,-0.4125,-0.40625,-0.4000000000000001,-0.4,-0.3999999999999999,-0.39375,-0.3916666666666666,-0.390625,-0.3888888888888889,-0.3841666666666667,-0.3833333333333333,-0.3791666666666666,-0.3777777777777777,-0.375,-0.3708333333333333,-0.3670454545454545,-0.3666666666666667,-0.3666666666666666,-0.3630952380952381,-0.3583333333333333,-0.3571428571428571,-0.35625,-0.3500000000000001,-0.35,-0.3499999999999999,-0.337037037037037,-0.3333333333333333,-0.3333333333333332,-0.3318181818181818,-0.3296296296296296,-0.3277777777777778,-0.325,-0.3249999999999999,-0.3238095238095238,-0.3214285714285714,-0.3185185185185185,-0.3166666666666667,-0.3166666666666666,-0.3147727272727273,-0.3125,-0.3111111111111111,-0.3083333333333333,-0.3,-0.2999999999999999,-0.295,-0.2936507936507936,-0.2916666666666667,-0.2888888888888888,-0.2882812499999999,-0.2851851851851852,-0.285,-0.2833333333333334,-0.2818181818181818,-0.28125,-0.2777777777777778,-0.275,-0.2749999999999999,-0.2722222222222222,-0.2700757575757576,-0.2678571428571428,-0.2666666666666666,-0.265,-0.2625,-0.2604166666666666,-0.26,-0.2583333333333333,-0.2571428571428572,-0.2571428571428571,-0.25625,-0.2545454545454546,-0.2535714285714285,-0.25,-0.2499999999999999,-0.2477678571428571,-0.2416666666666666,-0.2375,-0.2361111111111111,-0.234375,-0.2333333333333333,-0.2333333333333332,-0.2318181818181818,-0.2307692307692307,-0.2277777777777778,-0.225,-0.2247916666666666,-0.2222222222222222,-0.2212121212121212,-0.2202380952380952,-0.21875,-0.2185185185185185,-0.2166666666666666,-0.2142857142857142,-0.2125,-0.2083333333333333,-0.20625,-0.2055555555555555,-0.2045454545454545,-0.2041666666666667,-0.2,-0.1999999999999999,-0.1999999999999998,-0.1958333333333333,-0.1952380952380952,-0.195,-0.1944444444444444,-0.1916666666666666,-0.19125,-0.1907407407407407,-0.1888888888888888,-0.1875,-0.1857142857142857,-0.1851851851851852,-0.184375,-0.1833333333333333,-0.1825396825396825,-0.1818181818181818,-0.18125,-0.1795138888888889,-0.1791666666666667,-0.1785714285714285,-0.1777777777777777,-0.1775,-0.175,-0.1749999999999999,-0.1729166666666667,-0.1714285714285714,-0.1708333333333333,-0.1666666666666666,-0.165625,-0.1647727272727273,-0.1636904761904762,-0.1625,-0.1611111111111111,-0.1607638888888889,-0.16,-0.1583333333333333,-0.1571428571428571,-0.15625,-0.1555555555555555,-0.1545454545454545,-0.1513888888888888,-0.1511904761904761,-0.15,-0.1499999999999999,-0.1486111111111111,-0.146484375,-0.1458333333333333,-0.1452380952380952,-0.1444444444444444,-0.1428571428571428,-0.1416666666666666,-0.1401515151515151,-0.1399999999999999,-0.1388888888888889,-0.1385185185185185,-0.1375,-0.1374999999999999,-0.1351851851851851,-0.1339285714285714,-0.1333333333333333,-0.1333333333333332,-0.1319444444444444,-0.1318181818181818,-0.1305555555555555,-0.13,-0.1296296296296296,-0.1291666666666666,-0.1285714285714285,-0.1277777777777778,-0.1266666666666666,-0.1262626262626262,-0.125,-0.1217948717948717,-0.1212121212121212,-0.12,-0.119047619047619,-0.11875,-0.1180555555555555,-0.1171428571428571,-0.1166666666666666,-0.1125,-0.1124999999999999,-0.1099999999999999,-0.1096296296296296,-0.1083333333333333,-0.1071428571428571,-0.106712962962963,-0.10625,-0.1062499999999999,-0.1045454545454545,-0.1041666666666666,-0.1033333333333333,-0.1028571428571428,-0.1,-0.0999999999999999,-0.0972222222222222,-0.0962962962962962,-0.0958333333333333,-0.0944444444444444,-0.09375,-0.0928571428571428,-0.0924603174603174,-0.0916666666666666,-0.0906249999999999,-0.0899305555555555,-0.0897727272727272,-0.0888888888888888,-0.0875,-0.0864583333333333,-0.0851851851851852,-0.0850074404761905,-0.0833333333333333,-0.0823232323232323,-0.0818181818181818,-0.0805555555555555,-0.08,-0.0797979797979798,-0.0791666666666666,-0.078125,-0.0777777777777777,-0.0769230769230769,-0.075,-0.0749999999999999,-0.0733333333333333,-0.0722222222222222,-0.071875,-0.0714285714285714,-0.0708333333333333,-0.0699999999999999,-0.0697916666666666,-0.0696428571428571,-0.0685185185185185,-0.0681818181818181,-0.0672619047619047,-0.0666666666666667,-0.0666666666666666,-0.0658333333333333,-0.0651851851851852,-0.0633333333333333,-0.0625,-0.0611111111111111,-0.0604166666666666,-0.0583333333333333,-0.0568181818181818,-0.0555555555555555,-0.055,-0.0545454545454545,-0.0541666666666666,-0.0520833333333333,-0.0518518518518518,-0.0513888888888889,-0.05,-0.0499999999999999,-0.0499438832772166,-0.0479166666666666,-0.0462962962962963,-0.0458333333333333,-0.0444444444444444,-0.0416666666666666,-0.0411111111111111,-0.0407407407407407,-0.0397727272727272,-0.0395833333333333,-0.0388888888888888,-0.0383333333333333,-0.0380952380952381,-0.0375,-0.0374999999999998,-0.0361111111111111,-0.0359999999999999,-0.0359788359788359,-0.0357142857142857,-0.0333333333333333,-0.0333333333333332,-0.0327380952380952,-0.0327272727272727,-0.0325,-0.0322916666666666,-0.0318181818181818,-0.03125,-0.0291666666666666,-0.0285714285714285,-0.0277777777777777,-0.025,-0.0249999999999999,-0.0225,-0.0222222222222222,-0.021875,-0.0217948717948717,-0.0214285714285714,-0.0212121212121212,-0.0208333333333333,-0.02,-0.01875,-0.0185185185185185,-0.0177777777777777,-0.0166666666666666,-0.015625,-0.0139682539682539,-0.0138888888888888,-0.0133928571428571,-0.0133333333333333,-0.0125,-0.0124999999999999,-0.011111111111111,-0.01,-0.0095959595959596,-0.0083333333333333,-0.0071428571428571,-0.0063973063973064,-0.00625,-0.0045454545454545,-0.0041666666666666,-0.0034090909090909,-0.0033333333333333,-0.0019097222222222,-1.3877787807814457e-17,-9.251858538542969e-18,0.0,3.7007434154171876e-17,5.551115123125783e-17,0.0022222222222222,0.0027777777777777,0.0041666666666666,0.0047619047619048,0.0056818181818181,0.0062499999999999,0.00625,0.0071428571428571,0.0074074074074073,0.0083333333333333,0.0088888888888888,0.0093749999999999,0.01,0.0104166666666666,0.0111111111111111,0.0116666666666666,0.0121212121212121,0.0124999999999999,0.0125,0.0146031746031745,0.0148148148148148,0.015625,0.0166666666666666,0.0175,0.0181818181818181,0.0189814814814815,0.0199999999999999,0.02,0.0208333333333333,0.0216450216450216,0.0222222222222222,0.0235119047619047,0.0249999999999999,0.025,0.0263888888888888,0.0275,0.0285714285714285,0.0293650793650793,0.03,0.03125,0.0333333333333333,0.034090909090909,0.0343749999999999,0.0344155844155844,0.0349999999999999,0.035,0.0357142857142857,0.0361111111111111,0.037215909090909,0.0374999999999999,0.0375,0.0388888888888888,0.0396825396825396,0.04,0.0406249999999999,0.0416666666666666,0.0428571428571428,0.0431818181818181,0.0439393939393939,0.0444444444444444,0.0446428571428571,0.045,0.0454545454545454,0.0458333333333333,0.0472222222222222,0.0472727272727272,0.0477777777777777,0.048076923076923,0.0481481481481481,0.04875,0.0499999999999999,0.05,0.0511363636363636,0.052,0.0527777777777777,0.0533333333333333,0.0535714285714285,0.0537878787878787,0.0541666666666666,0.0555555555555555,0.0568181818181818,0.0573593073593073,0.0583333333333333,0.059090909090909,0.0595238095238095,0.06,0.0619047619047619,0.0621212121212121,0.0624999999999999,0.0625,0.0635416666666666,0.0636111111111111,0.0642857142857143,0.0647569444444444,0.0648148148148148,0.065,0.0666666666666666,0.0666666666666667,0.0674242424242424,0.0681818181818181,0.0691964285714285,0.0694444444444444,0.0708333333333333,0.0714285714285714,0.0715909090909091,0.0722222222222222,0.0723809523809523,0.075,0.0767045454545454,0.0772727272727272,0.0777777777777777,0.078125,0.0787878787878787,0.08,0.08125,0.0814814814814814,0.0819444444444444,0.0833333333333333,0.0852272727272727,0.0857142857142857,0.0859375,0.0866666666666666,0.0866666666666667,0.0875,0.0883838383838383,0.0888888888888888,0.0892857142857142,0.0892857142857143,0.0895833333333333,0.0897727272727272,0.0909090909090909,0.0916666666666666,0.0931818181818181,0.0933333333333333,0.0936507936507936,0.09375,0.0944444444444444,0.0945963541666666,0.0952380952380952,0.0954545454545454,0.0958333333333333,0.0972222222222222,0.0975378787878787,0.0988888888888888,0.0989285714285714,0.0999999999999999,0.1,0.1020833333333333,0.1027777777777777,0.1041666666666666,0.1055555555555555,0.10625,0.1071428571428571,0.1083333333333333,0.109375,0.1106060606060606,0.1111111111111111,0.11125,0.1121212121212121,0.1124999999999999,0.1125,0.1130952380952381,0.1134353741496598,0.1136363636363636,0.1145833333333333,0.1148148148148148,0.1160714285714285,0.1162878787878787,0.1166666666666666,0.1166666666666667,0.1168831168831168,0.1175347222222222,0.1181818181818181,0.1194155844155843,0.12,0.1208333333333333,0.1214285714285714,0.1222222222222222,0.1242424242424242,0.1247619047619047,0.1249999999999999,0.125,0.1269360269360269,0.1277777777777777,0.1285714285714285,0.1287878787878787,0.13,0.1306818181818181,0.1308333333333333,0.1333333333333333,0.1346153846153846,0.135,0.1354166666666666,0.1357142857142857,0.1361111111111111,0.1363636363636363,0.1366666666666667,0.1371212121212121,0.1375,0.138095238095238,0.1383928571428571,0.1392857142857143,0.1395833333333333,0.1403703703703703,0.1406926406926406,0.1410714285714285,0.1412337662337662,0.1416666666666666,0.1428571428571428,0.14375,0.1444444444444444,0.1454545454545454,0.1458333333333333,0.1464285714285714,0.146590909090909,0.1481481481481481,0.1481818181818182,0.1482323232323232,0.1499999999999999,0.15,0.1515151515151515,0.152,0.1520833333333333,0.1534090909090908,0.1537878787878787,0.1555555555555555,0.156060606060606,0.15625,0.1583333333333333,0.1590909090909091,0.16,0.1611111111111111,0.1619047619047618,0.1619047619047619,0.1621212121212121,0.1624999999999999,0.1625,0.1630952380952381,0.1633333333333333,0.165,0.1666666666666666,0.1666666666666667,0.1676136363636363,0.1676767676767676,0.1681818181818181,0.16875,0.17,0.1704545454545454,0.1708333333333333,0.1714285714285714,0.171875,0.1722222222222222,0.1729166666666666,0.1733333333333333,0.173611111111111,0.175,0.1753246753246753,0.1777777777777777,0.1785714285714285,0.1787878787878788,0.1814814814814814,0.1821212121212121,0.1833333333333333,0.1839285714285714,0.184090909090909,0.1875,0.1888888888888888,0.1901041666666666,0.1904761904761904,0.1914285714285714,0.1916666666666666,0.1923701298701298,0.1928571428571428,0.1931818181818181,0.1939393939393939,0.1944444444444444,0.195,0.1953125,0.1954545454545454,0.1955194805194805,0.1958333333333333,0.1975,0.1981481481481481,0.1999999999999999,0.2,0.2041666666666666,0.205,0.2055555555555555,0.20625,0.2071428571428571,0.2083333333333333,0.2095238095238095,0.21,0.2102272727272727,0.211038961038961,0.2111111111111111,0.2115384615384615,0.2119047619047619,0.2120535714285714,0.2121212121212121,0.2125,0.2142857142857142,0.215,0.2166666666666666,0.2176767676767676,0.2178571428571428,0.2181818181818181,0.21875,0.22,0.2202380952380952,0.2208333333333333,0.221875,0.2222222222222222,0.2228571428571428,0.2240909090909091,0.2242424242424242,0.2249999999999999,0.225,0.2272727272727272,0.2276785714285714,0.2285714285714285,0.2285714285714286,0.2294823232323232,0.2321428571428571,0.2322510822510822,0.2333333333333333,0.234090909090909,0.2340909090909091,0.2348484848484848,0.235,0.2352272727272727,0.236111111111111,0.2375,0.2376893939393939,0.2380952380952381,0.2388888888888889,0.2398148148148148,0.24,0.2403409090909091,0.241903409090909,0.2424242424242424,0.2428571428571428,0.2431818181818181,0.2433333333333333,0.2444444444444444,0.245,0.2454545454545454,0.246484375,0.2467532467532467,0.2475694444444444,0.2476923076923077,0.2499999999999999,0.25,0.2523809523809524,0.2525,0.2533333333333333,0.2541666666666666,0.2555555555555555,0.2556818181818182,0.25625,0.2571428571428571,0.2583333333333333,0.26,0.2611111111111111,0.2619047619047619,0.2625,0.2654545454545454,0.2666666666666666,0.2675,0.2678571428571428,0.2681818181818182,0.2703703703703703,0.2708333333333333,0.2714285714285714,0.2722222222222222,0.2749999999999999,0.275,0.2757575757575757,0.2767857142857143,0.2770833333333333,0.2777777777777777,0.2777777777777778,0.2785714285714286,0.2787878787878788,0.2791666666666667,0.2799999999999999,0.2805555555555555,0.28125,0.2814814814814815,0.2833333333333332,0.2833333333333333,0.2833333333333334,0.284090909090909,0.2857142857142857,0.2875,0.2877777777777778,0.2895833333333333,0.2901515151515151,0.2904761904761904,0.290625,0.2916666666666667,0.2928571428571428,0.2934027777777778,0.2944444444444444,0.2952380952380952,0.2954545454545454,0.296590909090909,0.29765625,0.2981481481481481,0.3,0.301010101010101,0.3020833333333333,0.30234375,0.303125,0.3035714285714286,0.3071428571428571,0.3083333333333333,0.3090909090909091,0.3095238095238095,0.3111111111111111,0.3121212121212121,0.3125,0.3162878787878788,0.3166666666666666,0.3178571428571428,0.3181818181818182,0.31875,0.3194444444444445,0.3199999999999999,0.3203125,0.3208333333333333,0.3214285714285714,0.321590909090909,0.3222222222222222,0.3227272727272727,0.3233333333333333,0.3247619047619047,0.3249999999999999,0.325,0.3261904761904762,0.3277777777777778,0.3278409090909091,0.3285714285714285,0.3287878787878788,0.3291666666666666,0.33,0.33125,0.3318181818181818,0.3333333333333333,0.3352272727272727,0.3366071428571429,0.3375,0.3380681818181818,0.3420138888888888,0.3422619047619047,0.3428571428571428,0.34375,0.3454545454545454,0.3499999999999999,0.35,0.3511904761904761,0.3541666666666666,0.3556547619047618,0.35625,0.3565340909090909,0.3571428571428571,0.3583333333333333,0.36,0.3611111111111111,0.3616666666666667,0.3621212121212121,0.3622727272727273,0.3625,0.3636363636363636,0.3666666666666667,0.3681818181818181,0.3681818181818182,0.369047619047619,0.3691666666666667,0.3703125,0.375,0.3777777777777777,0.3777777777777778,0.3787878787878787,0.3787878787878788,0.3790178571428571,0.38,0.3806818181818182,0.3814814814814815,0.3833333333333333,0.384090909090909,0.3872727272727272,0.3874999999999999,0.3875,0.390625,0.3909722222222223,0.3928571428571428,0.3944444444444444,0.395,0.3952380952380952,0.3954545454545455,0.3999999999999999,0.4,0.4000000000000001,0.4017857142857143,0.4027777777777777,0.4037878787878788,0.4055555555555556,0.40625,0.4065656565656566,0.4083333333333334,0.409090909090909,0.41,0.4111111111111111,0.4125,0.4166666666666666,0.4166666666666667,0.4174603174603175,0.4181818181818181,0.42,0.4222222222222222,0.4233333333333333,0.4242424242424241,0.425,0.4285714285714285,0.4285714285714286,0.4287878787878788,0.43,0.4310606060606061,0.43125,0.4333333333333333,0.4375,0.4388888888888889,0.4399999999999999,0.44,0.4428571428571428,0.4431818181818181,0.44375,0.4444444444444444,0.4454545454545455,0.4464285714285714,0.4472222222222222,0.4475,0.4499999999999999,0.45,0.4523809523809524,0.452840909090909,0.4547619047619047,0.4549999999999999,0.4565340909090908,0.4571428571428571,0.4572727272727272,0.4583333333333333,0.4599999999999999,0.4615384615384615,0.4619047619047619,0.4624999999999999,0.4625,0.4656249999999999,0.4666666666666666,0.4666666666666667,0.4681818181818182,0.46875,0.4708333333333333,0.4732142857142857,0.475,0.4767857142857143,0.4785714285714286,0.48,0.4825,0.4833333333333333,0.4844718701911694,0.4852272727272727,0.4857142857142857,0.4875,0.48828125,0.4888888888888889,0.49,0.4901515151515151,0.4910714285714286,0.4928571428571428,0.494140625,0.5,0.5000000000000001,0.5020833333333333,0.5041666666666667,0.50625,0.51,0.5166666666666666,0.5166666666666667,0.5175,0.52,0.5208333333333334,0.5222222222222223,0.5249999999999999,0.525,0.5285714285714286,0.5328571428571429,0.5330357142857143,0.5333333333333333,0.534375,0.5375,0.5416666666666666,0.5416666666666667,0.5428571428571429,0.5444444444444444,0.5454545454545454,0.546875,0.5499999999999999,0.55,0.5533333333333333,0.5555555555555556,0.55625,0.5625,0.5633333333333334,0.5666666666666667,0.5681818181818181,0.575,0.58,0.5833333333333334,0.5875,0.5916666666666667,0.5928571428571429,0.5978571428571429,0.6,0.6000000000000001,0.6071428571428571,0.611111111111111,0.6121212121212122,0.6136363636363636,0.6166666666666667,0.625,0.6250000000000001,0.6333333333333333,0.6333333333333334,0.6375,0.6428571428571428,0.64375,0.6499999999999999,0.65,0.650390625,0.65625,0.6568181818181819,0.665,0.6666666666666666,0.675,0.6777777777777777,0.6785714285714286,0.6833333333333332,0.6840909090909091,0.6875,0.6933333333333334,0.6950000000000001,0.6999999999999998,0.7,0.7000000000000001,0.7109375,0.7125,0.7166666666666667,0.7166666666666668,0.7250000000000001,0.732421875,0.74,0.740625,0.75,0.7500000000000001,0.7666666666666666,0.7749999999999999,0.7750000000000001,0.78,0.78125,0.7816666666666667,0.79,0.7999999999999999,0.8,0.8000000000000002,0.8083333333333332,0.8125,0.825,0.8255208333333334,0.8333333333333334,0.85,0.875,0.9,0.91,0.925,0.9375,0.95,0.975,0.9765625,1.0],\"xaxis\":\"x\",\"y\":[65615.0,0.0,2974.0,0.0,4589.0,6770.0,0.0,0.0,0.0,8.0,1001.0,190327.0,0.0,0.0,8705.0,133.0,99.0,241.0,115714.0,864.0,78.0,54.0,13.0,27.0,52.0,12622.0,40.0,7822.0,200059.0,877.0,0.0,434.0,0.0,0.0,79139.0,2256.0,9693.0,155.0,1276.0,0.0,5713.0,1502452.0,65.0,0.0,464.0,0.0,0.0,30.0,6.0,4.0,1.0,50474.0,54.0,8781.0,0.0,3858.0,5604.0,0.0,0.0,35.0,4000.0,1359.0,0.0,727707.0,479660.0,1385.0,0.0,9006.0,2321.0,3880.0,2507.0,25104.0,0.0,55.0,904.0,0.0,254.0,981.0,3633.0,0.0,6454.0,366.0,12.0,584.0,7.0,53847.0,0.0,2256.0,0.0,14.0,0.0,0.0,16801.0,0.0,3.0,0.0,6078.0,619.0,0.0,23.0,7114.0,92.0,0.0,449678.0,0.0,0.0,479.0,42493.0,0.0,58.0,0.0,660.0,35.0,1.0,1519.0,17465.0,2028.0,6111.0,0.0,0.0,0.0,7144.0,598.0,0.0,0.0,428.0,7424.0,4799.0,0.0,0.0,0.0,319.0,352594.0,925.0,0.0,6.0,0.0,0.0,2111.0,2656.0,90.0,30305.0,0.0,0.0,127.0,7.0,0.0,2291.0,0.0,0.0,0.0,58310.0,2945.0,61.0,2177.0,549.0,11727.0,0.0,81.0,154932.0,8932.0,0.0,983.0,304.0,0.0,1800.0,0.0,1473.0,0.0,42.0,1169.0,0.0,76.0,0.0,0.0,0.0,38.0,0.0,26.0,0.0,76.0,0.0,299.0,53.0,60.0,107.0,450564.0,0.0,735637.0,0.0,4477.0,0.0,5802.0,106.0,0.0,801.0,1480.0,20977.0,81439.0,91695.0,0.0,0.0,2079.0,144111.0,892.0,6.0,0.0,16349.0,0.0,27435.0,960.0,0.0,0.0,0.0,1480.0,28.0,7304.0,0.0,0.0,655.0,32289.0,0.0,537.0,33305.0,0.0,160.0,0.0,627.0,0.0,10640.0,0.0,0.0,113047.0,0.0,0.0,112.0,0.0,416.0,0.0,156978.0,677.0,57.0,147.0,0.0,2826.0,0.0,168885.0,3.0,0.0,0.0,85.0,2042.0,102.0,0.0,434182.0,2163.0,3.0,0.0,0.0,0.0,225.0,0.0,3.0,0.0,0.0,0.0,5054.0,0.0,0.0,66.0,892.0,0.0,43000.0,3.0,0.0,21843.0,2696.0,0.0,0.0,27766.0,17384.0,75.0,35594.0,0.0,1.0,333.0,0.0,31925.0,384.0,20.0,255.0,1.0,9.0,0.0,6.0,0.0,50353.0,0.0,0.0,0.0,21311.0,51.0,0.0,8583.0,0.0,24.0,59.0,23.0,0.0,2708.0,2225.0,0.0,192371.0,10164.0,10.0,0.0,2338.0,0.0,486560.0,1033.0,20132.0,0.0,0.0,259.0,0.0,0.0,3571.0,0.0,0.0,0.0,1971.0,56191.0,2230.0,36241.0,2.0,4616.0,41.0,0.0,23040.0,349.0,2475.0,336.0,7471.0,12.0,50152.0,483.0,98.0,1101.0,0.0,1950.0,236.0,8.0,0.0,0.0,2435.0,0.0,39.0,62.0,1071.0,1712.0,2853.0,1645.0,227.0,124.0,16808.0,383.0,0.0,41030.0,2895.0,516.0,0.0,75.0,0.0,0.0,5340.0,0.0,0.0,0.0,43.0,19166478.0,0.0,0.0,0.0,73.0,0.0,0.0,28.0,83361.0,0.0,4.0,27624.0,0.0,6.0,40.0,5.0,0.0,48.0,0.0,645.0,3991.0,2.0,6930.0,31.0,0.0,5316.0,275.0,12783.0,0.0,3058.0,11.0,57.0,458556.0,0.0,0.0,0.0,573578.0,0.0,0.0,47.0,97.0,3562.0,2143.0,77667.0,0.0,0.0,0.0,0.0,4624.0,0.0,0.0,0.0,4850.0,12140.0,2533.0,0.0,64.0,6190.0,70721.0,0.0,10.0,0.0,1860.0,0.0,0.0,12069.0,0.0,0.0,2.0,1689.0,71487.0,321.0,0.0,8451.0,121473.0,223.0,317.0,0.0,6131.0,1386.0,425.0,2773.0,7483.0,19.0,0.0,25.0,0.0,0.0,239.0,0.0,296.0,0.0,21725.0,0.0,1862.0,24713.0,7.0,665.0,2389.0,259140.0,216.0,0.0,55270.0,489.0,5.0,0.0,10309.0,84.0,0.0,14.0,50419.0,119.0,0.0,0.0,0.0,214.0,17146.0,17.0,0.0,26.0,44004.0,11904.0,23.0,0.0,5702.0,0.0,335.0,287.0,0.0,10828.0,0.0,18.0,0.0,32058.0,2000.0,0.0,0.0,14.0,521.0,0.0,2505.0,38.0,17.0,48.0,0.0,1700.0,0.0,24608.0,210179.0,632074.0,14.0,0.0,176.0,0.0,0.0,1174.0,208734.0,39.0,14.0,82.0,0.0,606.0,73807.0,199.0,10.0,957382.0,714.0,17.0,2406.0,0.0,0.0,12679.0,2176.0,0.0,0.0,15877.0,0.0,3.0,0.0,44.0,62.0,986.0,140.0,227.0,567418.0,0.0,0.0,3665.0,2.0,60.0,29785.0,0.0,33337.0,0.0,0.0,1.0,0.0,799.0,200510.0,10.0,0.0,13.0,148.0,152.0,0.0,4562.0,0.0,0.0,0.0,6954.0,0.0,13480.0,121.0,44.0,4.0,10.0,0.0,368.0,53.0,227.0,0.0,33.0,94596.0,17.0,0.0,0.0,0.0,40.0,0.0,22.0,3408.0,6506.0,3.0,6139.0,39446.0,48.0,25.0,21003.0,15517.0,238.0,30033.0,0.0,0.0,329382.0,0.0,0.0,32.0,192.0,0.0,0.0,1827.0,1998.0,1578.0,46.0,9.0,57.0,1164.0,0.0,422195.0,0.0,8.0,102349.0,1.0,0.0,0.0,13685.0,16.0,50.0,32248.0,226.0,720.0,71.0,10.0,11684.0,3.0,91.0,242.0,3378.0,1189.0,0.0,0.0,343.0,2077.0,275.0,0.0,407.0,29235.0,1435181.0,0.0,1.0,1537.0,78.0,0.0,51422.0,0.0,1081.0,116.0,0.0,0.0,0.0,0.0,0.0,4011.0,0.0,46844.0,0.0,6249.0,762.0,4.0,267042.0,0.0,13.0,46.0,0.0,3.0,405.0,76.0,0.0,0.0,102.0,60127.0,0.0,0.0,38.0,0.0,0.0,0.0,0.0,2111.0,244.0,2568.0,1550.0,0.0,0.0,5849.0,26.0,3.0,0.0,0.0,0.0,0.0,0.0,0.0,10.0,793.0,101.0,0.0,19351.0,69.0,0.0,0.0,5390.0,2.0,0.0,0.0,4737130.0,72.0,0.0,0.0,5832.0,984.0,0.0,427.0,1649.0,4992.0,37.0,0.0,0.0,0.0,296.0,63119.0,34.0,600.0,14090.0,0.0,144.0,8.0,172.0,0.0,676.0,35.0,9.0,0.0,0.0,242.0,0.0,0.0,34856.0,0.0,0.0,28.0,61547.0,0.0,672.0,168.0,96.0,118467.0,586.0,0.0,0.0,0.0,37.0,0.0,504.0,299.0,7545.0,382.0,0.0,0.0,6354.0,0.0,1614.0,299503.0,0.0,13.0,0.0,817.0,0.0,924.0,2840.0,0.0,538.0,81020.0,1093.0,1134.0,26.0,6218.0,0.0,1801.0,13.0,0.0,0.0,16.0,0.0,99.0,396.0,9203.0,0.0,20.0,18.0,40.0,137862.0,5.0,52.0,0.0,113.0,1732.0,0.0,0.0,0.0,0.0,153958.0,137.0,1330.0,28874.0,1.0,0.0,0.0,0.0,1618.0,62.0,18.0,128047.0,0.0,33.0,167.0,29.0,0.0,104791.0,6.0,4.0,2329.0,494.0,1.0,0.0,1183.0,0.0,381.0,0.0,1631.0,0.0,21.0,2.0,75387.0,30.0,536.0,63.0,35.0,0.0,3277.0,0.0,0.0,173.0,25.0,636.0,27.0,1533.0,9000.0,0.0,2082.0,0.0,0.0,0.0,755.0,154284.0,560104.0,66283.0,74.0,875.0,0.0,0.0,9.0,0.0,51344.0,211.0,51.0,0.0,1936.0,22000.0,67640.0,0.0,15.0,2.0,80911.0,0.0,20.0,911.0,952.0,29.0,1156.0,9.0,598.0,95.0,146534.0,31513.0,371.0,0.0,3663.0,379.0,773.0,12.0,168.0,0.0,0.0,557.0,314.0,1192.0,21229.0,0.0,0.0,1114.0,16.0,541.0,6.0,25542.0,54.0,0.0,0.0,1088.0,44.0,0.0,0.0,41593.0,6.0,1574.0,1194.0,0.0,0.0,127.0,528.0,12755.0,40.0,0.0,12053.0,18.0,2.0,0.0,218.0,49.0,1630.0,0.0,0.0,87.0,72976.0,0.0,1439584.0,268.0,1.0,2.0,0.0,6.0,3.0,36.0,9.0,13.0,7.0,122.0,49571.0,12197.0,14.0,0.0,0.0,3386.0,38.0,0.0,0.0,0.0,0.0,0.0,0.0,3.0,1780.0,7065.0,0.0,40.0,0.0,0.0,12.0,16944.0,0.0,0.0,0.0,10.0,2.0,312.0,11.0,32.0,305293.0,9740.0,0.0,8.0,119.0,4321.0,182921.0,3024.0,0.0,7.0,94.0,0.0,40.0,3.0,291.0,23936.0,0.0,12.0,0.0,8.0,148.0,1099.0,0.0,0.0,0.0,116.0,136.0,31640.0,2.0,0.0,64886.0,29.0,0.0,0.0,0.0,0.0,465.0,80.0,0.0,0.0,393850.0,8.0,24795.0,1129.0,0.0,20.0,37.0,52.0,0.0,4837.0,2207022.0,25381.0,0.0,10.0,8714.0,36.0,4791.0,30943.0,3640690.0,7663.0,18.0,194.0,0.0,362.0,0.0,0.0,247918.0],\"yaxis\":\"y\",\"type\":\"histogram\"}],                        {\"template\":{\"data\":{\"bar\":[{\"error_x\":{\"color\":\"#2a3f5f\"},\"error_y\":{\"color\":\"#2a3f5f\"},\"marker\":{\"line\":{\"color\":\"#E5ECF6\",\"width\":0.5},\"pattern\":{\"fillmode\":\"overlay\",\"size\":10,\"solidity\":0.2}},\"type\":\"bar\"}],\"barpolar\":[{\"marker\":{\"line\":{\"color\":\"#E5ECF6\",\"width\":0.5},\"pattern\":{\"fillmode\":\"overlay\",\"size\":10,\"solidity\":0.2}},\"type\":\"barpolar\"}],\"carpet\":[{\"aaxis\":{\"endlinecolor\":\"#2a3f5f\",\"gridcolor\":\"white\",\"linecolor\":\"white\",\"minorgridcolor\":\"white\",\"startlinecolor\":\"#2a3f5f\"},\"baxis\":{\"endlinecolor\":\"#2a3f5f\",\"gridcolor\":\"white\",\"linecolor\":\"white\",\"minorgridcolor\":\"white\",\"startlinecolor\":\"#2a3f5f\"},\"type\":\"carpet\"}],\"choropleth\":[{\"colorbar\":{\"outlinewidth\":0,\"ticks\":\"\"},\"type\":\"choropleth\"}],\"contour\":[{\"colorbar\":{\"outlinewidth\":0,\"ticks\":\"\"},\"colorscale\":[[0.0,\"#0d0887\"],[0.1111111111111111,\"#46039f\"],[0.2222222222222222,\"#7201a8\"],[0.3333333333333333,\"#9c179e\"],[0.4444444444444444,\"#bd3786\"],[0.5555555555555556,\"#d8576b\"],[0.6666666666666666,\"#ed7953\"],[0.7777777777777778,\"#fb9f3a\"],[0.8888888888888888,\"#fdca26\"],[1.0,\"#f0f921\"]],\"type\":\"contour\"}],\"contourcarpet\":[{\"colorbar\":{\"outlinewidth\":0,\"ticks\":\"\"},\"type\":\"contourcarpet\"}],\"heatmap\":[{\"colorbar\":{\"outlinewidth\":0,\"ticks\":\"\"},\"colorscale\":[[0.0,\"#0d0887\"],[0.1111111111111111,\"#46039f\"],[0.2222222222222222,\"#7201a8\"],[0.3333333333333333,\"#9c179e\"],[0.4444444444444444,\"#bd3786\"],[0.5555555555555556,\"#d8576b\"],[0.6666666666666666,\"#ed7953\"],[0.7777777777777778,\"#fb9f3a\"],[0.8888888888888888,\"#fdca26\"],[1.0,\"#f0f921\"]],\"type\":\"heatmap\"}],\"heatmapgl\":[{\"colorbar\":{\"outlinewidth\":0,\"ticks\":\"\"},\"colorscale\":[[0.0,\"#0d0887\"],[0.1111111111111111,\"#46039f\"],[0.2222222222222222,\"#7201a8\"],[0.3333333333333333,\"#9c179e\"],[0.4444444444444444,\"#bd3786\"],[0.5555555555555556,\"#d8576b\"],[0.6666666666666666,\"#ed7953\"],[0.7777777777777778,\"#fb9f3a\"],[0.8888888888888888,\"#fdca26\"],[1.0,\"#f0f921\"]],\"type\":\"heatmapgl\"}],\"histogram\":[{\"marker\":{\"pattern\":{\"fillmode\":\"overlay\",\"size\":10,\"solidity\":0.2}},\"type\":\"histogram\"}],\"histogram2d\":[{\"colorbar\":{\"outlinewidth\":0,\"ticks\":\"\"},\"colorscale\":[[0.0,\"#0d0887\"],[0.1111111111111111,\"#46039f\"],[0.2222222222222222,\"#7201a8\"],[0.3333333333333333,\"#9c179e\"],[0.4444444444444444,\"#bd3786\"],[0.5555555555555556,\"#d8576b\"],[0.6666666666666666,\"#ed7953\"],[0.7777777777777778,\"#fb9f3a\"],[0.8888888888888888,\"#fdca26\"],[1.0,\"#f0f921\"]],\"type\":\"histogram2d\"}],\"histogram2dcontour\":[{\"colorbar\":{\"outlinewidth\":0,\"ticks\":\"\"},\"colorscale\":[[0.0,\"#0d0887\"],[0.1111111111111111,\"#46039f\"],[0.2222222222222222,\"#7201a8\"],[0.3333333333333333,\"#9c179e\"],[0.4444444444444444,\"#bd3786\"],[0.5555555555555556,\"#d8576b\"],[0.6666666666666666,\"#ed7953\"],[0.7777777777777778,\"#fb9f3a\"],[0.8888888888888888,\"#fdca26\"],[1.0,\"#f0f921\"]],\"type\":\"histogram2dcontour\"}],\"mesh3d\":[{\"colorbar\":{\"outlinewidth\":0,\"ticks\":\"\"},\"type\":\"mesh3d\"}],\"parcoords\":[{\"line\":{\"colorbar\":{\"outlinewidth\":0,\"ticks\":\"\"}},\"type\":\"parcoords\"}],\"pie\":[{\"automargin\":true,\"type\":\"pie\"}],\"scatter\":[{\"marker\":{\"colorbar\":{\"outlinewidth\":0,\"ticks\":\"\"}},\"type\":\"scatter\"}],\"scatter3d\":[{\"line\":{\"colorbar\":{\"outlinewidth\":0,\"ticks\":\"\"}},\"marker\":{\"colorbar\":{\"outlinewidth\":0,\"ticks\":\"\"}},\"type\":\"scatter3d\"}],\"scattercarpet\":[{\"marker\":{\"colorbar\":{\"outlinewidth\":0,\"ticks\":\"\"}},\"type\":\"scattercarpet\"}],\"scattergeo\":[{\"marker\":{\"colorbar\":{\"outlinewidth\":0,\"ticks\":\"\"}},\"type\":\"scattergeo\"}],\"scattergl\":[{\"marker\":{\"colorbar\":{\"outlinewidth\":0,\"ticks\":\"\"}},\"type\":\"scattergl\"}],\"scattermapbox\":[{\"marker\":{\"colorbar\":{\"outlinewidth\":0,\"ticks\":\"\"}},\"type\":\"scattermapbox\"}],\"scatterpolar\":[{\"marker\":{\"colorbar\":{\"outlinewidth\":0,\"ticks\":\"\"}},\"type\":\"scatterpolar\"}],\"scatterpolargl\":[{\"marker\":{\"colorbar\":{\"outlinewidth\":0,\"ticks\":\"\"}},\"type\":\"scatterpolargl\"}],\"scatterternary\":[{\"marker\":{\"colorbar\":{\"outlinewidth\":0,\"ticks\":\"\"}},\"type\":\"scatterternary\"}],\"surface\":[{\"colorbar\":{\"outlinewidth\":0,\"ticks\":\"\"},\"colorscale\":[[0.0,\"#0d0887\"],[0.1111111111111111,\"#46039f\"],[0.2222222222222222,\"#7201a8\"],[0.3333333333333333,\"#9c179e\"],[0.4444444444444444,\"#bd3786\"],[0.5555555555555556,\"#d8576b\"],[0.6666666666666666,\"#ed7953\"],[0.7777777777777778,\"#fb9f3a\"],[0.8888888888888888,\"#fdca26\"],[1.0,\"#f0f921\"]],\"type\":\"surface\"}],\"table\":[{\"cells\":{\"fill\":{\"color\":\"#EBF0F8\"},\"line\":{\"color\":\"white\"}},\"header\":{\"fill\":{\"color\":\"#C8D4E3\"},\"line\":{\"color\":\"white\"}},\"type\":\"table\"}]},\"layout\":{\"annotationdefaults\":{\"arrowcolor\":\"#2a3f5f\",\"arrowhead\":0,\"arrowwidth\":1},\"autotypenumbers\":\"strict\",\"coloraxis\":{\"colorbar\":{\"outlinewidth\":0,\"ticks\":\"\"}},\"colorscale\":{\"diverging\":[[0,\"#8e0152\"],[0.1,\"#c51b7d\"],[0.2,\"#de77ae\"],[0.3,\"#f1b6da\"],[0.4,\"#fde0ef\"],[0.5,\"#f7f7f7\"],[0.6,\"#e6f5d0\"],[0.7,\"#b8e186\"],[0.8,\"#7fbc41\"],[0.9,\"#4d9221\"],[1,\"#276419\"]],\"sequential\":[[0.0,\"#0d0887\"],[0.1111111111111111,\"#46039f\"],[0.2222222222222222,\"#7201a8\"],[0.3333333333333333,\"#9c179e\"],[0.4444444444444444,\"#bd3786\"],[0.5555555555555556,\"#d8576b\"],[0.6666666666666666,\"#ed7953\"],[0.7777777777777778,\"#fb9f3a\"],[0.8888888888888888,\"#fdca26\"],[1.0,\"#f0f921\"]],\"sequentialminus\":[[0.0,\"#0d0887\"],[0.1111111111111111,\"#46039f\"],[0.2222222222222222,\"#7201a8\"],[0.3333333333333333,\"#9c179e\"],[0.4444444444444444,\"#bd3786\"],[0.5555555555555556,\"#d8576b\"],[0.6666666666666666,\"#ed7953\"],[0.7777777777777778,\"#fb9f3a\"],[0.8888888888888888,\"#fdca26\"],[1.0,\"#f0f921\"]]},\"colorway\":[\"#636efa\",\"#EF553B\",\"#00cc96\",\"#ab63fa\",\"#FFA15A\",\"#19d3f3\",\"#FF6692\",\"#B6E880\",\"#FF97FF\",\"#FECB52\"],\"font\":{\"color\":\"#2a3f5f\"},\"geo\":{\"bgcolor\":\"white\",\"lakecolor\":\"white\",\"landcolor\":\"#E5ECF6\",\"showlakes\":true,\"showland\":true,\"subunitcolor\":\"white\"},\"hoverlabel\":{\"align\":\"left\"},\"hovermode\":\"closest\",\"mapbox\":{\"style\":\"light\"},\"paper_bgcolor\":\"white\",\"plot_bgcolor\":\"#E5ECF6\",\"polar\":{\"angularaxis\":{\"gridcolor\":\"white\",\"linecolor\":\"white\",\"ticks\":\"\"},\"bgcolor\":\"#E5ECF6\",\"radialaxis\":{\"gridcolor\":\"white\",\"linecolor\":\"white\",\"ticks\":\"\"}},\"scene\":{\"xaxis\":{\"backgroundcolor\":\"#E5ECF6\",\"gridcolor\":\"white\",\"gridwidth\":2,\"linecolor\":\"white\",\"showbackground\":true,\"ticks\":\"\",\"zerolinecolor\":\"white\"},\"yaxis\":{\"backgroundcolor\":\"#E5ECF6\",\"gridcolor\":\"white\",\"gridwidth\":2,\"linecolor\":\"white\",\"showbackground\":true,\"ticks\":\"\",\"zerolinecolor\":\"white\"},\"zaxis\":{\"backgroundcolor\":\"#E5ECF6\",\"gridcolor\":\"white\",\"gridwidth\":2,\"linecolor\":\"white\",\"showbackground\":true,\"ticks\":\"\",\"zerolinecolor\":\"white\"}},\"shapedefaults\":{\"line\":{\"color\":\"#2a3f5f\"}},\"ternary\":{\"aaxis\":{\"gridcolor\":\"white\",\"linecolor\":\"white\",\"ticks\":\"\"},\"baxis\":{\"gridcolor\":\"white\",\"linecolor\":\"white\",\"ticks\":\"\"},\"bgcolor\":\"#E5ECF6\",\"caxis\":{\"gridcolor\":\"white\",\"linecolor\":\"white\",\"ticks\":\"\"}},\"title\":{\"x\":0.05},\"xaxis\":{\"automargin\":true,\"gridcolor\":\"white\",\"linecolor\":\"white\",\"ticks\":\"\",\"title\":{\"standoff\":15},\"zerolinecolor\":\"white\",\"zerolinewidth\":2},\"yaxis\":{\"automargin\":true,\"gridcolor\":\"white\",\"linecolor\":\"white\",\"ticks\":\"\",\"title\":{\"standoff\":15},\"zerolinecolor\":\"white\",\"zerolinewidth\":2}}},\"xaxis\":{\"anchor\":\"y\",\"domain\":[0.0,1.0],\"title\":{\"text\":\"polarity\"}},\"yaxis\":{\"anchor\":\"x\",\"domain\":[0.0,1.0],\"title\":{\"text\":\"sum of favorite_count\"}},\"legend\":{\"tracegroupgap\":0},\"margin\":{\"t\":60},\"barmode\":\"relative\",\"title\":{\"text\":\"Polarity distribution to the favorite count\"},\"height\":600,\"width\":1300},                        {\"responsive\": true}                    ).then(function(){\n",
              "                            \n",
              "var gd = document.getElementById('a28527ef-54fb-422c-bce9-c73e03631c06');\n",
              "var x = new MutationObserver(function (mutations, observer) {{\n",
              "        var display = window.getComputedStyle(gd).display;\n",
              "        if (!display || display === 'none') {{\n",
              "            console.log([gd, 'removed!']);\n",
              "            Plotly.purge(gd);\n",
              "            observer.disconnect();\n",
              "        }}\n",
              "}});\n",
              "\n",
              "// Listen for the removal of the full notebook cells\n",
              "var notebookContainer = gd.closest('#notebook-container');\n",
              "if (notebookContainer) {{\n",
              "    x.observe(notebookContainer, {childList: true});\n",
              "}}\n",
              "\n",
              "// Listen for the clearing of the current output cell\n",
              "var outputEl = gd.closest('.output');\n",
              "if (outputEl) {{\n",
              "    x.observe(outputEl, {childList: true});\n",
              "}}\n",
              "\n",
              "                        })                };                            </script>        </div>\n",
              "</body>\n",
              "</html>"
            ]
          },
          "metadata": {}
        }
      ]
    },
    {
      "cell_type": "code",
      "source": [
        "fig = go.Figure()\n",
        "# fig.add_trace(go.Bar(x = x, y = y))\n",
        "fig = px.histogram(group_data, x='polarity', y='subjectivity')\n",
        "fig.update_layout(\n",
        "    title = 'Polarity distribution to the subjectiviti',\n",
        "    height = 600,\n",
        "    width = 1300,\n",
        "    )\n",
        "\n",
        "fig.show(renderer = 'colab')"
      ],
      "metadata": {
        "colab": {
          "base_uri": "https://localhost:8080/",
          "height": 617
        },
        "id": "WF7fON9TowMD",
        "outputId": "3b576a91-94c8-4c31-f822-2b8ad628a550"
      },
      "execution_count": 127,
      "outputs": [
        {
          "output_type": "display_data",
          "data": {
            "text/html": [
              "<html>\n",
              "<head><meta charset=\"utf-8\" /></head>\n",
              "<body>\n",
              "    <div>            <script src=\"https://cdnjs.cloudflare.com/ajax/libs/mathjax/2.7.5/MathJax.js?config=TeX-AMS-MML_SVG\"></script><script type=\"text/javascript\">if (window.MathJax) {MathJax.Hub.Config({SVG: {font: \"STIX-Web\"}});}</script>                <script type=\"text/javascript\">window.PlotlyConfig = {MathJaxConfig: 'local'};</script>\n",
              "        <script src=\"https://cdn.plot.ly/plotly-2.8.3.min.js\"></script>                <div id=\"2173681c-879c-41a8-9b13-e6a323666dfb\" class=\"plotly-graph-div\" style=\"height:600px; width:1300px;\"></div>            <script type=\"text/javascript\">                                    window.PLOTLYENV=window.PLOTLYENV || {};                                    if (document.getElementById(\"2173681c-879c-41a8-9b13-e6a323666dfb\")) {                    Plotly.newPlot(                        \"2173681c-879c-41a8-9b13-e6a323666dfb\",                        [{\"alignmentgroup\":\"True\",\"bingroup\":\"x\",\"histfunc\":\"sum\",\"hovertemplate\":\"polarity=%{x}<br>sum of subjectivity=%{y}<extra></extra>\",\"legendgroup\":\"\",\"marker\":{\"color\":\"#636efa\",\"pattern\":{\"shape\":\"\"}},\"name\":\"\",\"offsetgroup\":\"\",\"orientation\":\"v\",\"showlegend\":false,\"x\":[-1.0,-0.9375,-0.91552734375,-0.91,-0.9,-0.875,-0.85,-0.8333333333333333,-0.825,-0.8214285714285714,-0.8049999999999999,-0.8,-0.7999999999999999,-0.78125,-0.75,-0.7142857142857143,-0.7,-0.6999999999999998,-0.6922743055555556,-0.6895833333333333,-0.6875,-0.6749999999999999,-0.6666666666666666,-0.6510416666666667,-0.65,-0.625,-0.6071428571428572,-0.6000000000000001,-0.6,-0.5999999999999999,-0.5859375,-0.5821428571428572,-0.5777777777777778,-0.5571428571428572,-0.55,-0.5499999999999999,-0.5458333333333333,-0.5333333333333333,-0.5277777777777778,-0.525,-0.5000000000000001,-0.5,-0.49375,-0.4875,-0.4861111111111111,-0.4666666666666667,-0.4666666666666666,-0.4624999999999999,-0.4583333333333333,-0.45625,-0.4508928571428571,-0.45,-0.4499999999999999,-0.4464285714285714,-0.4375,-0.4357142857142857,-0.4333333333333333,-0.4318181818181818,-0.4277777777777777,-0.4270833333333333,-0.425,-0.4125,-0.40625,-0.4000000000000001,-0.4,-0.3999999999999999,-0.39375,-0.3916666666666666,-0.390625,-0.3888888888888889,-0.3841666666666667,-0.3833333333333333,-0.3791666666666666,-0.3777777777777777,-0.375,-0.3708333333333333,-0.3670454545454545,-0.3666666666666667,-0.3666666666666666,-0.3630952380952381,-0.3583333333333333,-0.3571428571428571,-0.35625,-0.3500000000000001,-0.35,-0.3499999999999999,-0.337037037037037,-0.3333333333333333,-0.3333333333333332,-0.3318181818181818,-0.3296296296296296,-0.3277777777777778,-0.325,-0.3249999999999999,-0.3238095238095238,-0.3214285714285714,-0.3185185185185185,-0.3166666666666667,-0.3166666666666666,-0.3147727272727273,-0.3125,-0.3111111111111111,-0.3083333333333333,-0.3,-0.2999999999999999,-0.295,-0.2936507936507936,-0.2916666666666667,-0.2888888888888888,-0.2882812499999999,-0.2851851851851852,-0.285,-0.2833333333333334,-0.2818181818181818,-0.28125,-0.2777777777777778,-0.275,-0.2749999999999999,-0.2722222222222222,-0.2700757575757576,-0.2678571428571428,-0.2666666666666666,-0.265,-0.2625,-0.2604166666666666,-0.26,-0.2583333333333333,-0.2571428571428572,-0.2571428571428571,-0.25625,-0.2545454545454546,-0.2535714285714285,-0.25,-0.2499999999999999,-0.2477678571428571,-0.2416666666666666,-0.2375,-0.2361111111111111,-0.234375,-0.2333333333333333,-0.2333333333333332,-0.2318181818181818,-0.2307692307692307,-0.2277777777777778,-0.225,-0.2247916666666666,-0.2222222222222222,-0.2212121212121212,-0.2202380952380952,-0.21875,-0.2185185185185185,-0.2166666666666666,-0.2142857142857142,-0.2125,-0.2083333333333333,-0.20625,-0.2055555555555555,-0.2045454545454545,-0.2041666666666667,-0.2,-0.1999999999999999,-0.1999999999999998,-0.1958333333333333,-0.1952380952380952,-0.195,-0.1944444444444444,-0.1916666666666666,-0.19125,-0.1907407407407407,-0.1888888888888888,-0.1875,-0.1857142857142857,-0.1851851851851852,-0.184375,-0.1833333333333333,-0.1825396825396825,-0.1818181818181818,-0.18125,-0.1795138888888889,-0.1791666666666667,-0.1785714285714285,-0.1777777777777777,-0.1775,-0.175,-0.1749999999999999,-0.1729166666666667,-0.1714285714285714,-0.1708333333333333,-0.1666666666666666,-0.165625,-0.1647727272727273,-0.1636904761904762,-0.1625,-0.1611111111111111,-0.1607638888888889,-0.16,-0.1583333333333333,-0.1571428571428571,-0.15625,-0.1555555555555555,-0.1545454545454545,-0.1513888888888888,-0.1511904761904761,-0.15,-0.1499999999999999,-0.1486111111111111,-0.146484375,-0.1458333333333333,-0.1452380952380952,-0.1444444444444444,-0.1428571428571428,-0.1416666666666666,-0.1401515151515151,-0.1399999999999999,-0.1388888888888889,-0.1385185185185185,-0.1375,-0.1374999999999999,-0.1351851851851851,-0.1339285714285714,-0.1333333333333333,-0.1333333333333332,-0.1319444444444444,-0.1318181818181818,-0.1305555555555555,-0.13,-0.1296296296296296,-0.1291666666666666,-0.1285714285714285,-0.1277777777777778,-0.1266666666666666,-0.1262626262626262,-0.125,-0.1217948717948717,-0.1212121212121212,-0.12,-0.119047619047619,-0.11875,-0.1180555555555555,-0.1171428571428571,-0.1166666666666666,-0.1125,-0.1124999999999999,-0.1099999999999999,-0.1096296296296296,-0.1083333333333333,-0.1071428571428571,-0.106712962962963,-0.10625,-0.1062499999999999,-0.1045454545454545,-0.1041666666666666,-0.1033333333333333,-0.1028571428571428,-0.1,-0.0999999999999999,-0.0972222222222222,-0.0962962962962962,-0.0958333333333333,-0.0944444444444444,-0.09375,-0.0928571428571428,-0.0924603174603174,-0.0916666666666666,-0.0906249999999999,-0.0899305555555555,-0.0897727272727272,-0.0888888888888888,-0.0875,-0.0864583333333333,-0.0851851851851852,-0.0850074404761905,-0.0833333333333333,-0.0823232323232323,-0.0818181818181818,-0.0805555555555555,-0.08,-0.0797979797979798,-0.0791666666666666,-0.078125,-0.0777777777777777,-0.0769230769230769,-0.075,-0.0749999999999999,-0.0733333333333333,-0.0722222222222222,-0.071875,-0.0714285714285714,-0.0708333333333333,-0.0699999999999999,-0.0697916666666666,-0.0696428571428571,-0.0685185185185185,-0.0681818181818181,-0.0672619047619047,-0.0666666666666667,-0.0666666666666666,-0.0658333333333333,-0.0651851851851852,-0.0633333333333333,-0.0625,-0.0611111111111111,-0.0604166666666666,-0.0583333333333333,-0.0568181818181818,-0.0555555555555555,-0.055,-0.0545454545454545,-0.0541666666666666,-0.0520833333333333,-0.0518518518518518,-0.0513888888888889,-0.05,-0.0499999999999999,-0.0499438832772166,-0.0479166666666666,-0.0462962962962963,-0.0458333333333333,-0.0444444444444444,-0.0416666666666666,-0.0411111111111111,-0.0407407407407407,-0.0397727272727272,-0.0395833333333333,-0.0388888888888888,-0.0383333333333333,-0.0380952380952381,-0.0375,-0.0374999999999998,-0.0361111111111111,-0.0359999999999999,-0.0359788359788359,-0.0357142857142857,-0.0333333333333333,-0.0333333333333332,-0.0327380952380952,-0.0327272727272727,-0.0325,-0.0322916666666666,-0.0318181818181818,-0.03125,-0.0291666666666666,-0.0285714285714285,-0.0277777777777777,-0.025,-0.0249999999999999,-0.0225,-0.0222222222222222,-0.021875,-0.0217948717948717,-0.0214285714285714,-0.0212121212121212,-0.0208333333333333,-0.02,-0.01875,-0.0185185185185185,-0.0177777777777777,-0.0166666666666666,-0.015625,-0.0139682539682539,-0.0138888888888888,-0.0133928571428571,-0.0133333333333333,-0.0125,-0.0124999999999999,-0.011111111111111,-0.01,-0.0095959595959596,-0.0083333333333333,-0.0071428571428571,-0.0063973063973064,-0.00625,-0.0045454545454545,-0.0041666666666666,-0.0034090909090909,-0.0033333333333333,-0.0019097222222222,-1.3877787807814457e-17,-9.251858538542969e-18,0.0,3.7007434154171876e-17,5.551115123125783e-17,0.0022222222222222,0.0027777777777777,0.0041666666666666,0.0047619047619048,0.0056818181818181,0.0062499999999999,0.00625,0.0071428571428571,0.0074074074074073,0.0083333333333333,0.0088888888888888,0.0093749999999999,0.01,0.0104166666666666,0.0111111111111111,0.0116666666666666,0.0121212121212121,0.0124999999999999,0.0125,0.0146031746031745,0.0148148148148148,0.015625,0.0166666666666666,0.0175,0.0181818181818181,0.0189814814814815,0.0199999999999999,0.02,0.0208333333333333,0.0216450216450216,0.0222222222222222,0.0235119047619047,0.0249999999999999,0.025,0.0263888888888888,0.0275,0.0285714285714285,0.0293650793650793,0.03,0.03125,0.0333333333333333,0.034090909090909,0.0343749999999999,0.0344155844155844,0.0349999999999999,0.035,0.0357142857142857,0.0361111111111111,0.037215909090909,0.0374999999999999,0.0375,0.0388888888888888,0.0396825396825396,0.04,0.0406249999999999,0.0416666666666666,0.0428571428571428,0.0431818181818181,0.0439393939393939,0.0444444444444444,0.0446428571428571,0.045,0.0454545454545454,0.0458333333333333,0.0472222222222222,0.0472727272727272,0.0477777777777777,0.048076923076923,0.0481481481481481,0.04875,0.0499999999999999,0.05,0.0511363636363636,0.052,0.0527777777777777,0.0533333333333333,0.0535714285714285,0.0537878787878787,0.0541666666666666,0.0555555555555555,0.0568181818181818,0.0573593073593073,0.0583333333333333,0.059090909090909,0.0595238095238095,0.06,0.0619047619047619,0.0621212121212121,0.0624999999999999,0.0625,0.0635416666666666,0.0636111111111111,0.0642857142857143,0.0647569444444444,0.0648148148148148,0.065,0.0666666666666666,0.0666666666666667,0.0674242424242424,0.0681818181818181,0.0691964285714285,0.0694444444444444,0.0708333333333333,0.0714285714285714,0.0715909090909091,0.0722222222222222,0.0723809523809523,0.075,0.0767045454545454,0.0772727272727272,0.0777777777777777,0.078125,0.0787878787878787,0.08,0.08125,0.0814814814814814,0.0819444444444444,0.0833333333333333,0.0852272727272727,0.0857142857142857,0.0859375,0.0866666666666666,0.0866666666666667,0.0875,0.0883838383838383,0.0888888888888888,0.0892857142857142,0.0892857142857143,0.0895833333333333,0.0897727272727272,0.0909090909090909,0.0916666666666666,0.0931818181818181,0.0933333333333333,0.0936507936507936,0.09375,0.0944444444444444,0.0945963541666666,0.0952380952380952,0.0954545454545454,0.0958333333333333,0.0972222222222222,0.0975378787878787,0.0988888888888888,0.0989285714285714,0.0999999999999999,0.1,0.1020833333333333,0.1027777777777777,0.1041666666666666,0.1055555555555555,0.10625,0.1071428571428571,0.1083333333333333,0.109375,0.1106060606060606,0.1111111111111111,0.11125,0.1121212121212121,0.1124999999999999,0.1125,0.1130952380952381,0.1134353741496598,0.1136363636363636,0.1145833333333333,0.1148148148148148,0.1160714285714285,0.1162878787878787,0.1166666666666666,0.1166666666666667,0.1168831168831168,0.1175347222222222,0.1181818181818181,0.1194155844155843,0.12,0.1208333333333333,0.1214285714285714,0.1222222222222222,0.1242424242424242,0.1247619047619047,0.1249999999999999,0.125,0.1269360269360269,0.1277777777777777,0.1285714285714285,0.1287878787878787,0.13,0.1306818181818181,0.1308333333333333,0.1333333333333333,0.1346153846153846,0.135,0.1354166666666666,0.1357142857142857,0.1361111111111111,0.1363636363636363,0.1366666666666667,0.1371212121212121,0.1375,0.138095238095238,0.1383928571428571,0.1392857142857143,0.1395833333333333,0.1403703703703703,0.1406926406926406,0.1410714285714285,0.1412337662337662,0.1416666666666666,0.1428571428571428,0.14375,0.1444444444444444,0.1454545454545454,0.1458333333333333,0.1464285714285714,0.146590909090909,0.1481481481481481,0.1481818181818182,0.1482323232323232,0.1499999999999999,0.15,0.1515151515151515,0.152,0.1520833333333333,0.1534090909090908,0.1537878787878787,0.1555555555555555,0.156060606060606,0.15625,0.1583333333333333,0.1590909090909091,0.16,0.1611111111111111,0.1619047619047618,0.1619047619047619,0.1621212121212121,0.1624999999999999,0.1625,0.1630952380952381,0.1633333333333333,0.165,0.1666666666666666,0.1666666666666667,0.1676136363636363,0.1676767676767676,0.1681818181818181,0.16875,0.17,0.1704545454545454,0.1708333333333333,0.1714285714285714,0.171875,0.1722222222222222,0.1729166666666666,0.1733333333333333,0.173611111111111,0.175,0.1753246753246753,0.1777777777777777,0.1785714285714285,0.1787878787878788,0.1814814814814814,0.1821212121212121,0.1833333333333333,0.1839285714285714,0.184090909090909,0.1875,0.1888888888888888,0.1901041666666666,0.1904761904761904,0.1914285714285714,0.1916666666666666,0.1923701298701298,0.1928571428571428,0.1931818181818181,0.1939393939393939,0.1944444444444444,0.195,0.1953125,0.1954545454545454,0.1955194805194805,0.1958333333333333,0.1975,0.1981481481481481,0.1999999999999999,0.2,0.2041666666666666,0.205,0.2055555555555555,0.20625,0.2071428571428571,0.2083333333333333,0.2095238095238095,0.21,0.2102272727272727,0.211038961038961,0.2111111111111111,0.2115384615384615,0.2119047619047619,0.2120535714285714,0.2121212121212121,0.2125,0.2142857142857142,0.215,0.2166666666666666,0.2176767676767676,0.2178571428571428,0.2181818181818181,0.21875,0.22,0.2202380952380952,0.2208333333333333,0.221875,0.2222222222222222,0.2228571428571428,0.2240909090909091,0.2242424242424242,0.2249999999999999,0.225,0.2272727272727272,0.2276785714285714,0.2285714285714285,0.2285714285714286,0.2294823232323232,0.2321428571428571,0.2322510822510822,0.2333333333333333,0.234090909090909,0.2340909090909091,0.2348484848484848,0.235,0.2352272727272727,0.236111111111111,0.2375,0.2376893939393939,0.2380952380952381,0.2388888888888889,0.2398148148148148,0.24,0.2403409090909091,0.241903409090909,0.2424242424242424,0.2428571428571428,0.2431818181818181,0.2433333333333333,0.2444444444444444,0.245,0.2454545454545454,0.246484375,0.2467532467532467,0.2475694444444444,0.2476923076923077,0.2499999999999999,0.25,0.2523809523809524,0.2525,0.2533333333333333,0.2541666666666666,0.2555555555555555,0.2556818181818182,0.25625,0.2571428571428571,0.2583333333333333,0.26,0.2611111111111111,0.2619047619047619,0.2625,0.2654545454545454,0.2666666666666666,0.2675,0.2678571428571428,0.2681818181818182,0.2703703703703703,0.2708333333333333,0.2714285714285714,0.2722222222222222,0.2749999999999999,0.275,0.2757575757575757,0.2767857142857143,0.2770833333333333,0.2777777777777777,0.2777777777777778,0.2785714285714286,0.2787878787878788,0.2791666666666667,0.2799999999999999,0.2805555555555555,0.28125,0.2814814814814815,0.2833333333333332,0.2833333333333333,0.2833333333333334,0.284090909090909,0.2857142857142857,0.2875,0.2877777777777778,0.2895833333333333,0.2901515151515151,0.2904761904761904,0.290625,0.2916666666666667,0.2928571428571428,0.2934027777777778,0.2944444444444444,0.2952380952380952,0.2954545454545454,0.296590909090909,0.29765625,0.2981481481481481,0.3,0.301010101010101,0.3020833333333333,0.30234375,0.303125,0.3035714285714286,0.3071428571428571,0.3083333333333333,0.3090909090909091,0.3095238095238095,0.3111111111111111,0.3121212121212121,0.3125,0.3162878787878788,0.3166666666666666,0.3178571428571428,0.3181818181818182,0.31875,0.3194444444444445,0.3199999999999999,0.3203125,0.3208333333333333,0.3214285714285714,0.321590909090909,0.3222222222222222,0.3227272727272727,0.3233333333333333,0.3247619047619047,0.3249999999999999,0.325,0.3261904761904762,0.3277777777777778,0.3278409090909091,0.3285714285714285,0.3287878787878788,0.3291666666666666,0.33,0.33125,0.3318181818181818,0.3333333333333333,0.3352272727272727,0.3366071428571429,0.3375,0.3380681818181818,0.3420138888888888,0.3422619047619047,0.3428571428571428,0.34375,0.3454545454545454,0.3499999999999999,0.35,0.3511904761904761,0.3541666666666666,0.3556547619047618,0.35625,0.3565340909090909,0.3571428571428571,0.3583333333333333,0.36,0.3611111111111111,0.3616666666666667,0.3621212121212121,0.3622727272727273,0.3625,0.3636363636363636,0.3666666666666667,0.3681818181818181,0.3681818181818182,0.369047619047619,0.3691666666666667,0.3703125,0.375,0.3777777777777777,0.3777777777777778,0.3787878787878787,0.3787878787878788,0.3790178571428571,0.38,0.3806818181818182,0.3814814814814815,0.3833333333333333,0.384090909090909,0.3872727272727272,0.3874999999999999,0.3875,0.390625,0.3909722222222223,0.3928571428571428,0.3944444444444444,0.395,0.3952380952380952,0.3954545454545455,0.3999999999999999,0.4,0.4000000000000001,0.4017857142857143,0.4027777777777777,0.4037878787878788,0.4055555555555556,0.40625,0.4065656565656566,0.4083333333333334,0.409090909090909,0.41,0.4111111111111111,0.4125,0.4166666666666666,0.4166666666666667,0.4174603174603175,0.4181818181818181,0.42,0.4222222222222222,0.4233333333333333,0.4242424242424241,0.425,0.4285714285714285,0.4285714285714286,0.4287878787878788,0.43,0.4310606060606061,0.43125,0.4333333333333333,0.4375,0.4388888888888889,0.4399999999999999,0.44,0.4428571428571428,0.4431818181818181,0.44375,0.4444444444444444,0.4454545454545455,0.4464285714285714,0.4472222222222222,0.4475,0.4499999999999999,0.45,0.4523809523809524,0.452840909090909,0.4547619047619047,0.4549999999999999,0.4565340909090908,0.4571428571428571,0.4572727272727272,0.4583333333333333,0.4599999999999999,0.4615384615384615,0.4619047619047619,0.4624999999999999,0.4625,0.4656249999999999,0.4666666666666666,0.4666666666666667,0.4681818181818182,0.46875,0.4708333333333333,0.4732142857142857,0.475,0.4767857142857143,0.4785714285714286,0.48,0.4825,0.4833333333333333,0.4844718701911694,0.4852272727272727,0.4857142857142857,0.4875,0.48828125,0.4888888888888889,0.49,0.4901515151515151,0.4910714285714286,0.4928571428571428,0.494140625,0.5,0.5000000000000001,0.5020833333333333,0.5041666666666667,0.50625,0.51,0.5166666666666666,0.5166666666666667,0.5175,0.52,0.5208333333333334,0.5222222222222223,0.5249999999999999,0.525,0.5285714285714286,0.5328571428571429,0.5330357142857143,0.5333333333333333,0.534375,0.5375,0.5416666666666666,0.5416666666666667,0.5428571428571429,0.5444444444444444,0.5454545454545454,0.546875,0.5499999999999999,0.55,0.5533333333333333,0.5555555555555556,0.55625,0.5625,0.5633333333333334,0.5666666666666667,0.5681818181818181,0.575,0.58,0.5833333333333334,0.5875,0.5916666666666667,0.5928571428571429,0.5978571428571429,0.6,0.6000000000000001,0.6071428571428571,0.611111111111111,0.6121212121212122,0.6136363636363636,0.6166666666666667,0.625,0.6250000000000001,0.6333333333333333,0.6333333333333334,0.6375,0.6428571428571428,0.64375,0.6499999999999999,0.65,0.650390625,0.65625,0.6568181818181819,0.665,0.6666666666666666,0.675,0.6777777777777777,0.6785714285714286,0.6833333333333332,0.6840909090909091,0.6875,0.6933333333333334,0.6950000000000001,0.6999999999999998,0.7,0.7000000000000001,0.7109375,0.7125,0.7166666666666667,0.7166666666666668,0.7250000000000001,0.732421875,0.74,0.740625,0.75,0.7500000000000001,0.7666666666666666,0.7749999999999999,0.7750000000000001,0.78,0.78125,0.7816666666666667,0.79,0.7999999999999999,0.8,0.8000000000000002,0.8083333333333332,0.8125,0.825,0.8255208333333334,0.8333333333333334,0.85,0.875,0.9,0.91,0.925,0.9375,0.95,0.975,0.9765625,1.0],\"xaxis\":\"x\",\"y\":[58.65714285714286,1.0,0.6,1.0,9.5,8.8,0.95,1.916666666666667,1.0,0.9285714285714286,0.95,60.7,7.0,2.3,7.016666666666667,1.7142857142857142,13.225,9.566666666666666,0.6166666666666667,0.8520833333333333,0.8125,0.7083333333333334,2.0,0.75,4.7,5.525,0.9285714285714286,1.4,43.65,1.6666666666666665,0.5,0.8535714285714286,0.6444444444444445,0.7785714285714285,2.0833333333333335,1.2166666666666666,0.7708333333333333,1.3,0.7638888888888888,0.8,0.8666666666666667,149.62083333333334,0.7,0.55,0.8333333333333334,0.7,1.1944444444444442,0.5625,0.75,0.7,0.6785714285714286,6.825,0.75,0.4285714285714285,1.7333333333333334,3.342857142857143,3.088888888888889,0.7272727272727273,1.1222222222222222,0.6666666666666667,2.3833333333333333,1.1099999999999999,0.59375,3.5999999999999996,68.05,2.4,0.7,1.3416666666666668,1.909375,5.847222222222222,0.7425,0.5499999999999999,0.9,0.5944444444444444,6.7625,0.6,0.7136363636363636,1.4555555555555557,1.161111111111111,0.6785714285714285,1.2,2.3035714285714284,0.2,0.5833333333333334,8.041666666666668,6.423333333333333,0.525925925925926,12.63888888888889,0.3222222222222222,0.6772727272727272,0.6185185185185186,1.038888888888889,3.775,0.5083333333333333,0.4047619047619047,0.7857142857142857,0.8592592592592592,3.5777777777777775,0.5833333333333333,0.7,13.508333333333333,0.5977777777777777,1.1833333333333331,44.547222222222224,0.6,0.645,0.8119047619047618,10.291666666666666,0.2861111111111111,0.95,0.4629629629629629,0.6292307692307693,0.5333333333333333,0.6272727272727273,0.6,0.6888888888888888,2.8916666666666666,0.625,0.6222222222222222,0.5886363636363636,0.3571428571428571,3.333333333333333,0.315,0.95,0.5833333333333333,1.0,1.8305555555555555,1.4857142857142858,1.3464285714285713,0.39375,0.5515151515151515,0.5589285714285714,47.24940476190476,1.5833333333333335,0.7678571428571428,0.5499999999999999,0.9,0.2944444444444444,0.5,3.8055555555555554,0.3055555555555555,0.7,0.4615384615384615,0.6444444444444445,2.973611111111111,0.7116666666666666,1.4,0.6348484848484849,0.6190476190476191,1.05625,0.262962962962963,5.1,0.8571428571428571,1.7875,4.583333333333333,0.63125,0.2611111111111111,1.5993265993265995,0.2958333333333333,49.67916666666667,9.902777777777777,0.6777777777777777,0.6333333333333333,0.5126984126984127,0.26,3.394444444444445,0.2125,0.6287499999999999,0.4851851851851852,1.5999999999999999,1.8375,0.5178571428571428,1.025925925925926,0.5125,2.2666666666666666,0.623015873015873,1.9318181818181819,0.79375,0.5565972222222222,0.4854166666666666,1.2723214285714284,0.3888888888888889,0.6,4.40625,0.8999999999999999,0.4375,1.1464285714285716,0.5416666666666666,23.28988095238095,0.8583333333333334,0.7272727272727273,0.331547619047619,1.7875,0.4055555555555555,0.3972222222222222,0.3,1.075,1.6464285714285714,3.83125,32.05833333333334,0.6666666666666666,0.35,0.2697619047619047,35.137499999999996,0.75,0.2736111111111111,0.6499999999999999,4.266666666666667,0.5095238095238095,0.5916666666666667,1.0714285714285714,1.5916666666666668,0.5606060606060606,0.4599999999999999,0.5833333333333334,0.1618518518518518,1.3666666666666665,0.825,0.2212962962962963,0.4964285714285714,12.886111111111111,0.7,0.7291666666666666,0.5022727272727273,0.6555555555555556,1.3900000000000001,0.6111111111111112,1.0666666666666667,0.700595238095238,0.3743055555555555,0.3566666666666666,0.6439393939393939,46.02777777777778,0.1679487179487179,1.028030303030303,1.4899999999999998,0.1904761904761904,1.55,0.1888888888888888,0.6535714285714286,2.2555555555555555,1.725,0.56875,0.3766666666666666,0.6244444444444445,1.0166666666666666,6.185714285714285,0.3435185185185185,0.35,0.5354166666666667,0.6681818181818181,0.41666666666666663,0.36,0.3814285714285714,69.75583333333333,5.394444444444444,1.3111111111111111,0.4111111111111111,0.4458333333333333,0.5166666666666667,2.89375,0.7357142857142858,0.3061507936507937,0.7,0.65,0.2638888888888889,3.8181818181818183,0.688888888888889,0.65,0.5851851851851853,0.4462962962962963,1.0773809523809523,10.172420634920634,0.4666666666666666,0.5,0.1513888888888889,0.7,0.4373737373737374,0.4625,0.8864583333333333,6.265277777777777,0.5384615384615384,9.39236111111111,0.825,0.1866666666666666,0.5333333333333333,0.875,3.2607142857142843,0.2625,0.47,0.4111111111111111,0.4714285714285714,0.5925925925925926,0.5,0.5452380952380952,2.1333333333333333,6.563888888888888,0.5408333333333333,0.4096296296296296,0.34,9.641666666666667,0.3333333333333333,0.56875,1.2916666666666665,0.3522727272727273,2.5694444444444446,0.2933333333333333,0.6181818181818182,0.375,1.1958333333333333,2.5448148148148144,0.4388888888888889,44.721296296296295,12.330555555555556,0.328395061728395,0.6854166666666667,0.8222222222222222,0.3708333333333333,1.488888888888889,4.325277777777778,0.3077777777777778,0.3074074074074074,1.125,0.3791666666666666,0.3833333333333333,0.755,0.98992673992674,0.2416666666666666,0.5333333333333333,0.4194444444444444,0.7433333333333334,0.5227513227513227,0.3357142857142856,9.801282051282051,0.7555555555555555,1.3303571428571426,0.8,0.1475,0.6416666666666666,2.259090909090909,1.1375,0.6,0.8780753968253967,1.2777777777777777,4.754166666666666,2.1875,3.7749999999999995,0.961111111111111,0.225,0.1679487179487179,0.5857142857142856,0.1515151515151515,0.8375000000000001,0.6699999999999999,0.8125,0.8388888888888889,0.7416666666666667,2.0436507936507935,0.2416666666666666,0.5849206349206348,0.0722222222222222,0.6116071428571428,0.7433333333333332,1.6125,1.7000000000000002,0.7000000000000001,1.62,1.1151515151515152,2.0999999999999996,0.4657142857142856,0.2954304954304954,1.59375,0.2848484848484848,1.35,0.2386363636363636,0.3533333333333333,0.5194444444444445,0.4541666666666667,0.6666666666666666,529.1318788156289,1.2777777777777777,1.2666666666666666,0.4144444444444444,0.0222222222222222,0.2708333333333333,0.708994708994709,1.6420454545454546,0.3,0.9,0.2142857142857142,0.3592592592592593,0.8305555555555555,0.9266666666666666,0.396875,0.95,0.8020833333333333,0.4111111111111111,0.6322222222222222,0.2666666666666666,0.4,1.8624999999999998,0.4406349206349206,0.2296296296296296,0.2083333333333333,4.882777777777777,0.4574999999999999,2.1818181818181817,0.562962962962963,0.8666666666666667,0.76,1.075,0.2229437229437229,1.1777777777777776,0.5193452380952381,1.7226190476190475,5.210813492063492,0.5097222222222222,0.945,0.3119047619047619,0.3587301587301587,1.2149999999999999,2.0479166666666666,16.43611111111111,0.3886363636363636,0.675,0.4723376623376623,0.4,0.505,0.2142857142857142,0.2722222222222222,0.5386363636363637,0.9,2.54375,0.4277777777777777,0.2341269841269841,0.3264285714285714,0.925,2.125,0.4178571428571428,0.45,0.1909090909090909,1.3222222222222222,0.4017857142857143,0.4383333333333333,4.093181818181818,0.5416666666666666,0.3111111111111111,0.54,0.2855555555555556,0.5288461538461539,0.2962962962962963,0.72,9.919444444444444,33.49523809523809,0.3352272727272727,0.8485,0.4805555555555555,0.2799999999999999,0.2142857142857142,0.4931818181818181,0.5208333333333333,1.6916666666666662,0.1515151515151515,0.3619047619047619,0.688888888888889,0.425,0.3511904761904761,0.8266666666666665,0.2119047619047619,2.090909090909091,0.1625,15.079166666666666,0.1444444444444444,0.3072222222222222,0.5571428571428572,0.5111111111111111,0.3129629629629629,1.0091666666666665,9.002380952380951,0.3333333333333333,0.4303030303030303,21.986287878787877,0.3571428571428571,1.1018518518518519,0.3333333333333333,1.6925595238095235,0.2219696969696969,0.4333333333333333,1.5114285714285716,6.945595238095238,0.3835227272727273,0.3575757575757575,0.211111111111111,1.075,0.6530303030303028,10.471666666666666,1.4,0.4296296296296296,0.6111111111111112,11.869907407407407,1.6872474747474746,0.3349206349206349,0.1916666666666666,1.9011111111111112,0.6522222222222221,2.15,0.457070707070707,0.6555555555555556,0.6071428571428571,0.5428571428571428,0.3166666666666666,0.7484090909090909,3.9113636363636357,0.9722222222222221,0.4772727272727273,0.4533333333333333,0.1873015873015873,2.3527777777777774,0.8277777777777778,0.5777777777777778,3.5547619047619046,0.5348484848484848,1.5583333333333331,0.4194444444444445,0.2666666666666666,0.4377777777777778,0.5096428571428572,10.564583333333333,123.10063492063492,0.2604166666666666,0.4194444444444444,2.345833333333333,0.1902777777777777,0.6,2.603571428571428,2.111111111111111,0.26875,0.5878787878787879,2.3666666666666667,0.52,1.7825757575757573,2.8125,2.989583333333333,0.4345238095238095,1.0292517006802722,0.6287878787878787,0.3729166666666667,2.1416666666666666,0.3482142857142857,0.5588888888888889,6.472222222222222,0.9166666666666669,0.3658008658008658,0.3944444444444445,2.561363636363636,0.6471428571428571,0.5699999999999998,0.5499999999999999,0.9523809523809524,1.1833333333333331,0.403030303030303,0.537142857142857,0.525,47.443333333333335,0.5478114478114479,0.5305555555555556,1.9476190476190474,1.1323232323232324,3.4816666666666665,0.6545454545454544,0.6275000000000001,14.237777777777778,0.6057692307692308,0.7,0.5333333333333333,0.7365079365079363,1.5875000000000001,77.04545454545453,0.9733333333333333,0.9333333333333332,2.2857142857142856,0.3238095238095237,0.4642857142857143,0.2785714285714286,0.41875,0.5785185185185185,0.4134199134199134,0.490079365079365,0.3922077922077922,0.83,5.439285714285713,2.7249999999999996,1.1666666666666665,1.578030303030303,0.7166666666666667,0.4369047619047618,0.4386363636363636,0.2962962962962963,0.9945454545454544,0.520959595959596,1.8000000000000003,35.90435185185185,0.3939393939393939,0.433,0.41875,1.3636363636363633,1.0999999999999999,0.8666666666666667,0.3924242424242424,3.0375,3.1416666666666666,0.7648989898989897,22.679999999999996,0.4263888888888889,0.3190476190476191,0.5785714285714286,0.3348484848484849,0.4083333333333333,1.6125,0.4339285714285714,0.4366666666666666,0.285,42.323611111111106,0.4666666666666666,0.2698863636363636,0.4737373737373738,1.5790909090909089,0.4937499999999999,0.73,6.59090909090909,1.1833333333333333,0.7017857142857142,0.4875,1.9722222222222223,0.375,0.3533333333333333,0.7152777777777778,17.822916666666664,0.512987012987013,1.6666666666666665,1.4249999999999998,0.4848484848484848,0.2962962962962963,0.4148484848484848,3.1277777777777773,0.5339285714285714,0.7231060606060604,11.325,1.0,1.3666666666666665,0.4523809523809523,0.2942857142857143,3.642307692307692,0.5714285714285714,1.7714285714285714,2.009090909090909,1.032727272727273,1.233333333333333,0.1925,1.0,0.4515151515151515,0.4325649350649351,0.7166666666666667,0.5225,0.9203703703703704,11.974867724867725,144.9976282051282,1.1416666666666666,0.52,0.5,0.75,0.3964285714285714,17.59861111111111,0.5952380952380952,0.3366666666666666,1.2045454545454546,1.0129870129870129,0.3222222222222222,0.8317307692307692,0.6396825396825396,0.7857142857142857,2.705050505050505,1.0125,11.428571428571427,0.54,10.384027777777778,0.6944444444444445,0.5678571428571428,3.7386363636363638,1.26875,2.7,1.4940476190476188,1.1666666666666665,0.49375,1.238888888888889,0.5378571428571428,0.4486363636363636,1.2,3.35,12.347222222222221,3.818181818181818,0.4339285714285714,0.7904761904761903,0.8714285714285714,0.5070707070707071,0.3809523809523809,1.0023809523809524,25.74351851851852,0.5136363636363637,1.8462121212121212,1.871212121212121,0.5594444444444445,0.2272727272727272,0.2805555555555555,3.470833333333333,0.6038961038961039,1.9058201058201056,0.9,0.5546296296296297,0.8641666666666665,0.4344696969696969,0.6,0.5151515151515151,2.0892857142857144,3.952272727272727,0.6488888888888888,0.2222222222222222,1.0,2.0863636363636364,0.4249999999999999,0.512987012987013,0.4972222222222222,0.5446153846153846,0.3,168.92159645909646,1.4,0.71,0.6333333333333333,0.5333333333333333,0.7000000000000001,0.625,0.5833333333333333,0.6785714285714286,1.6166666666666667,0.26,0.4888888888888889,0.5595238095238094,0.375,0.4648484848484848,15.446428571428571,2.06,1.0773809523809523,8.136363636363637,0.6777777777777777,1.1994047619047619,0.6464285714285714,1.4555555555555557,0.4333333333333333,5.877083333333333,0.6651515151515152,0.6142857142857142,0.4854166666666666,0.5222222222222221,0.3555555555555555,0.4357142857142857,0.5848484848484848,0.5208333333333334,0.5,0.6583333333333333,1.875,1.159259259259259,0.65,3.5685185185185184,1.35,4.370454545454543,27.678571428571427,3.2125,0.5261111111111111,1.3479166666666667,0.4181818181818182,0.5619047619047619,0.5,2.562962962962963,0.6428571428571428,0.4444444444444444,0.6277777777777778,0.3785714285714285,0.7129629629629629,0.4511363636363636,0.4,3.0314814814814817,68.27583333333334,0.611111111111111,0.6354166666666666,0.7,0.525,0.5357142857142857,0.6607142857142857,3.158333333333333,0.2484848484848484,0.1714285714285714,0.9111111111111112,1.0987373737373738,9.417628205128205,0.6348484848484849,4.644444444444445,0.5928571428571429,8.271590909090909,0.43125,0.625,0.8400000000000001,0.3949999999999999,0.5708333333333333,1.0277777777777777,0.4761363636363637,2.1444444444444444,0.3424242424242424,0.5683333333333334,0.7276190476190476,2.75,5.920833333333333,0.6178571428571429,1.5055555555555555,0.4636363636363636,0.7309523809523809,0.5499999999999999,0.8125,2.01,0.475,0.6363636363636364,34.78472222222222,2.0934343434343434,0.5089285714285714,6.339285714285714,0.3,0.5138888888888888,0.7172619047619048,0.4678571428571428,3.48125,0.5292929292929293,2.6666666666666665,100.35069444444444,0.5178571428571428,0.7083333333333333,0.3785714285714285,0.6000000000000001,0.6022727272727273,13.517857142857142,1.1666666666666667,0.4349999999999999,0.6444444444444445,0.5,0.5333333333333333,0.3909090909090909,4.35,2.290909090909091,13.17222222222222,1.4522727272727272,0.6772727272727272,0.4785714285714285,0.72,0.575,36.58416666666667,1.2722222222222221,0.4888888888888889,1.003030303030303,1.0015151515151515,0.3678571428571429,2.645,0.7272727272727273,0.562962962962963,9.019444444444444,0.5886363636363636,0.4442424242424242,1.075,0.725,3.333333333333333,0.5944444444444444,6.1464285714285705,0.8888888888888888,1.1099999999999999,0.6785714285714285,0.5681818181818182,8.316666666666666,135.06964285714287,20.25,0.5761904761904761,0.4805555555555554,0.6681818181818183,0.5277777777777778,1.4,0.5959595959595959,0.525,1.135858585858586,0.82,0.5444444444444444,2.5,14.25,9.616666666666667,0.7452380952380953,3.890909090909091,0.6599999999999999,0.6444444444444445,0.5499999999999999,0.403030303030303,11.458333333333334,1.1534391534391535,0.5357142857142857,0.6681818181818181,0.5700000000000001,0.3757575757575758,0.5895833333333333,33.959259259259255,10.450000000000001,0.5,0.4599999999999999,0.64,1.4857142857142858,0.5772727272727273,0.6000000000000001,0.5,0.5666666666666668,0.5357142857142857,0.5277777777777778,0.71,4.6000000000000005,31.770138888888887,0.5238095238095238,0.509469696969697,0.6422619047619048,0.5150000000000001,0.5772727272727273,0.5857142857142857,5.588181818181818,2.4,0.613,0.3346153846153846,0.6452380952380952,1.4,0.6,0.8374999999999999,3.2777777777777777,1.7277777777777779,5.615909090909091,6.1875,0.6166666666666667,0.7678571428571428,4.0125,0.6928571428571428,1.4714285714285715,1.29,0.5466666666666666,0.9499999999999998,0.5833333333333334,1.3522727272727273,0.4063492063492063,0.4875,0.25,0.5277777777777778,0.6975,0.6515151515151515,0.5357142857142857,2.8392857142857144,0.75,399.6940740740741,2.4,0.5104166666666666,0.7333333333333334,1.35,0.75,1.4666666666666668,1.4166666666666665,0.5700000000000001,2.0,1.1666666666666667,1.2333333333333334,0.5874999999999999,6.6,0.2785714285714285,0.7678571428571428,0.7928571428571429,4.65,0.55,0.4,0.7333333333333333,0.8333333333333334,1.5357142857142856,0.6611111111111111,1.268181818181818,1.3499999999999999,2.0999999999999996,20.361666666666668,0.6866666666666666,1.777777777777778,0.5416666666666666,0.7,1.92,5.354629629629629,0.3772727272727272,1.1555555555555554,0.4199999999999999,0.5208333333333333,0.875,0.9583333333333334,0.7678571428571428,0.6578571428571429,111.62222222222222,23.325,1.342857142857143,0.7222222222222222,1.2363636363636363,0.7727272727272727,4.394444444444444,20.116666666666667,0.9,3.0925925925925926,0.7666666666666666,0.7375,2.989285714285714,0.55,5.0,16.075694444444444,2.2,2.45,0.7348484848484849,0.82,2.3499999999999996,2.3,0.7555555555555555,0.7678571428571428,0.8333333333333334,0.6011363636363636,2.425,7.266666666666667,1.0,0.7666666666666666,95.375,4.066666666666666,0.8450000000000001,0.675,0.7999999999999999,0.95,0.95,0.1,0.66,1.1500000000000001,26.323611111111113,1.8,3.55,0.8,0.95,4.0,6.075,1.3,0.95,1.4666666666666668,154.4,0.7166666666666667,0.6333333333333333,0.8,0.6,0.4333333333333333,1.8333333333333333,18.2,14.800000000000002,15.391666666666667,0.7800000000000001,2.0,2.8,1.9500000000000002,1.0,0.5,116.99333333333334],\"yaxis\":\"y\",\"type\":\"histogram\"}],                        {\"template\":{\"data\":{\"bar\":[{\"error_x\":{\"color\":\"#2a3f5f\"},\"error_y\":{\"color\":\"#2a3f5f\"},\"marker\":{\"line\":{\"color\":\"#E5ECF6\",\"width\":0.5},\"pattern\":{\"fillmode\":\"overlay\",\"size\":10,\"solidity\":0.2}},\"type\":\"bar\"}],\"barpolar\":[{\"marker\":{\"line\":{\"color\":\"#E5ECF6\",\"width\":0.5},\"pattern\":{\"fillmode\":\"overlay\",\"size\":10,\"solidity\":0.2}},\"type\":\"barpolar\"}],\"carpet\":[{\"aaxis\":{\"endlinecolor\":\"#2a3f5f\",\"gridcolor\":\"white\",\"linecolor\":\"white\",\"minorgridcolor\":\"white\",\"startlinecolor\":\"#2a3f5f\"},\"baxis\":{\"endlinecolor\":\"#2a3f5f\",\"gridcolor\":\"white\",\"linecolor\":\"white\",\"minorgridcolor\":\"white\",\"startlinecolor\":\"#2a3f5f\"},\"type\":\"carpet\"}],\"choropleth\":[{\"colorbar\":{\"outlinewidth\":0,\"ticks\":\"\"},\"type\":\"choropleth\"}],\"contour\":[{\"colorbar\":{\"outlinewidth\":0,\"ticks\":\"\"},\"colorscale\":[[0.0,\"#0d0887\"],[0.1111111111111111,\"#46039f\"],[0.2222222222222222,\"#7201a8\"],[0.3333333333333333,\"#9c179e\"],[0.4444444444444444,\"#bd3786\"],[0.5555555555555556,\"#d8576b\"],[0.6666666666666666,\"#ed7953\"],[0.7777777777777778,\"#fb9f3a\"],[0.8888888888888888,\"#fdca26\"],[1.0,\"#f0f921\"]],\"type\":\"contour\"}],\"contourcarpet\":[{\"colorbar\":{\"outlinewidth\":0,\"ticks\":\"\"},\"type\":\"contourcarpet\"}],\"heatmap\":[{\"colorbar\":{\"outlinewidth\":0,\"ticks\":\"\"},\"colorscale\":[[0.0,\"#0d0887\"],[0.1111111111111111,\"#46039f\"],[0.2222222222222222,\"#7201a8\"],[0.3333333333333333,\"#9c179e\"],[0.4444444444444444,\"#bd3786\"],[0.5555555555555556,\"#d8576b\"],[0.6666666666666666,\"#ed7953\"],[0.7777777777777778,\"#fb9f3a\"],[0.8888888888888888,\"#fdca26\"],[1.0,\"#f0f921\"]],\"type\":\"heatmap\"}],\"heatmapgl\":[{\"colorbar\":{\"outlinewidth\":0,\"ticks\":\"\"},\"colorscale\":[[0.0,\"#0d0887\"],[0.1111111111111111,\"#46039f\"],[0.2222222222222222,\"#7201a8\"],[0.3333333333333333,\"#9c179e\"],[0.4444444444444444,\"#bd3786\"],[0.5555555555555556,\"#d8576b\"],[0.6666666666666666,\"#ed7953\"],[0.7777777777777778,\"#fb9f3a\"],[0.8888888888888888,\"#fdca26\"],[1.0,\"#f0f921\"]],\"type\":\"heatmapgl\"}],\"histogram\":[{\"marker\":{\"pattern\":{\"fillmode\":\"overlay\",\"size\":10,\"solidity\":0.2}},\"type\":\"histogram\"}],\"histogram2d\":[{\"colorbar\":{\"outlinewidth\":0,\"ticks\":\"\"},\"colorscale\":[[0.0,\"#0d0887\"],[0.1111111111111111,\"#46039f\"],[0.2222222222222222,\"#7201a8\"],[0.3333333333333333,\"#9c179e\"],[0.4444444444444444,\"#bd3786\"],[0.5555555555555556,\"#d8576b\"],[0.6666666666666666,\"#ed7953\"],[0.7777777777777778,\"#fb9f3a\"],[0.8888888888888888,\"#fdca26\"],[1.0,\"#f0f921\"]],\"type\":\"histogram2d\"}],\"histogram2dcontour\":[{\"colorbar\":{\"outlinewidth\":0,\"ticks\":\"\"},\"colorscale\":[[0.0,\"#0d0887\"],[0.1111111111111111,\"#46039f\"],[0.2222222222222222,\"#7201a8\"],[0.3333333333333333,\"#9c179e\"],[0.4444444444444444,\"#bd3786\"],[0.5555555555555556,\"#d8576b\"],[0.6666666666666666,\"#ed7953\"],[0.7777777777777778,\"#fb9f3a\"],[0.8888888888888888,\"#fdca26\"],[1.0,\"#f0f921\"]],\"type\":\"histogram2dcontour\"}],\"mesh3d\":[{\"colorbar\":{\"outlinewidth\":0,\"ticks\":\"\"},\"type\":\"mesh3d\"}],\"parcoords\":[{\"line\":{\"colorbar\":{\"outlinewidth\":0,\"ticks\":\"\"}},\"type\":\"parcoords\"}],\"pie\":[{\"automargin\":true,\"type\":\"pie\"}],\"scatter\":[{\"marker\":{\"colorbar\":{\"outlinewidth\":0,\"ticks\":\"\"}},\"type\":\"scatter\"}],\"scatter3d\":[{\"line\":{\"colorbar\":{\"outlinewidth\":0,\"ticks\":\"\"}},\"marker\":{\"colorbar\":{\"outlinewidth\":0,\"ticks\":\"\"}},\"type\":\"scatter3d\"}],\"scattercarpet\":[{\"marker\":{\"colorbar\":{\"outlinewidth\":0,\"ticks\":\"\"}},\"type\":\"scattercarpet\"}],\"scattergeo\":[{\"marker\":{\"colorbar\":{\"outlinewidth\":0,\"ticks\":\"\"}},\"type\":\"scattergeo\"}],\"scattergl\":[{\"marker\":{\"colorbar\":{\"outlinewidth\":0,\"ticks\":\"\"}},\"type\":\"scattergl\"}],\"scattermapbox\":[{\"marker\":{\"colorbar\":{\"outlinewidth\":0,\"ticks\":\"\"}},\"type\":\"scattermapbox\"}],\"scatterpolar\":[{\"marker\":{\"colorbar\":{\"outlinewidth\":0,\"ticks\":\"\"}},\"type\":\"scatterpolar\"}],\"scatterpolargl\":[{\"marker\":{\"colorbar\":{\"outlinewidth\":0,\"ticks\":\"\"}},\"type\":\"scatterpolargl\"}],\"scatterternary\":[{\"marker\":{\"colorbar\":{\"outlinewidth\":0,\"ticks\":\"\"}},\"type\":\"scatterternary\"}],\"surface\":[{\"colorbar\":{\"outlinewidth\":0,\"ticks\":\"\"},\"colorscale\":[[0.0,\"#0d0887\"],[0.1111111111111111,\"#46039f\"],[0.2222222222222222,\"#7201a8\"],[0.3333333333333333,\"#9c179e\"],[0.4444444444444444,\"#bd3786\"],[0.5555555555555556,\"#d8576b\"],[0.6666666666666666,\"#ed7953\"],[0.7777777777777778,\"#fb9f3a\"],[0.8888888888888888,\"#fdca26\"],[1.0,\"#f0f921\"]],\"type\":\"surface\"}],\"table\":[{\"cells\":{\"fill\":{\"color\":\"#EBF0F8\"},\"line\":{\"color\":\"white\"}},\"header\":{\"fill\":{\"color\":\"#C8D4E3\"},\"line\":{\"color\":\"white\"}},\"type\":\"table\"}]},\"layout\":{\"annotationdefaults\":{\"arrowcolor\":\"#2a3f5f\",\"arrowhead\":0,\"arrowwidth\":1},\"autotypenumbers\":\"strict\",\"coloraxis\":{\"colorbar\":{\"outlinewidth\":0,\"ticks\":\"\"}},\"colorscale\":{\"diverging\":[[0,\"#8e0152\"],[0.1,\"#c51b7d\"],[0.2,\"#de77ae\"],[0.3,\"#f1b6da\"],[0.4,\"#fde0ef\"],[0.5,\"#f7f7f7\"],[0.6,\"#e6f5d0\"],[0.7,\"#b8e186\"],[0.8,\"#7fbc41\"],[0.9,\"#4d9221\"],[1,\"#276419\"]],\"sequential\":[[0.0,\"#0d0887\"],[0.1111111111111111,\"#46039f\"],[0.2222222222222222,\"#7201a8\"],[0.3333333333333333,\"#9c179e\"],[0.4444444444444444,\"#bd3786\"],[0.5555555555555556,\"#d8576b\"],[0.6666666666666666,\"#ed7953\"],[0.7777777777777778,\"#fb9f3a\"],[0.8888888888888888,\"#fdca26\"],[1.0,\"#f0f921\"]],\"sequentialminus\":[[0.0,\"#0d0887\"],[0.1111111111111111,\"#46039f\"],[0.2222222222222222,\"#7201a8\"],[0.3333333333333333,\"#9c179e\"],[0.4444444444444444,\"#bd3786\"],[0.5555555555555556,\"#d8576b\"],[0.6666666666666666,\"#ed7953\"],[0.7777777777777778,\"#fb9f3a\"],[0.8888888888888888,\"#fdca26\"],[1.0,\"#f0f921\"]]},\"colorway\":[\"#636efa\",\"#EF553B\",\"#00cc96\",\"#ab63fa\",\"#FFA15A\",\"#19d3f3\",\"#FF6692\",\"#B6E880\",\"#FF97FF\",\"#FECB52\"],\"font\":{\"color\":\"#2a3f5f\"},\"geo\":{\"bgcolor\":\"white\",\"lakecolor\":\"white\",\"landcolor\":\"#E5ECF6\",\"showlakes\":true,\"showland\":true,\"subunitcolor\":\"white\"},\"hoverlabel\":{\"align\":\"left\"},\"hovermode\":\"closest\",\"mapbox\":{\"style\":\"light\"},\"paper_bgcolor\":\"white\",\"plot_bgcolor\":\"#E5ECF6\",\"polar\":{\"angularaxis\":{\"gridcolor\":\"white\",\"linecolor\":\"white\",\"ticks\":\"\"},\"bgcolor\":\"#E5ECF6\",\"radialaxis\":{\"gridcolor\":\"white\",\"linecolor\":\"white\",\"ticks\":\"\"}},\"scene\":{\"xaxis\":{\"backgroundcolor\":\"#E5ECF6\",\"gridcolor\":\"white\",\"gridwidth\":2,\"linecolor\":\"white\",\"showbackground\":true,\"ticks\":\"\",\"zerolinecolor\":\"white\"},\"yaxis\":{\"backgroundcolor\":\"#E5ECF6\",\"gridcolor\":\"white\",\"gridwidth\":2,\"linecolor\":\"white\",\"showbackground\":true,\"ticks\":\"\",\"zerolinecolor\":\"white\"},\"zaxis\":{\"backgroundcolor\":\"#E5ECF6\",\"gridcolor\":\"white\",\"gridwidth\":2,\"linecolor\":\"white\",\"showbackground\":true,\"ticks\":\"\",\"zerolinecolor\":\"white\"}},\"shapedefaults\":{\"line\":{\"color\":\"#2a3f5f\"}},\"ternary\":{\"aaxis\":{\"gridcolor\":\"white\",\"linecolor\":\"white\",\"ticks\":\"\"},\"baxis\":{\"gridcolor\":\"white\",\"linecolor\":\"white\",\"ticks\":\"\"},\"bgcolor\":\"#E5ECF6\",\"caxis\":{\"gridcolor\":\"white\",\"linecolor\":\"white\",\"ticks\":\"\"}},\"title\":{\"x\":0.05},\"xaxis\":{\"automargin\":true,\"gridcolor\":\"white\",\"linecolor\":\"white\",\"ticks\":\"\",\"title\":{\"standoff\":15},\"zerolinecolor\":\"white\",\"zerolinewidth\":2},\"yaxis\":{\"automargin\":true,\"gridcolor\":\"white\",\"linecolor\":\"white\",\"ticks\":\"\",\"title\":{\"standoff\":15},\"zerolinecolor\":\"white\",\"zerolinewidth\":2}}},\"xaxis\":{\"anchor\":\"y\",\"domain\":[0.0,1.0],\"title\":{\"text\":\"polarity\"}},\"yaxis\":{\"anchor\":\"x\",\"domain\":[0.0,1.0],\"title\":{\"text\":\"sum of subjectivity\"}},\"legend\":{\"tracegroupgap\":0},\"margin\":{\"t\":60},\"barmode\":\"relative\",\"title\":{\"text\":\"Polarity distribution to the retweet count\"},\"height\":600,\"width\":1300},                        {\"responsive\": true}                    ).then(function(){\n",
              "                            \n",
              "var gd = document.getElementById('2173681c-879c-41a8-9b13-e6a323666dfb');\n",
              "var x = new MutationObserver(function (mutations, observer) {{\n",
              "        var display = window.getComputedStyle(gd).display;\n",
              "        if (!display || display === 'none') {{\n",
              "            console.log([gd, 'removed!']);\n",
              "            Plotly.purge(gd);\n",
              "            observer.disconnect();\n",
              "        }}\n",
              "}});\n",
              "\n",
              "// Listen for the removal of the full notebook cells\n",
              "var notebookContainer = gd.closest('#notebook-container');\n",
              "if (notebookContainer) {{\n",
              "    x.observe(notebookContainer, {childList: true});\n",
              "}}\n",
              "\n",
              "// Listen for the clearing of the current output cell\n",
              "var outputEl = gd.closest('.output');\n",
              "if (outputEl) {{\n",
              "    x.observe(outputEl, {childList: true});\n",
              "}}\n",
              "\n",
              "                        })                };                            </script>        </div>\n",
              "</body>\n",
              "</html>"
            ]
          },
          "metadata": {}
        }
      ]
    },
    {
      "cell_type": "code",
      "source": [
        "nltk.download('stopwords')\n",
        "stopwords_set = nltk.corpus.stopwords.words('english')\n",
        "stopwords_set.extend(['from', 'subject', 're', 'edu', 'use'])"
      ],
      "metadata": {
        "colab": {
          "base_uri": "https://localhost:8080/"
        },
        "id": "HiTwonrGxgN_",
        "outputId": "4b199aa5-8aea-476c-d713-12426bfd264c"
      },
      "execution_count": 81,
      "outputs": [
        {
          "output_type": "stream",
          "name": "stdout",
          "text": [
            "[nltk_data] Downloading package stopwords to /root/nltk_data...\n",
            "[nltk_data]   Package stopwords is already up-to-date!\n"
          ]
        }
      ]
    },
    {
      "cell_type": "code",
      "source": [
        "#Tokeninzing words and clean-up text\n",
        "def sent_to_words(sentences):\n",
        "  for sentence in sentences:\n",
        "    yield(gensim.utils.simple_preprocess(str(sentence), deacc=True))  # deacc=True removes punctuations\n",
        "\n",
        "data_words = list(sent_to_words(tweet_df_2['original_text']))\n",
        "\n",
        "print(data_words[:1])"
      ],
      "metadata": {
        "colab": {
          "base_uri": "https://localhost:8080/"
        },
        "id": "XSwUEeZjyPyT",
        "outputId": "188f8e88-5a2d-40fc-be78-2c900cee3ce0"
      },
      "execution_count": 82,
      "outputs": [
        {
          "output_type": "stream",
          "name": "stdout",
          "text": [
            "[['the', 'year', 'yield', 'is', 'telling', 'us', 'that', 'there', 'high', 'risk', 'of', 'something', 'breaking', 'in', 'the', 'system', 'gold', 'silver', 'crypto']]\n"
          ]
        }
      ]
    },
    {
      "cell_type": "markdown",
      "source": [
        "##Creating Bigram and Trigram Model"
      ],
      "metadata": {
        "id": "zCkZ54j50Q7S"
      }
    },
    {
      "cell_type": "code",
      "source": [
        "# Build the bigram and trigram models\n",
        "bigram = gensim.models.Phrases(data_words, min_count=5, threshold=100) # higher threshold fewer phrases.\n",
        "trigram = gensim.models.Phrases(bigram[data_words], threshold=100)  \n",
        "\n",
        "# Faster way to get a sentence clubbed as a trigram/bigram\n",
        "bigram_mod = gensim.models.phrases.Phraser(bigram)\n",
        "trigram_mod = gensim.models.phrases.Phraser(trigram)\n",
        "\n",
        "# trigram\n",
        "print(trigram_mod[bigram_mod[data_words[0]]])"
      ],
      "metadata": {
        "colab": {
          "base_uri": "https://localhost:8080/"
        },
        "id": "LLib3ZId0Nsr",
        "outputId": "0afd3a99-719f-4543-dd22-5429c482b958"
      },
      "execution_count": 83,
      "outputs": [
        {
          "output_type": "stream",
          "name": "stdout",
          "text": [
            "['the', 'year', 'yield', 'is', 'telling', 'us', 'that', 'there', 'high', 'risk', 'of', 'something', 'breaking', 'in', 'the', 'system_gold_silver', 'crypto']\n"
          ]
        }
      ]
    },
    {
      "cell_type": "code",
      "source": [
        "# Define functions to remove stopwords, make bigrams, trigrams and lemmatization\n",
        "def remove_stopwords(texts):\n",
        "    return [[word for word in simple_preprocess(str(doc)) if word not in stopwords_set] for doc in texts]\n",
        "\n",
        "def make_bigrams(texts):\n",
        "    return [bigram_mod[doc] for doc in texts]\n",
        "\n",
        "def make_trigrams(texts):\n",
        "    return [trigram_mod[bigram_mod[doc]] for doc in texts]\n",
        "\n",
        "def lemmatization(texts, allowed_postags=['NOUN', 'ADJ', 'VERB', 'ADV']):\n",
        "    \"\"\"https://spacy.io/api/annotation\"\"\"\n",
        "    texts_out = []\n",
        "    for sent in texts:\n",
        "        doc = nlp(\" \".join(sent)) \n",
        "        texts_out.append([token.lemma_ for token in doc if token.pos_ in allowed_postags])\n",
        "    return texts_out\n",
        "\n",
        "# Remove Stop Words\n",
        "data_words_nostops = remove_stopwords(data_words)\n",
        "\n",
        "# Form Bigrams\n",
        "data_words_bigrams = make_bigrams(data_words_nostops)\n",
        "\n",
        "# Initialize spacy 'en' model, keeping only tagger component (for efficiency)\n",
        "nlp = spacy.load('en', disable=['parser', 'ner'])\n",
        "\n",
        "# Do lemmatization keeping only noun, adj, vb, adv\n",
        "data_lemmatized = lemmatization(data_words_bigrams, allowed_postags=['NOUN', 'ADJ', 'VERB', 'ADV'])"
      ],
      "metadata": {
        "id": "r82Uq0uZz7t-"
      },
      "execution_count": null,
      "outputs": []
    },
    {
      "cell_type": "code",
      "source": [
        "print(data_lemmatized[:1])"
      ],
      "metadata": {
        "colab": {
          "base_uri": "https://localhost:8080/"
        },
        "id": "esTLqOe4fJ71",
        "outputId": "2f0db68e-40e5-486b-e82c-b9ddccdf3ca4"
      },
      "execution_count": 85,
      "outputs": [
        {
          "output_type": "stream",
          "name": "stdout",
          "text": [
            "[['year', 'yield', 'tell', 'high', 'risk', 'break', 'system']]\n"
          ]
        }
      ]
    },
    {
      "cell_type": "code",
      "source": [
        "# Create Dictionary\n",
        "id2word = corpora.Dictionary(data_lemmatized)\n",
        "\n",
        "# Create Corpus\n",
        "texts = data_lemmatized\n",
        "\n",
        "# Term Document Frequency\n",
        "corpus = [id2word.doc2bow(text) for text in texts]\n",
        "\n",
        "# View\n",
        "print(corpus[:1])\n"
      ],
      "metadata": {
        "colab": {
          "base_uri": "https://localhost:8080/"
        },
        "id": "cnB2fqZyWCk-",
        "outputId": "e8b990f0-6e07-4fe5-916c-cb9bec5bf5e7"
      },
      "execution_count": 86,
      "outputs": [
        {
          "output_type": "stream",
          "name": "stdout",
          "text": [
            "[[(0, 1), (1, 1), (2, 1), (3, 1), (4, 1), (5, 1), (6, 1)]]\n"
          ]
        }
      ]
    },
    {
      "cell_type": "code",
      "source": [
        "# Human readable format of corpus (term-frequency)\n",
        "read_format = [[(id2word[id], freq) for id, freq in cp] for cp in corpus]"
      ],
      "metadata": {
        "id": "fTzoPt_GWCjE"
      },
      "execution_count": 87,
      "outputs": []
    },
    {
      "cell_type": "markdown",
      "metadata": {
        "id": "UiOucOjxYYZl"
      },
      "source": [
        "### Topic Modeling using Latent Dirichlet Allocation \n",
        "based on the distributional hypothesis, (i.e. similar topics make use of similar words) and the statistical mixture hypothesis (i.e. documents talk about several topics) for which a statistical distribution can be determined. \n",
        "\n",
        "*  The purpose of LDA is mapping each teweets in our corpus to a set of topics \n",
        "which covers a good deal of the words in the tweet\n",
        "\n"
      ]
    },
    {
      "cell_type": "code",
      "metadata": {
        "id": "aHqC02L_NUMG"
      },
      "source": [
        "# Build LDA model\n",
        "lda_model = gensim.models.ldamodel.LdaModel(corpus = corpus,\n",
        "                                           id2word=id2word,\n",
        "                                           num_topics=5, \n",
        "                                           random_state=100, \n",
        "                                           update_every=1,\n",
        "                                           chunksize=100,\n",
        "                                           passes=10,\n",
        "                                           alpha='auto',\n",
        "                                           per_word_topics=True)"
      ],
      "execution_count": null,
      "outputs": []
    },
    {
      "cell_type": "code",
      "metadata": {
        "colab": {
          "base_uri": "https://localhost:8080/"
        },
        "id": "aa5pVKgnmpzn",
        "outputId": "fbdfa99a-0fd1-4333-ddc7-77e4d13cc6e0"
      },
      "source": [
        "pprint(lda_model.show_topics(formatted=False))"
      ],
      "execution_count": 71,
      "outputs": [
        {
          "output_type": "stream",
          "name": "stdout",
          "text": [
            "[(0,\n",
            "  [('level', 0.023767931),\n",
            "   ('government', 0.01615424),\n",
            "   ('want', 0.014647724),\n",
            "   ('even', 0.01436198),\n",
            "   ('may', 0.011875476),\n",
            "   ('story', 0.0113919005),\n",
            "   ('start', 0.011198992),\n",
            "   ('life', 0.01066228),\n",
            "   ('world', 0.010436555),\n",
            "   ('report', 0.009116626)]),\n",
            " (1,\n",
            "  [('take', 0.022599876),\n",
            "   ('power', 0.015510931),\n",
            "   ('state', 0.013746052),\n",
            "   ('thank', 0.012571241),\n",
            "   ('price', 0.0123921),\n",
            "   ('tell', 0.01051736),\n",
            "   ('big', 0.010495168),\n",
            "   ('tamil', 0.009828248),\n",
            "   ('would', 0.009554321),\n",
            "   ('watch', 0.009429148)]),\n",
            " (2,\n",
            "  [('year', 0.014608484),\n",
            "   ('amp', 0.01384011),\n",
            "   ('today', 0.012212249),\n",
            "   ('follow', 0.011946685),\n",
            "   ('give', 0.01106696),\n",
            "   ('high', 0.010144731),\n",
            "   ('new', 0.009623735),\n",
            "   ('still', 0.008687857),\n",
            "   ('many', 0.008054487),\n",
            "   ('become', 0.007511882)]),\n",
            " (3,\n",
            "  [('go', 0.029821087),\n",
            "   ('say', 0.022441491),\n",
            "   ('people', 0.021179715),\n",
            "   ('make', 0.019301184),\n",
            "   ('read', 0.01667678),\n",
            "   ('know', 0.015361498),\n",
            "   ('day', 0.014921448),\n",
            "   ('get', 0.012954676),\n",
            "   ('need', 0.011493552),\n",
            "   ('work', 0.011317436)]),\n",
            " (4,\n",
            "  [('time', 0.018209822),\n",
            "   ('country', 0.015402126),\n",
            "   ('come', 0.012110362),\n",
            "   ('think', 0.011938482),\n",
            "   ('never', 0.011344027),\n",
            "   ('see', 0.011026678),\n",
            "   ('also', 0.011011893),\n",
            "   ('part', 0.009455116),\n",
            "   ('live', 0.008975147),\n",
            "   ('ask', 0.0087227775)])]\n"
          ]
        }
      ]
    },
    {
      "cell_type": "markdown",
      "metadata": {
        "id": "0dDmumROo4zX"
      },
      "source": [
        "Each line is a topic with individual topic terms and weights. Topic0  can be termed as climate change, and Topic4 can be termed as government and carbon emission."
      ]
    },
    {
      "cell_type": "markdown",
      "metadata": {
        "id": "1pLR7-4AtZzT"
      },
      "source": [
        "# **Model Analysis**\n",
        "\n",
        "Perplexity is also a measure of model quality and in natural language processing is often used as “perplexity per number of words”. It describes how well a model predicts a sample, i.e. how much it is “perplexed” by a sample from the observed data. The lower the score, the better the model for the given data.\n",
        "\n",
        "A coherence matrix is used to test the model for accuracy. Topic coherence is a measure that compares different topic models based on their human-interpretability. The coherence score ‘C_V’ provides a numerical value to the interpretability of the topics"
      ]
    },
    {
      "cell_type": "code",
      "metadata": {
        "id": "JWDGb45QqRoZ"
      },
      "source": [
        "# Compute Perplexity\n",
        "\n",
        "#It's a measure of how good the model is. The lower the better. Perplexity is a negative value\n",
        "print('\\nPerplexity: ', lda_model.log_perplexity(corpus))  \n",
        "doc_lda = lda_model[corpus]\n",
        "\n",
        "\n",
        "# Compute Coherence Score\n",
        "coherence_model_lda = CoherenceModel(model=lda_model, texts=data_lemmatized, dictionary=id2word, coherence='c_v')\n",
        "coherence_lda = coherence_model_lda.get_coherence()\n",
        "print('\\n Ldamodel Coherence Score/Accuracy on Tweets: ', coherence_lda)"
      ],
      "execution_count": null,
      "outputs": []
    },
    {
      "cell_type": "markdown",
      "metadata": {
        "id": "_KR1oX1q5dUD"
      },
      "source": [
        "Basic Ldamodel Coherence Score 0.58 This means that the model has performed reasonably well in topic modeling."
      ]
    },
    {
      "cell_type": "code",
      "metadata": {
        "id": "yAyoNCIWlGql"
      },
      "source": [
        "!pip install pyLDAvis "
      ],
      "execution_count": null,
      "outputs": []
    },
    {
      "cell_type": "markdown",
      "metadata": {
        "id": "eylzfskkr8f7"
      },
      "source": [
        "**Anlayizing results**\n",
        "Exploring the Intertopic Distance Plot can help you learn about how topics relate to each other, including potential higher-level structure between groups of topics"
      ]
    },
    {
      "cell_type": "code",
      "metadata": {
        "colab": {
          "base_uri": "https://localhost:8080/",
          "height": 861
        },
        "id": "6gJXbv8Jkjg-",
        "outputId": "6ce0e520-3df5-4ac9-e763-8841b01a5f4b"
      },
      "source": [
        "import pyLDAvis.gensim_models as gensimvis\n",
        "import pickle \n",
        "import pyLDAvis\n",
        "# Visualize the topics\n",
        "pyLDAvis.enable_notebook()\n",
        "\n",
        "LDAvis_prepared = gensimvis.prepare(lda_model, corpus, id2word)\n",
        "LDAvis_prepared"
      ],
      "execution_count": 90,
      "outputs": [
        {
          "output_type": "execute_result",
          "data": {
            "text/plain": [
              "PreparedData(topic_coordinates=              x         y  topics  cluster       Freq\n",
              "topic                                                \n",
              "3      0.285469 -0.014746       1        1  25.583812\n",
              "2     -0.058039  0.254391       2        1  22.494777\n",
              "1     -0.086427 -0.121478       3        1  18.596162\n",
              "4     -0.065246 -0.045373       4        1  17.388663\n",
              "0     -0.075757 -0.072794       5        1  15.936585, topic_info=         Term        Freq       Total Category  logprob  loglift\n",
              "10         go  703.000000  703.000000  Default  30.0000  30.0000\n",
              "100       say  529.000000  529.000000  Default  29.0000  29.0000\n",
              "186    people  499.000000  499.000000  Default  28.0000  28.0000\n",
              "701      take  387.000000  387.000000  Default  27.0000  27.0000\n",
              "18      level  349.000000  349.000000  Default  26.0000  26.0000\n",
              "...       ...         ...         ...      ...      ...      ...\n",
              "3964   detail   79.909300   80.673505   Topic5  -5.2134   1.8270\n",
              "1037     ever   74.469783   75.210021   Topic5  -5.2839   1.8267\n",
              "248   believe   76.273382   77.033819   Topic5  -5.2600   1.8266\n",
              "1251   policy   68.573544   69.314811   Topic5  -5.3664   1.8258\n",
              "406     close   68.682980   69.432659   Topic5  -5.3648   1.8257\n",
              "\n",
              "[184 rows x 6 columns], token_table=      Topic      Freq    Term\n",
              "term                         \n",
              "825       4  0.993653    also\n",
              "767       3  0.997229  always\n",
              "440       2  0.998163     amp\n",
              "487       4  0.996762     ask\n",
              "1181      5  0.989705  attack\n",
              "...     ...       ...     ...\n",
              "176       1  0.998308    work\n",
              "53        5  0.993721   world\n",
              "109       3  0.997559   would\n",
              "302       4  0.991074   write\n",
              "5         2  0.998553    year\n",
              "\n",
              "[161 rows x 3 columns], R=30, lambda_step=0.01, plot_opts={'xlab': 'PC1', 'ylab': 'PC2'}, topic_order=[4, 3, 2, 5, 1])"
            ],
            "text/html": [
              "\n",
              "<link rel=\"stylesheet\" type=\"text/css\" href=\"https://cdn.jsdelivr.net/gh/bmabey/pyLDAvis@3.3.1/pyLDAvis/js/ldavis.v1.0.0.css\">\n",
              "\n",
              "\n",
              "<div id=\"ldavis_el581397664474140962819390161\"></div>\n",
              "<script type=\"text/javascript\">\n",
              "\n",
              "var ldavis_el581397664474140962819390161_data = {\"mdsDat\": {\"x\": [0.2854686271055721, -0.05803874882789519, -0.08642653501392356, -0.06524640975035806, -0.07575693351339476], \"y\": [-0.01474581705044203, 0.25439057300661505, -0.12147793154490362, -0.04537302378026024, -0.07279380063100914], \"topics\": [1, 2, 3, 4, 5], \"cluster\": [1, 1, 1, 1, 1], \"Freq\": [25.58381195780272, 22.4947772017219, 18.59616198174926, 17.388663459050743, 15.93658539967538]}, \"tinfo\": {\"Term\": [\"go\", \"say\", \"people\", \"take\", \"level\", \"make\", \"read\", \"time\", \"know\", \"day\", \"year\", \"power\", \"government\", \"country\", \"amp\", \"get\", \"state\", \"want\", \"even\", \"follow\", \"need\", \"thank\", \"work\", \"price\", \"good\", \"give\", \"come\", \"think\", \"protest\", \"today\", \"go\", \"say\", \"people\", \"make\", \"read\", \"know\", \"day\", \"get\", \"need\", \"work\", \"good\", \"protest\", \"last\", \"police\", \"let\", \"show\", \"face\", \"week\", \"call\", \"public\", \"change\", \"stop\", \"must\", \"person\", \"man\", \"back\", \"crisis\", \"could\", \"help\", \"order\", \"today\", \"year\", \"amp\", \"follow\", \"give\", \"high\", \"new\", \"still\", \"many\", \"become\", \"support\", \"right\", \"well\", \"increase\", \"continue\", \"way\", \"buy\", \"month\", \"fuel\", \"stock\", \"food\", \"learn\", \"inflation\", \"hour\", \"set\", \"word\", \"use\", \"great\", \"thing\", \"congratulation\", \"understand\", \"today\", \"take\", \"power\", \"state\", \"thank\", \"price\", \"big\", \"tell\", \"would\", \"watch\", \"share\", \"find\", \"look\", \"join\", \"issue\", \"russian\", \"rise\", \"check\", \"always\", \"child\", \"break\", \"reach\", \"fall\", \"pay\", \"woman\", \"http\", \"business\", \"video\", \"official\", \"war\", \"vote\", \"tamil\", \"time\", \"country\", \"come\", \"think\", \"never\", \"see\", \"also\", \"part\", \"live\", \"ask\", \"try\", \"lose\", \"first\", \"kill\", \"company\", \"question\", \"fire\", \"political\", \"party\", \"seem\", \"write\", \"nation\", \"poor\", \"happen\", \"stand\", \"trading\", \"case\", \"sign\", \"win\", \"hike\", \"poster\", \"level\", \"government\", \"want\", \"even\", \"may\", \"story\", \"start\", \"life\", \"world\", \"report\", \"leader\", \"love\", \"target\", \"delivery\", \"open\", \"large\", \"really\", \"bring\", \"late\", \"talk\", \"meet\", \"award\", \"attack\", \"demand\", \"keep\", \"detail\", \"ever\", \"believe\", \"policy\", \"close\"], \"Freq\": [703.0, 529.0, 499.0, 387.0, 349.0, 455.0, 393.0, 292.0, 362.0, 352.0, 303.0, 266.0, 237.0, 247.0, 287.0, 306.0, 236.0, 215.0, 211.0, 248.0, 271.0, 216.0, 267.0, 213.0, 254.0, 230.0, 194.0, 191.0, 247.0, 424.0, 702.8252646404078, 528.9024965303925, 499.1648722479986, 454.8915190253635, 393.0394062981308, 362.04076303859614, 351.6696386595773, 305.3166170926813, 270.88075274450915, 266.7300421975343, 253.35592308668242, 246.67790671272562, 184.81951643719157, 182.1943050011247, 178.13187522082163, 170.86313277191763, 156.29724526046638, 149.733563673579, 150.7023144884577, 134.53584970538225, 131.5828119663252, 130.58555976519008, 130.98108920711584, 128.82835107860572, 127.70096047229981, 122.34473018203045, 125.40139136699932, 123.02315536270538, 122.08310347930936, 121.03589428539826, 170.40881167570785, 302.7230453395951, 286.80048716180096, 247.56414336624755, 229.33412804923697, 210.22331418104207, 199.4270232563774, 180.03335955435273, 166.90842091203652, 155.6643294487288, 152.52412889521648, 148.17725227488575, 149.32302955276785, 150.05285005741487, 140.05880007963566, 122.82293746903586, 115.02291327823956, 112.39999056971489, 111.53464106956638, 115.63013528606592, 112.27531740332977, 109.92590369078187, 106.66483192348159, 102.05884354898885, 99.01361461339928, 99.43208028936347, 95.43918089523285, 94.67443839452176, 93.33295705414301, 93.22612604601223, 92.97677971324198, 253.06728640779323, 387.1578066331277, 265.71729509538045, 235.48321142963445, 215.35755421597736, 212.2886979760617, 179.79241554288598, 180.17257840393015, 163.6747897822647, 161.53046256164518, 159.75753920380257, 156.3351800046727, 146.37203486082066, 145.57169535429807, 140.570498797183, 124.61621479295633, 116.40707101797601, 113.97607406900156, 102.56226969481366, 103.37617049191405, 101.97171537629971, 103.17577450332308, 99.73366368332817, 93.90117596825415, 92.94162691034832, 100.56124542945263, 83.98221669999646, 75.34039596051691, 74.20616950273939, 74.75634308425055, 73.48270655933335, 168.3674270925863, 291.6960576935603, 246.7206628177797, 193.99117193766068, 191.2378893169315, 181.71554899958522, 176.63205732341234, 176.39522623455494, 151.45781514674584, 143.76939035205467, 139.7267769058452, 134.07223512452063, 130.09532272494596, 122.22968860181433, 104.284605388628, 99.14851110336465, 99.87236388112244, 98.9466788009299, 97.43359294639589, 88.56954608586352, 85.91571760396067, 85.02368864575, 82.24567862157005, 82.00565497504239, 79.8655746636581, 78.36894390777036, 85.77023991180364, 76.19749000395348, 74.30808514366024, 72.17712749122624, 73.72686808499319, 94.31145802604753, 348.93561965385874, 237.1594707893911, 215.04238650718676, 210.84739932607107, 174.34316956115666, 167.24382901722433, 164.4117495075093, 156.53231348708934, 153.21846298080052, 133.84066164361184, 132.86663269523743, 121.81971234284815, 128.6365340395162, 126.09565553686862, 112.64079627201475, 91.62019357314098, 90.09224966567085, 89.245554503512, 89.06492456152833, 88.60447612906954, 88.48719860826378, 88.30334874717201, 85.1390364798867, 84.82496105809373, 81.3944893202441, 79.90929992254485, 74.46978324258886, 76.27338230563636, 68.57354393890851, 68.68298017050621], \"Total\": [703.0, 529.0, 499.0, 387.0, 349.0, 455.0, 393.0, 292.0, 362.0, 352.0, 303.0, 266.0, 237.0, 247.0, 287.0, 306.0, 236.0, 215.0, 211.0, 248.0, 271.0, 216.0, 267.0, 213.0, 254.0, 230.0, 194.0, 191.0, 247.0, 424.0, 703.5489744045592, 529.6260813364757, 499.8869261880789, 455.6122858334507, 393.7753874850529, 362.7641185396926, 352.3906166535421, 306.0357391305412, 271.60623428192616, 267.4526370007397, 254.071488098829, 247.41137977207174, 185.53850427631423, 182.92638911478699, 178.8518115420437, 171.58711375114376, 157.0313729768476, 150.44889752596444, 151.4246665733597, 135.271765565035, 132.30689474413055, 131.3078247320514, 131.70728545263478, 129.5551017707764, 128.4220487651922, 123.06034557106496, 126.13520986046206, 123.74415166537217, 122.79890909108896, 121.76421379598168, 424.0092283095291, 303.4390500912895, 287.5281362918097, 248.2941109419906, 230.05124617848688, 210.94142678421125, 200.1403692100276, 180.7541872239225, 167.6276558843551, 156.38770718610178, 153.24751228294164, 148.8934428592468, 150.04503867104324, 150.77873439073562, 140.778796545496, 123.54021406946055, 115.74008620994539, 113.11578623271237, 112.24882085193941, 116.37071160777293, 112.99897806764577, 110.66045065406963, 107.37767781309786, 102.79295433948546, 99.73098107495844, 100.16098874875367, 96.15306088107903, 95.3861797917267, 94.04779733561308, 93.96361067608366, 93.7256260517468, 424.0092283095291, 387.8819598719923, 266.4558723122344, 236.21100850256227, 216.08731024099112, 213.01176105254808, 180.51838290710668, 180.90660718755944, 164.40127974786853, 162.26231491283838, 160.48893907156642, 157.05790881629488, 147.09306373582862, 146.29920560415988, 141.29770086991525, 125.35357422274781, 117.13003473324612, 114.71016048849644, 103.28619524708344, 104.1075925577326, 102.69862426593644, 103.92964576232171, 100.46881832414526, 94.62844962801556, 93.6620158750764, 101.37525446943819, 84.71119872394063, 76.0678607081477, 74.93597743421302, 75.49564239898474, 74.21011921469011, 171.16010978959147, 292.4196910490098, 247.4547622847289, 194.71373997468302, 191.96580138278247, 182.44722770069953, 177.35363874341195, 177.12426226878944, 152.19656233775714, 144.49378151184052, 140.45485889631965, 134.7984538717129, 130.83165936428045, 122.95626319768462, 105.02534771245733, 99.87583897349606, 100.61270810774231, 99.68425163227293, 98.16554853271481, 89.30157635038454, 86.65289680114353, 85.76552435498064, 82.98598486110966, 82.74544827747194, 80.59992804716873, 79.09891208393142, 86.57829154799822, 76.9308072684133, 75.04684868769515, 72.90545573494686, 74.47639348891488, 245.89086295049879, 349.80249973814125, 237.9082379155671, 215.789515803858, 211.59878749357745, 175.07866951115517, 167.9948865558057, 165.15722347841125, 157.28016525827164, 153.96671271183956, 134.58612696360788, 133.61377806329693, 122.56359746051389, 129.43584133243698, 126.90672791811227, 113.40063024505412, 92.37266936218826, 90.83490373712793, 89.98466899705369, 89.8115331566026, 89.34865770371948, 89.23726829625005, 89.06918216947317, 85.88413510592594, 85.5798822479407, 82.12930465955424, 80.67350519031557, 75.2100206397837, 77.03381877943987, 69.31481079684582, 69.43265861675617], \"Category\": [\"Default\", \"Default\", \"Default\", \"Default\", \"Default\", \"Default\", \"Default\", \"Default\", \"Default\", \"Default\", \"Default\", \"Default\", \"Default\", \"Default\", \"Default\", \"Default\", \"Default\", \"Default\", \"Default\", \"Default\", \"Default\", \"Default\", \"Default\", \"Default\", \"Default\", \"Default\", \"Default\", \"Default\", \"Default\", \"Default\", \"Topic1\", \"Topic1\", \"Topic1\", \"Topic1\", \"Topic1\", \"Topic1\", \"Topic1\", \"Topic1\", \"Topic1\", \"Topic1\", \"Topic1\", \"Topic1\", \"Topic1\", \"Topic1\", \"Topic1\", \"Topic1\", \"Topic1\", \"Topic1\", \"Topic1\", \"Topic1\", \"Topic1\", \"Topic1\", \"Topic1\", \"Topic1\", \"Topic1\", \"Topic1\", \"Topic1\", \"Topic1\", \"Topic1\", \"Topic1\", \"Topic1\", \"Topic2\", \"Topic2\", \"Topic2\", \"Topic2\", \"Topic2\", \"Topic2\", \"Topic2\", \"Topic2\", \"Topic2\", \"Topic2\", \"Topic2\", \"Topic2\", \"Topic2\", \"Topic2\", \"Topic2\", \"Topic2\", \"Topic2\", \"Topic2\", \"Topic2\", \"Topic2\", \"Topic2\", \"Topic2\", \"Topic2\", \"Topic2\", \"Topic2\", \"Topic2\", \"Topic2\", \"Topic2\", \"Topic2\", \"Topic2\", \"Topic2\", \"Topic3\", \"Topic3\", \"Topic3\", \"Topic3\", \"Topic3\", \"Topic3\", \"Topic3\", \"Topic3\", \"Topic3\", \"Topic3\", \"Topic3\", \"Topic3\", \"Topic3\", \"Topic3\", \"Topic3\", \"Topic3\", \"Topic3\", \"Topic3\", \"Topic3\", \"Topic3\", \"Topic3\", \"Topic3\", \"Topic3\", \"Topic3\", \"Topic3\", \"Topic3\", \"Topic3\", \"Topic3\", \"Topic3\", \"Topic3\", \"Topic3\", \"Topic4\", \"Topic4\", \"Topic4\", \"Topic4\", \"Topic4\", \"Topic4\", \"Topic4\", \"Topic4\", \"Topic4\", \"Topic4\", \"Topic4\", \"Topic4\", \"Topic4\", \"Topic4\", \"Topic4\", \"Topic4\", \"Topic4\", \"Topic4\", \"Topic4\", \"Topic4\", \"Topic4\", \"Topic4\", \"Topic4\", \"Topic4\", \"Topic4\", \"Topic4\", \"Topic4\", \"Topic4\", \"Topic4\", \"Topic4\", \"Topic4\", \"Topic5\", \"Topic5\", \"Topic5\", \"Topic5\", \"Topic5\", \"Topic5\", \"Topic5\", \"Topic5\", \"Topic5\", \"Topic5\", \"Topic5\", \"Topic5\", \"Topic5\", \"Topic5\", \"Topic5\", \"Topic5\", \"Topic5\", \"Topic5\", \"Topic5\", \"Topic5\", \"Topic5\", \"Topic5\", \"Topic5\", \"Topic5\", \"Topic5\", \"Topic5\", \"Topic5\", \"Topic5\", \"Topic5\", \"Topic5\"], \"logprob\": [30.0, 29.0, 28.0, 27.0, 26.0, 25.0, 24.0, 23.0, 22.0, 21.0, 20.0, 19.0, 18.0, 17.0, 16.0, 15.0, 14.0, 13.0, 12.0, 11.0, 10.0, 9.0, 8.0, 7.0, 6.0, 5.0, 4.0, 3.0, 2.0, 1.0, -3.5125, -3.7968, -3.8547, -3.9476, -4.0937, -4.1759, -4.205, -4.3463, -4.466, -4.4814, -4.5329, -4.5596, -4.8483, -4.8626, -4.8851, -4.9268, -5.0159, -5.0588, -5.0523, -5.1658, -5.188, -5.1956, -5.1926, -5.2092, -5.218, -5.2608, -5.2361, -5.2553, -5.2629, -5.2716, -4.9294, -4.2262, -4.2802, -4.4273, -4.5038, -4.5908, -4.6435, -4.7458, -4.8215, -4.8913, -4.9116, -4.9406, -4.9329, -4.928, -4.9969, -5.1282, -5.1938, -5.2169, -5.2246, -5.1886, -5.218, -5.2392, -5.2693, -5.3134, -5.3437, -5.3395, -5.3805, -5.3885, -5.4028, -5.4039, -5.4066, -4.4053, -3.7898, -4.1662, -4.287, -4.3763, -4.3907, -4.5568, -4.5547, -4.6508, -4.6639, -4.675, -4.6966, -4.7625, -4.768, -4.8029, -4.9234, -4.9915, -5.0127, -5.1182, -5.1103, -5.1239, -5.1122, -5.1461, -5.2064, -5.2167, -5.1379, -5.318, -5.4266, -5.4418, -5.4344, -5.4516, -4.6225, -4.0058, -4.1732, -4.4137, -4.428, -4.4791, -4.5074, -4.5088, -4.6612, -4.7133, -4.7418, -4.7831, -4.8132, -4.8756, -5.0344, -5.0849, -5.0776, -5.0869, -5.1023, -5.1977, -5.2281, -5.2386, -5.2718, -5.2747, -5.3012, -5.3201, -5.2298, -5.3482, -5.3733, -5.4024, -5.3811, -5.1349, -3.7394, -4.1256, -4.2235, -4.2432, -4.4333, -4.4749, -4.4919, -4.541, -4.5624, -4.6977, -4.705, -4.7918, -4.7373, -4.7573, -4.8701, -5.0767, -5.0935, -5.1029, -5.1049, -5.1101, -5.1114, -5.1135, -5.15, -5.1537, -5.195, -5.2134, -5.2839, -5.26, -5.3664, -5.3648], \"loglift\": [30.0, 29.0, 28.0, 27.0, 26.0, 25.0, 24.0, 23.0, 22.0, 21.0, 20.0, 19.0, 18.0, 17.0, 16.0, 15.0, 14.0, 13.0, 12.0, 11.0, 10.0, 9.0, 8.0, 7.0, 6.0, 5.0, 4.0, 3.0, 2.0, 1.0, 1.3622, 1.3618, 1.3618, 1.3616, 1.3613, 1.3612, 1.3612, 1.3609, 1.3605, 1.3605, 1.3604, 1.3602, 1.3593, 1.3592, 1.3592, 1.359, 1.3585, 1.3584, 1.3584, 1.3578, 1.3577, 1.3577, 1.3577, 1.3576, 1.3576, 1.3574, 1.3574, 1.3574, 1.3574, 1.3572, 0.4517, 1.4895, 1.4894, 1.4889, 1.4888, 1.4885, 1.4883, 1.4879, 1.4876, 1.4873, 1.4872, 1.4871, 1.4871, 1.4871, 1.4868, 1.4861, 1.4857, 1.4855, 1.4855, 1.4855, 1.4855, 1.4852, 1.4852, 1.4847, 1.4847, 1.4846, 1.4844, 1.4844, 1.4843, 1.484, 1.4839, 0.9758, 1.6803, 1.6794, 1.6791, 1.6788, 1.6788, 1.6782, 1.6781, 1.6778, 1.6777, 1.6776, 1.6776, 1.6773, 1.6772, 1.6771, 1.6763, 1.676, 1.6758, 1.6752, 1.6752, 1.6751, 1.6749, 1.6749, 1.6745, 1.6745, 1.6742, 1.6736, 1.6726, 1.6724, 1.6724, 1.6724, 1.6658, 1.7469, 1.7464, 1.7456, 1.7456, 1.7453, 1.7453, 1.7452, 1.7445, 1.7443, 1.7442, 1.7439, 1.7437, 1.7434, 1.7423, 1.742, 1.742, 1.7419, 1.7419, 1.7411, 1.7408, 1.7407, 1.7404, 1.7404, 1.7402, 1.7401, 1.74, 1.7398, 1.7395, 1.7393, 1.7392, 0.7911, 1.8341, 1.8334, 1.8331, 1.833, 1.8323, 1.8321, 1.832, 1.8318, 1.8317, 1.831, 1.8309, 1.8305, 1.8304, 1.8301, 1.8298, 1.8284, 1.8283, 1.8283, 1.8282, 1.8282, 1.8281, 1.8279, 1.8278, 1.8277, 1.8276, 1.827, 1.8267, 1.8266, 1.8258, 1.8257]}, \"token.table\": {\"Topic\": [4, 3, 2, 4, 5, 5, 1, 2, 5, 3, 3, 5, 3, 2, 1, 4, 1, 3, 3, 5, 4, 4, 2, 2, 1, 4, 1, 1, 5, 5, 5, 5, 5, 1, 3, 3, 4, 4, 2, 2, 2, 1, 2, 1, 1, 5, 2, 4, 1, 2, 4, 2, 3, 2, 2, 3, 3, 5, 4, 1, 5, 1, 5, 5, 2, 1, 5, 5, 4, 3, 4, 5, 1, 1, 2, 5, 5, 2, 1, 4, 1, 4, 2, 3, 5, 1, 4, 4, 3, 1, 1, 1, 5, 4, 4, 1, 2, 3, 4, 5, 3, 3, 1, 1, 4, 3, 1, 5, 5, 2, 3, 3, 1, 4, 4, 2, 3, 1, 4, 4, 5, 3, 2, 2, 1, 5, 2, 3, 5, 1, 2, 3, 4, 5, 3, 3, 2, 4, 4, 1, 2, 4, 4, 2, 2, 3, 3, 5, 3, 3, 2, 1, 2, 4, 3, 2, 1, 5, 3, 4, 2], \"Freq\": [0.993652691876377, 0.9972291045633078, 0.998163183963069, 0.9967615296480742, 0.98970548978766, 0.9879960482017358, 0.9913835316637184, 0.9975208589403999, 0.9865796763574728, 0.9971283649966362, 0.993197335690424, 0.9890573693493729, 0.9916044308821753, 0.9936056189849132, 0.997195525782096, 0.9879007214214496, 0.997680432718763, 0.9938090881795283, 0.9893610779913253, 0.99376865836084, 0.9963344139207854, 0.9912307222397553, 0.9897448526174087, 0.9944679414471035, 0.9939863690093048, 0.998162240724203, 0.9910000557202236, 0.9988915236811593, 0.9928551627404866, 0.9932240821942162, 0.991651469850892, 0.9971701752138082, 0.9839114438542829, 0.9934320578283445, 0.9953336932596072, 0.9932642117530529, 0.9931358101097345, 0.9922227369894352, 0.9988154735491922, 0.9911594061757998, 0.997783309882002, 0.9966156268758553, 0.9954303825954011, 0.9992197069080744, 0.9957827298653353, 0.9961824024105906, 0.995951407294328, 0.9925567173358065, 0.9934941678472375, 0.9955370227718507, 0.993603429669486, 0.9922859076813121, 0.9962983622442958, 0.9948352505153839, 0.9964827157674685, 0.9978930947348582, 0.9979548378070525, 0.9862496746534568, 0.9902371405114071, 0.9978936215004709, 0.9959655884715527, 0.9970976144363423, 0.9909640429454919, 0.9954063265615753, 0.9940317371728926, 0.9952373334399051, 0.9977058490469851, 0.9982186866486847, 0.996582679844945, 0.9925688968054149, 0.9936432865842905, 0.9954015917271402, 0.9986561252791271, 0.9967135801893033, 0.9962556543486588, 0.9938389438635388, 0.9861350720402762, 0.990135892876907, 0.9946298684222056, 0.9881186580750971, 0.997767966248901, 0.9975487284387067, 0.9943021529613004, 0.9875096386774335, 0.9964671250575207, 0.9937238226884778, 0.9921380462253693, 0.9966229448268498, 0.9933587665180398, 0.998225746380602, 0.995715322953792, 0.9949357273203175, 0.9954582463224418, 0.9881267048354915, 0.990991066058737, 0.17487433035954855, 0.17080748546746602, 0.1504732610070534, 0.38228341985575726, 0.12200534676247572, 0.9982891264197764, 0.9952502103754802, 0.9983372641450416, 0.9979909660829824, 0.9939102314283581, 0.991055047330309, 0.9980308889034303, 0.9908085581337313, 0.9956449674507212, 0.993999447913288, 0.9903523060005943, 0.9971793845932185, 0.9988178804659773, 0.9980060248782175, 0.9924653782476328, 0.9926704714314499, 0.9969534406894647, 0.9965783342448707, 0.9860507308967553, 0.9861071150666981, 0.9929932009388465, 0.9948731919386851, 0.9958275532340052, 0.9968143908149122, 0.997655701534318, 0.9940778759627591, 0.9983848854754349, 0.9977262157995609, 0.9960977846485883, 0.005842482814654116, 0.005842482814654116, 0.9815371128618916, 0.005842482814654116, 0.9966327616218943, 0.9949885346828737, 0.994968190220062, 0.9888588848936677, 0.9949688883341432, 0.9985647647478723, 0.40093466993104937, 0.596685126426797, 0.9933205941390328, 0.9940766837543049, 0.9922579759419673, 0.9880080689006342, 0.9859617360313996, 0.9836933395674891, 0.9963412689401665, 0.993434821093841, 0.9983833898032375, 0.9956272208727369, 0.9970162790598917, 0.9930351667719293, 0.987580411838605, 0.9929318639056479, 0.9884087730836412, 0.9983075994096913, 0.9937212875769528, 0.997559144621721, 0.9910742182160263, 0.9985530863903066], \"Term\": [\"also\", \"always\", \"amp\", \"ask\", \"attack\", \"award\", \"back\", \"become\", \"believe\", \"big\", \"break\", \"bring\", \"business\", \"buy\", \"call\", \"case\", \"change\", \"check\", \"child\", \"close\", \"come\", \"company\", \"congratulation\", \"continue\", \"could\", \"country\", \"crisis\", \"day\", \"delivery\", \"demand\", \"detail\", \"even\", \"ever\", \"face\", \"fall\", \"find\", \"fire\", \"first\", \"follow\", \"food\", \"fuel\", \"get\", \"give\", \"go\", \"good\", \"government\", \"great\", \"happen\", \"help\", \"high\", \"hike\", \"hour\", \"http\", \"increase\", \"inflation\", \"issue\", \"join\", \"keep\", \"kill\", \"know\", \"large\", \"last\", \"late\", \"leader\", \"learn\", \"let\", \"level\", \"life\", \"live\", \"look\", \"lose\", \"love\", \"make\", \"man\", \"many\", \"may\", \"meet\", \"month\", \"must\", \"nation\", \"need\", \"never\", \"new\", \"official\", \"open\", \"order\", \"part\", \"party\", \"pay\", \"people\", \"person\", \"police\", \"policy\", \"political\", \"poor\", \"poster\", \"poster\", \"poster\", \"poster\", \"poster\", \"power\", \"price\", \"protest\", \"public\", \"question\", \"reach\", \"read\", \"really\", \"report\", \"right\", \"rise\", \"russian\", \"say\", \"see\", \"seem\", \"set\", \"share\", \"show\", \"sign\", \"stand\", \"start\", \"state\", \"still\", \"stock\", \"stop\", \"story\", \"support\", \"take\", \"talk\", \"tamil\", \"tamil\", \"tamil\", \"tamil\", \"target\", \"tell\", \"thank\", \"thing\", \"think\", \"time\", \"today\", \"today\", \"trading\", \"try\", \"understand\", \"use\", \"video\", \"vote\", \"want\", \"war\", \"watch\", \"way\", \"week\", \"well\", \"win\", \"woman\", \"word\", \"work\", \"world\", \"would\", \"write\", \"year\"]}, \"R\": 30, \"lambda.step\": 0.01, \"plot.opts\": {\"xlab\": \"PC1\", \"ylab\": \"PC2\"}, \"topic.order\": [4, 3, 2, 5, 1]};\n",
              "\n",
              "function LDAvis_load_lib(url, callback){\n",
              "  var s = document.createElement('script');\n",
              "  s.src = url;\n",
              "  s.async = true;\n",
              "  s.onreadystatechange = s.onload = callback;\n",
              "  s.onerror = function(){console.warn(\"failed to load library \" + url);};\n",
              "  document.getElementsByTagName(\"head\")[0].appendChild(s);\n",
              "}\n",
              "\n",
              "if(typeof(LDAvis) !== \"undefined\"){\n",
              "   // already loaded: just create the visualization\n",
              "   !function(LDAvis){\n",
              "       new LDAvis(\"#\" + \"ldavis_el581397664474140962819390161\", ldavis_el581397664474140962819390161_data);\n",
              "   }(LDAvis);\n",
              "}else if(typeof define === \"function\" && define.amd){\n",
              "   // require.js is available: use it to load d3/LDAvis\n",
              "   require.config({paths: {d3: \"https://d3js.org/d3.v5\"}});\n",
              "   require([\"d3\"], function(d3){\n",
              "      window.d3 = d3;\n",
              "      LDAvis_load_lib(\"https://cdn.jsdelivr.net/gh/bmabey/pyLDAvis@3.3.1/pyLDAvis/js/ldavis.v3.0.0.js\", function(){\n",
              "        new LDAvis(\"#\" + \"ldavis_el581397664474140962819390161\", ldavis_el581397664474140962819390161_data);\n",
              "      });\n",
              "    });\n",
              "}else{\n",
              "    // require.js not available: dynamically load d3 & LDAvis\n",
              "    LDAvis_load_lib(\"https://d3js.org/d3.v5.js\", function(){\n",
              "         LDAvis_load_lib(\"https://cdn.jsdelivr.net/gh/bmabey/pyLDAvis@3.3.1/pyLDAvis/js/ldavis.v3.0.0.js\", function(){\n",
              "                 new LDAvis(\"#\" + \"ldavis_el581397664474140962819390161\", ldavis_el581397664474140962819390161_data);\n",
              "            })\n",
              "         });\n",
              "}\n",
              "</script>"
            ]
          },
          "metadata": {},
          "execution_count": 90
        }
      ]
    }
  ]
}